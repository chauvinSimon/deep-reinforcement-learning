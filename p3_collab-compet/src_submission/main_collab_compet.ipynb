{
 "cells": [
  {
   "cell_type": "markdown",
   "metadata": {},
   "source": [
    "# Collaboration and Competition\n",
    "\n",
    "My submission for the third project of the [Deep Reinforcement Learning Nanodegree](https://www.udacity.com/course/deep-reinforcement-learning-nanodegree--nd893) program.\n",
    "\n",
    "This is the central file you want to use. It contains\n",
    "-    all the import statements and instructions to start the environment\n",
    "-    calls to train\n",
    "-    calls to test\n",
    "\n",
    "Description and justification of the model architectures and hyperparameters, plot of rewards and ideas for future works can be found in my [report](../report.ipynb).\n",
    "\n",
    "For more information, I encourage you to have a look at my [description of the project](../README.md) as well.\n",
    "\n",
    "---\n",
    "\n",
    "In this notebook, you will learn how to use the Unity ML-Agents environment for the third project of the [Deep Reinforcement Learning Nanodegree](https://www.udacity.com/course/deep-reinforcement-learning-nanodegree--nd893) program.\n",
    "\n",
    "### 1. Start the Environment\n",
    "\n",
    "We begin by importing the necessary packages.  If the code cell below returns an error, please revisit the project instructions to double-check that you have installed [Unity ML-Agents](https://github.com/Unity-Technologies/ml-agents/blob/master/docs/Installation.md) and [NumPy](http://www.numpy.org/).\n",
    "\n",
    "---"
   ]
  },
  {
   "cell_type": "code",
   "execution_count": null,
   "metadata": {},
   "outputs": [],
   "source": [
    "from unityagents import UnityEnvironment\n",
    "import random\n",
    "import torch\n",
    "import numpy as np\n",
    "import time\n",
    "import os\n",
    "import pickle\n",
    "from itertools import count\n",
    "from collections import deque\n",
    "import matplotlib.pyplot as plt\n",
    "%matplotlib inline\n",
    "\n",
    "from ddpg_agent import Agent"
   ]
  },
  {
   "cell_type": "markdown",
   "metadata": {},
   "source": [
    "Next, we will start the environment!  **_Before running the code cell below_**, change the `file_name` parameter to match the location of the Unity environment that you downloaded.\n",
    "\n",
    "- **Mac**: `\"path/to/Tennis.app\"`\n",
    "- **Windows** (x86): `\"path/to/Tennis_Windows_x86/Tennis.exe\"`\n",
    "- **Windows** (x86_64): `\"path/to/Tennis_Windows_x86_64/Tennis.exe\"`\n",
    "- **Linux** (x86): `\"path/to/Tennis_Linux/Tennis.x86\"`\n",
    "- **Linux** (x86_64): `\"path/to/Tennis_Linux/Tennis.x86_64\"`\n",
    "- **Linux** (x86, headless): `\"path/to/Tennis_Linux_NoVis/Tennis.x86\"`\n",
    "- **Linux** (x86_64, headless): `\"path/to/Tennis_Linux_NoVis/Tennis.x86_64\"`\n",
    "\n",
    "For instance, if you are using a Mac, then you downloaded `Tennis.app`.  If this file is in the same folder as the notebook, then the line below should appear as follows:\n",
    "```\n",
    "env = UnityEnvironment(file_name=\"Tennis.app\")\n",
    "```"
   ]
  },
  {
   "cell_type": "code",
   "execution_count": null,
   "metadata": {
    "scrolled": true
   },
   "outputs": [],
   "source": [
    "env = UnityEnvironment(file_name=\"../Tennis_Windows_x86_64/Tennis.exe\")"
   ]
  },
  {
   "cell_type": "markdown",
   "metadata": {},
   "source": [
    "Environments contain **_brains_** which are responsible for deciding the actions of their associated agents. Here we check for the first brain available, and set it as the default brain we will be controlling from Python."
   ]
  },
  {
   "cell_type": "code",
   "execution_count": null,
   "metadata": {},
   "outputs": [],
   "source": [
    "# get the default brain\n",
    "brain_name = env.brain_names[0]\n",
    "brain = env.brains[brain_name]"
   ]
  },
  {
   "cell_type": "markdown",
   "metadata": {},
   "source": [
    "### 2. Examine the State and Action Spaces\n",
    "\n",
    "In this environment, two agents control rackets to bounce a ball over a net. If an agent hits the ball over the net, it receives a reward of +0.1.  If an agent lets a ball hit the ground or hits the ball out of bounds, it receives a reward of -0.01.  Thus, the goal of each agent is to keep the ball in play.\n",
    "\n",
    "The observation space consists of 8 variables corresponding to the position and velocity of the ball and racket. Two continuous actions are available, corresponding to movement toward (or away from) the net, and jumping. \n",
    "\n",
    "Run the code cell below to print some information about the environment."
   ]
  },
  {
   "cell_type": "code",
   "execution_count": null,
   "metadata": {},
   "outputs": [],
   "source": [
    "# reset the environment\n",
    "env_info = env.reset(train_mode=True)[brain_name]\n",
    "\n",
    "# number of agents = 2\n",
    "num_agents = len(env_info.agents)\n",
    "print('Number of agents:', num_agents)\n",
    "\n",
    "# size of each action = 2\n",
    "action_size = brain.vector_action_space_size\n",
    "print('Size of each action:', action_size)\n",
    "\n",
    "# examine the state space -- Each observes a state with length: 24\n",
    "states = env_info.vector_observations\n",
    "state_size = states.shape[1]\n",
    "print('There are {} agents. Each observes a state with length: {}'.format(states.shape[0], state_size))"
   ]
  },
  {
   "cell_type": "markdown",
   "metadata": {},
   "source": [
    "The **observation space** consists of **8 variables** corresponding to\n",
    "- the `position [x, y]`\n",
    "- and `velocity [vx, vy]`\n",
    "- of the `ball`\n",
    "- and `racket`.\n",
    "\n",
    "Each agent receives its own, local observation. **Two continuous actions** are available, corresponding to\n",
    "\n",
    "- `movement toward (or away from) the net`\n",
    "- and `jumping`. \n",
    "\n",
    "For each agent, the **\"state\"** issued by the environment is actually the **concatenation of 3 successive observations**. The most recent being at the end.\n",
    "\n",
    "- Hence, for each agent `len(state) = 24`\n",
    "\n",
    "Let's define a function to print the actions and states for the two agents."
   ]
  },
  {
   "cell_type": "code",
   "execution_count": null,
   "metadata": {},
   "outputs": [],
   "source": [
    "# !pip install tabulate\n",
    "# print transitions s-a-s'-a'-s'' for one single agent\n",
    "from tabulate import tabulate\n",
    "def print_state(single_state, actions_deque, agent_name):\n",
    "    full_actions = []\n",
    "    for i in range(3):\n",
    "        full_actions = full_actions + [\"\"]*2  # padding\n",
    "        full_actions.append(\"{:.3f}\".format(actions_deque[i][0]))\n",
    "        full_actions.append(\"{:.3f}\".format(actions_deque[i][1]))\n",
    "        full_actions = full_actions + [\"\"]*4  # padding\n",
    "    state_vector_names = ['racket pos x', 'racket pos y', 'racket vel x', 'racket vel y',\n",
    "                          'ball pos x', 'ball pos y', 'ball vel x', 'ball vel y']\n",
    "    res = []\n",
    "    for i, e in enumerate(state_vector_names):\n",
    "        line = []\n",
    "        for k in range(3):\n",
    "            line.append(full_actions[i+k*8])\n",
    "            line.append(single_state[i+k*8])        \n",
    "        line[0] = e\n",
    "        res.append(line)\n",
    "    headers = [agent_name, \"s_t-2\", \"a_t-2\", \"s_t-1\", \"a_t-1\", \"s_t\"]\n",
    "    print(tabulate(res, headers=headers, numalign=\"right\", floatfmt=\".3f\"))\n",
    "\n",
    "# print and compare states for both agents\n",
    "def print_both_states(full_state):\n",
    "    state_vector_names = ['racket pos x', 'racket pos y', 'racket vel x', 'racket vel y',\n",
    "                          'ball pos x', 'ball pos y', 'ball vel x', 'ball vel y']\n",
    "    res = []\n",
    "    for i, e in enumerate(state_vector_names):\n",
    "        line = [[full_state[0][i+k*8], full_state[1][i+k*8]] for k in range(3)]\n",
    "        line = [e for l in line for e in l]\n",
    "        line.insert(0, e)\n",
    "        res.append(line)\n",
    "    headers = [\"\", \"st-2_A1\", \"st-2_A2\", \"st-1_A1\", \"st-1_A2\", \"st_A1\", \"st_A2\"]\n",
    "    print(tabulate(res, headers=headers, numalign=\"right\", floatfmt=\".3f\"))"
   ]
  },
  {
   "cell_type": "code",
   "execution_count": null,
   "metadata": {},
   "outputs": [],
   "source": [
    "print('The initial states for the both agents look like:')\n",
    "print_state(states[0], [[-1, -1], [0, 0], [1, 1]], \"Agent_0\")"
   ]
  },
  {
   "cell_type": "code",
   "execution_count": null,
   "metadata": {},
   "outputs": [],
   "source": [
    "# env.close()"
   ]
  },
  {
   "cell_type": "markdown",
   "metadata": {},
   "source": [
    "### 3. Take Random Actions in the Environment\n",
    "\n",
    "In the next code cell, you will learn how to use the Python API to control the agents and receive feedback from the environment.\n",
    "\n",
    "Once this cell is executed, you will watch the agents' performance, if they select actions at random with each time step.  A window should pop up that allows you to observe the agents.\n",
    "\n",
    "Of course, as part of the project, you'll have to change the code so that the agents are able to use their experiences to gradually choose better actions when interacting with the environment!"
   ]
  },
  {
   "cell_type": "code",
   "execution_count": null,
   "metadata": {},
   "outputs": [],
   "source": [
    "random_actions = False"
   ]
  },
  {
   "cell_type": "code",
   "execution_count": null,
   "metadata": {},
   "outputs": [],
   "source": [
    "# run steps in the environment. Either random or controlled by an agent\n",
    "def show(n_runs, random_flag):\n",
    "    actions_deque = deque(maxlen=3)  # collect 3 latest actions\n",
    "    actions_deque.append([[0, 0], [0, 0]])\n",
    "    actions_deque.append([[0, 0], [0, 0]])\n",
    "    actions_deque.append([[0, 0], [0, 0]])\n",
    "    for i in range(1, n_runs):\n",
    "        env_info = env.reset(train_mode=False)[brain_name]\n",
    "        states = env_info.vector_observations\n",
    "        scores = np.zeros(num_agents)\n",
    "        print_both_states(states)\n",
    "        print_state(states[0], [a[0] for a in actions_deque], \"Agent_0\")\n",
    "        print_state(states[1], [a[1] for a in actions_deque], \"Agent_1\")\n",
    "        while True:\n",
    "            if random_flag:\n",
    "                actions = np.random.randn(num_agents, action_size)\n",
    "                actions = np.clip(actions, -1, 1)\n",
    "            else:\n",
    "                actions = agent.act((states), noise=0)\n",
    "            actions_deque.append(actions)\n",
    "\n",
    "            env_info = env.step(actions)[brain_name]           # send all actions to tne environment\n",
    "            next_states = env_info.vector_observations         # get next state (for each agent)\n",
    "            rewards = env_info.rewards                         # get reward (for each agent)\n",
    "            dones = env_info.local_done                        # see if episode finished\n",
    "            scores += env_info.rewards                         # update the score (for each agent)\n",
    "            states = next_states                               # roll over states to next time step\n",
    "            print_both_states(states)\n",
    "            print_state(states[0], [a[0] for a in actions_deque], \"Agent_0\")\n",
    "            print_state(states[1], [a[1] for a in actions_deque], \"Agent_1\")\n",
    "            if np.any(dones):                                  # exit loop if episode finished\n",
    "                print('\\nDONE')\n",
    "                break\n",
    "        print('Score (max over agents) from episode {}: {}\\n'.format(i, np.max(scores)))"
   ]
  },
  {
   "cell_type": "code",
   "execution_count": null,
   "metadata": {},
   "outputs": [],
   "source": [
    "if random_actions:\n",
    "    show(n_runs=6, random_flag=True)"
   ]
  },
  {
   "cell_type": "markdown",
   "metadata": {},
   "source": [
    "When finished, you can close the environment."
   ]
  },
  {
   "cell_type": "code",
   "execution_count": null,
   "metadata": {},
   "outputs": [],
   "source": [
    "if random_actions:\n",
    "    env.close()"
   ]
  },
  {
   "cell_type": "markdown",
   "metadata": {},
   "source": [
    "### 4. Training\n",
    "\n",
    "When training the environment, set `train_mode=True`, so that the line for resetting the environment looks like the following:\n",
    "```python\n",
    "env_info = env.reset(train_mode=True)[brain_name]\n",
    "```"
   ]
  },
  {
   "cell_type": "code",
   "execution_count": null,
   "metadata": {},
   "outputs": [],
   "source": [
    "model_dir= os.getcwd()+\"/checkpoints\"\n",
    "os.makedirs(model_dir, exist_ok=True)"
   ]
  },
  {
   "cell_type": "code",
   "execution_count": null,
   "metadata": {},
   "outputs": [],
   "source": [
    "# reset the environment\n",
    "env_info = env.reset(train_mode=True)[brain_name]\n",
    "num_agents = len(env_info.agents)\n",
    "action_size = brain.vector_action_space_size\n",
    "states = env_info.vector_observations\n",
    "state_size = states.shape[1]\n",
    "scores_global = []"
   ]
  },
  {
   "cell_type": "code",
   "execution_count": null,
   "metadata": {},
   "outputs": [],
   "source": [
    "def ddpg(name, n_max_episodes=3000):\n",
    "    noise = 1.0\n",
    "    mini_noise = 0.02\n",
    "    noise_reduction = 0.9977\n",
    "\n",
    "    scores_global = []                                    # collect scores for each episode\n",
    "    scores_deque = deque(maxlen=100)                      # collect 100 latest scores\n",
    "    start_learning = time.time()\n",
    "\n",
    "    for i_episode in range(1, n_max_episodes+1):\n",
    "        env_info = env.reset(train_mode=True)[brain_name] # reset the environment    \n",
    "        states = env_info.vector_observations             # get the current state (for each agent)\n",
    "        scores = np.zeros(num_agents)                     # initialize the score (for each agent)\n",
    "        agent.reset()                                     # reset noise process\n",
    "        noise *= noise_reduction\n",
    "\n",
    "        start_episode = time.time()\n",
    "        for _ in count():\n",
    "            actions = agent.act((states), noise=max(noise, mini_noise))\n",
    "\n",
    "            env_info = env.step(actions)[brain_name]      # send all actions to the environment\n",
    "            next_states = env_info.vector_observations    # get next state (for each agent)\n",
    "            rewards = env_info.rewards                    # get reward (for each agent)\n",
    "            dones = env_info.local_done                   # see if episode finished\n",
    "            scores += rewards                             # update the score (for each agent)\n",
    "\n",
    "            for state, action, reward, next_state, done in zip(states, actions, rewards, next_states, dones):\n",
    "                agent.step(state, action, reward, next_state, done)\n",
    "            \n",
    "            if np.any(dones):                             # exit loop if episode finished\n",
    "                break\n",
    "            \n",
    "            states = next_states                          # roll over states to next time step\n",
    "\n",
    "#         if sum(n > 0 for n in scores):\n",
    "#             print(scores)\n",
    "\n",
    "        score = np.max(scores)                           # average over 20 agents for this episode\n",
    "        scores_deque.append(score)\n",
    "        scores_global.append(score)\n",
    "        \n",
    "        if i_episode % 10 == 0:\n",
    "            print('epi={} noise={:.2f} score[ep]={:.2f} mean[100]={:.2f} max[100]={:.2f} min[100]={:.2f} std[100]={:.2f} dur[ep]={:.2f}'\\\n",
    "                  .format(i_episode, noise, score, np.mean(scores_deque), np.max(scores_deque), np.min(scores_deque), np.std(scores_deque), time.time()-start_episode), end=\"\\n\")\n",
    "        \n",
    "        if i_episode % 50 == 0:\n",
    "            torch.save(agent.actor_local.state_dict(), 'checkpoints/actor_-'+str(name)+\"_\"+str(i_episode)+'.pth')\n",
    "            torch.save(agent.critic_local.state_dict(), 'checkpoints/critic_-'+str(name)+\"_\"+str(i_episode)+'.pth')\n",
    "        \n",
    "        if np.mean(scores_deque) >= 0.5:\n",
    "            print(\"SUCCESS -- after {} episodes and {:.2f} min\".format(i_episode, (time.time()-start_learning)/60))\n",
    "            torch.save(agent.actor_local.state_dict(), 'checkpoints/actor_'+str(name)+'success.pth')\n",
    "            torch.save(agent.critic_local.state_dict(), 'checkpoints/critic_'+str(name)+'success.pth')\n",
    "            return scores_global\n",
    "            \n",
    "    return scores_global"
   ]
  },
  {
   "cell_type": "code",
   "execution_count": null,
   "metadata": {
    "scrolled": true
   },
   "outputs": [],
   "source": [
    "# each choice of hyperparameters is executed under five random seeds\n",
    "seeds = [random.randint(1, 100) for _ in range(5)]\n",
    "print(seeds)\n",
    "for i in seeds:\n",
    "    print(\"--- seed = {} ---\".format(i))\n",
    "    agent = Agent(state_size=state_size, action_size=action_size, random_seed=i)\n",
    "    scores = ddpg(name=i)\n",
    "\n",
    "    print(scores)\n",
    "    # save scores\n",
    "    logfile_name = str(i)+\".txt\"\n",
    "    with open(logfile_name, \"wb\") as fp:\n",
    "        pickle.dump(scores, fp)"
   ]
  },
  {
   "cell_type": "code",
   "execution_count": null,
   "metadata": {},
   "outputs": [],
   "source": []
  },
  {
   "cell_type": "code",
   "execution_count": null,
   "metadata": {},
   "outputs": [],
   "source": []
  },
  {
   "cell_type": "markdown",
   "metadata": {},
   "source": [
    "### 5. Testing"
   ]
  },
  {
   "cell_type": "code",
   "execution_count": null,
   "metadata": {},
   "outputs": [],
   "source": [
    "# Load the saved model weights of a successful agent\n",
    "agent = Agent(state_size=state_size, action_size=action_size, random_seed=67)\n",
    "agent.actor_local.load_state_dict(torch.load('checkpoints/checkpoint_actor_x67success.pth'))\n",
    "agent.critic_local.load_state_dict(torch.load('checkpoints/checkpoint_critic_x67success.pth'))"
   ]
  },
  {
   "cell_type": "code",
   "execution_count": null,
   "metadata": {},
   "outputs": [],
   "source": [
    "show(n_runs=12, random_flag=False)"
   ]
  },
  {
   "cell_type": "code",
   "execution_count": null,
   "metadata": {},
   "outputs": [],
   "source": [
    "env.close()"
   ]
  },
  {
   "cell_type": "code",
   "execution_count": null,
   "metadata": {},
   "outputs": [],
   "source": []
  }
 ],
 "metadata": {
  "kernelspec": {
   "display_name": "drlnd",
   "language": "python",
   "name": "drlnd"
  },
  "language_info": {
   "codemirror_mode": {
    "name": "ipython",
    "version": 3
   },
   "file_extension": ".py",
   "mimetype": "text/x-python",
   "name": "python",
   "nbconvert_exporter": "python",
   "pygments_lexer": "ipython3",
   "version": "3.6.6"
  }
 },
 "nbformat": 4,
 "nbformat_minor": 2
}
