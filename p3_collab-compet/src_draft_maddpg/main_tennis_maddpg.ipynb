{
 "cells": [
  {
   "cell_type": "markdown",
   "metadata": {},
   "source": [
    "# Collaboration and Competition\n",
    "\n",
    "---\n",
    "In this notebook, you will learn how to use the Unity ML-Agents environment for the third project of the [Deep Reinforcement Learning Nanodegree](https://www.udacity.com/course/deep-reinforcement-learning-nanodegree--nd893) program.\n",
    "\n",
    "### 1. Start the Environment\n",
    "\n",
    "We begin by importing the necessary packages.  If the code cell below returns an error, please revisit the project instructions to double-check that you have installed [Unity ML-Agents](https://github.com/Unity-Technologies/ml-agents/blob/master/docs/Installation.md) and [NumPy](http://www.numpy.org/)."
   ]
  },
  {
   "cell_type": "code",
   "execution_count": null,
   "metadata": {},
   "outputs": [],
   "source": [
    "from unityagents import UnityEnvironment\n",
    "import random\n",
    "import torch\n",
    "import numpy as np\n",
    "import time\n",
    "import pickle\n",
    "from itertools import count\n",
    "from collections import deque\n",
    "import os\n",
    "import matplotlib.pyplot as plt\n",
    "%matplotlib inline\n",
    "\n",
    "from buffer import ReplayBuffer\n",
    "from maddpg import MADDPG\n",
    "from utilities import transpose_list, transpose_to_tensor\n",
    "#  conda install -c conda-forge tensorboardx  -- cause troubles with protobuf version\n",
    "# rather pip install tensorboardX\n",
    "from tensorboardX import SummaryWriter"
   ]
  },
  {
   "cell_type": "markdown",
   "metadata": {},
   "source": [
    "Next, we will start the environment!  **_Before running the code cell below_**, change the `file_name` parameter to match the location of the Unity environment that you downloaded.\n",
    "\n",
    "- **Mac**: `\"path/to/Tennis.app\"`\n",
    "- **Windows** (x86): `\"path/to/Tennis_Windows_x86/Tennis.exe\"`\n",
    "- **Windows** (x86_64): `\"path/to/Tennis_Windows_x86_64/Tennis.exe\"`\n",
    "- **Linux** (x86): `\"path/to/Tennis_Linux/Tennis.x86\"`\n",
    "- **Linux** (x86_64): `\"path/to/Tennis_Linux/Tennis.x86_64\"`\n",
    "- **Linux** (x86, headless): `\"path/to/Tennis_Linux_NoVis/Tennis.x86\"`\n",
    "- **Linux** (x86_64, headless): `\"path/to/Tennis_Linux_NoVis/Tennis.x86_64\"`\n",
    "\n",
    "For instance, if you are using a Mac, then you downloaded `Tennis.app`.  If this file is in the same folder as the notebook, then the line below should appear as follows:\n",
    "```\n",
    "env = UnityEnvironment(file_name=\"Tennis.app\")\n",
    "```"
   ]
  },
  {
   "cell_type": "code",
   "execution_count": null,
   "metadata": {},
   "outputs": [],
   "source": [
    "env = UnityEnvironment(file_name=\"../Tennis_Windows_x86_64/Tennis.exe\")"
   ]
  },
  {
   "cell_type": "markdown",
   "metadata": {},
   "source": [
    "Environments contain **_brains_** which are responsible for deciding the actions of their associated agents. Here we check for the first brain available, and set it as the default brain we will be controlling from Python."
   ]
  },
  {
   "cell_type": "code",
   "execution_count": null,
   "metadata": {},
   "outputs": [],
   "source": [
    "# get the default brain\n",
    "brain_name = env.brain_names[0]\n",
    "brain = env.brains[brain_name]"
   ]
  },
  {
   "cell_type": "markdown",
   "metadata": {},
   "source": [
    "### 2. Examine the State and Action Spaces\n",
    "\n",
    "In this environment, two agents control rackets to bounce a ball over a net. If an agent hits the ball over the net, it receives a reward of +0.1.  If an agent lets a ball hit the ground or hits the ball out of bounds, it receives a reward of -0.01.  Thus, the goal of each agent is to keep the ball in play.\n",
    "\n",
    "The observation space consists of 8 variables corresponding to the position and velocity of the ball and racket. Two continuous actions are available, corresponding to movement toward (or away from) the net, and jumping. \n",
    "\n",
    "Run the code cell below to print some information about the environment."
   ]
  },
  {
   "cell_type": "code",
   "execution_count": null,
   "metadata": {},
   "outputs": [],
   "source": [
    "# reset the environment\n",
    "env_info = env.reset(train_mode=True)[brain_name]\n",
    "\n",
    "# number of agents = 2\n",
    "num_agents = len(env_info.agents)\n",
    "print('Number of agents:', num_agents)\n",
    "\n",
    "# size of each action = 2\n",
    "action_size = brain.vector_action_space_size\n",
    "print('Size of each action:', action_size)\n",
    "\n",
    "# examine the state space -- Each observes a state with length: 24\n",
    "states = env_info.vector_observations\n",
    "state_size = states.shape[1]\n",
    "print('There are {} agents. Each observes a state with length: {}'.format(states.shape[0], state_size))"
   ]
  },
  {
   "cell_type": "markdown",
   "metadata": {},
   "source": [
    "The **observation space** consists of **8 variables** corresponding to\n",
    "- the `position [x, y]`\n",
    "- and `velocity [vx, vy]`\n",
    "- of the `ball`\n",
    "- and `racket`.\n",
    "\n",
    "Each agent receives its own, local observation. **Two continuous actions** are available, corresponding to\n",
    "\n",
    "- `movement toward (or away from) the net`\n",
    "- and `jumping`. \n",
    "\n",
    "For each agent, the **\"state\"** issued by the environment is actually the **concatenation of 3 successive observations**. The most recent being at the end.\n",
    "\n",
    "- Hence, for each agent `len(state) = 24`\n",
    "\n",
    "Let's define a function to print the actions and states for the two agents."
   ]
  },
  {
   "cell_type": "code",
   "execution_count": null,
   "metadata": {},
   "outputs": [],
   "source": [
    "# !pip install tabulate\n",
    "# for one single agent\n",
    "from tabulate import tabulate\n",
    "def print_state(single_state, actions_deque, agent_name):\n",
    "    full_actions = []\n",
    "    for i in range(3):\n",
    "        full_actions = full_actions + [\"\"]*2  # padding\n",
    "        full_actions.append(\"{:.3f}\".format(actions_deque[i][0]))\n",
    "        full_actions.append(\"{:.3f}\".format(actions_deque[i][1]))\n",
    "        full_actions = full_actions + [\"\"]*4  # padding\n",
    "    state_vector_names = ['racket pos x', 'racket pos y', 'racket vel x', 'racket vel y',\n",
    "                          'ball pos x', 'ball pos y', 'ball vel x', 'ball vel y']\n",
    "    res = []\n",
    "    for i, e in enumerate(state_vector_names):\n",
    "        line = []\n",
    "        for k in range(3):\n",
    "            line.append(full_actions[i+k*8])\n",
    "            line.append(single_state[i+k*8])        \n",
    "        line[0] = e\n",
    "        res.append(line)\n",
    "    headers = [agent_name, \"s_t-2\", \"a_t-2\", \"s_t-1\", \"a_t-1\", \"s_t\"]\n",
    "    print(tabulate(res, headers=headers, numalign=\"right\", floatfmt=\".3f\"))\n",
    "\n",
    "# print states for both agents\n",
    "def print_both_states(full_state):\n",
    "    state_vector_names = ['racket pos x', 'racket pos y', 'racket vel x', 'racket vel y',\n",
    "                          'ball pos x', 'ball pos y', 'ball vel x', 'ball vel y']\n",
    "    res = []\n",
    "    for i, e in enumerate(state_vector_names):\n",
    "        line = [[full_state[0][i+k*8], full_state[1][i+k*8]] for k in range(3)]\n",
    "        line = [e for l in line for e in l]\n",
    "        line.insert(0, e)\n",
    "        res.append(line)\n",
    "    headers = [\"\", \"st-2_A1\", \"st-2_A2\", \"st-1_A1\", \"st-1_A2\", \"st_A1\", \"st_A2\"]\n",
    "    print(tabulate(res, headers=headers, numalign=\"right\", floatfmt=\".3f\"))"
   ]
  },
  {
   "cell_type": "code",
   "execution_count": null,
   "metadata": {},
   "outputs": [],
   "source": [
    "print('The initial states for the both agents look like:')\n",
    "# print_both_states(states)\n",
    "print_state(states[0], [[-1, -1], [0, 0], [1, 1]], \"Agent_0\")"
   ]
  },
  {
   "cell_type": "code",
   "execution_count": null,
   "metadata": {},
   "outputs": [],
   "source": [
    "# env.close()"
   ]
  },
  {
   "cell_type": "markdown",
   "metadata": {},
   "source": [
    "### 3. Take Random Actions in the Environment\n",
    "\n",
    "In the next code cell, you will learn how to use the Python API to control the agents and receive feedback from the environment.\n",
    "\n",
    "Once this cell is executed, you will watch the agents' performance, if they select actions at random with each time step.  A window should pop up that allows you to observe the agents.\n",
    "\n",
    "Of course, as part of the project, you'll have to change the code so that the agents are able to use their experiences to gradually choose better actions when interacting with the environment!"
   ]
  },
  {
   "cell_type": "code",
   "execution_count": null,
   "metadata": {},
   "outputs": [],
   "source": [
    "random_actions = False"
   ]
  },
  {
   "cell_type": "code",
   "execution_count": null,
   "metadata": {},
   "outputs": [],
   "source": [
    "def show(n_runs, random_flag):\n",
    "    actions_deque = deque(maxlen=3)                            # collect 3 latest actions\n",
    "    actions_deque.append([[0, 0], [0, 0]])\n",
    "    actions_deque.append([[0, 0], [0, 0]])\n",
    "    actions_deque.append([[0, 0], [0, 0]])\n",
    "    for i in range(1, n_runs):\n",
    "        env_info = env.reset(train_mode=False)[brain_name]\n",
    "        states = env_info.vector_observations\n",
    "        scores = np.zeros(num_agents)\n",
    "        print_both_states(states)\n",
    "        print_state(states[0], [a[0] for a in actions_deque], \"Agent_0\")\n",
    "        print_state(states[1], [a[1] for a in actions_deque], \"Agent_1\")\n",
    "        while True:\n",
    "            if random_flag:\n",
    "                actions = np.random.randn(num_agents, action_size)\n",
    "                actions = np.clip(actions, -1, 1)\n",
    "            else:\n",
    "                actions = maddpg.act(transpose_to_tensor(obs), noise=0)\n",
    "                actions_array = torch.stack(actions).cpu().detach().numpy()\n",
    "                actions_for_env = np.rollaxis(actions_array, 1)\n",
    "                actions = actions_for_env[0]\n",
    "            actions_deque.append(actions)\n",
    "\n",
    "            env_info = env.step(actions)[brain_name]           # send all actions to tne environment\n",
    "            next_states = env_info.vector_observations         # get next state (for each agent)\n",
    "            rewards = env_info.rewards                         # get reward (for each agent)\n",
    "            dones = env_info.local_done                        # see if episode finished\n",
    "            scores += env_info.rewards                         # update the score (for each agent)\n",
    "            states = next_states                               # roll over states to next time step\n",
    "            print(\"actions = {}\".format(actions))\n",
    "            print(\"actions_deque = {}\".format(actions_deque))\n",
    "            print(\"states = {}\".format(states))\n",
    "            print_both_states(states)\n",
    "            print_state(states[0], [a[0] for a in actions_deque], \"Agent_0\")\n",
    "            print_state(states[1], [a[1] for a in actions_deque], \"Agent_1\")\n",
    "            if np.any(dones):                                  # exit loop if episode finished\n",
    "                print('\\nDONE')\n",
    "                break\n",
    "        print('Score (max over agents) from episode {}: {}\\n'.format(i, np.max(scores)))"
   ]
  },
  {
   "cell_type": "code",
   "execution_count": null,
   "metadata": {},
   "outputs": [],
   "source": [
    "if random_actions:\n",
    "    show(n_runs=6, random_flag=True)"
   ]
  },
  {
   "cell_type": "markdown",
   "metadata": {},
   "source": [
    "When finished, you can close the environment."
   ]
  },
  {
   "cell_type": "code",
   "execution_count": null,
   "metadata": {},
   "outputs": [],
   "source": [
    "if random_actions:\n",
    "    env.close()"
   ]
  },
  {
   "cell_type": "markdown",
   "metadata": {},
   "source": [
    "### 4. Training - Parameters\n",
    "\n",
    "Now it's your turn to train your own agent to solve the environment!  When training the environment, set `train_mode=True`, so that the line for resetting the environment looks like the following:\n",
    "```python\n",
    "env_info = env.reset(train_mode=True)[brain_name]\n",
    "```"
   ]
  },
  {
   "cell_type": "code",
   "execution_count": null,
   "metadata": {},
   "outputs": [],
   "source": [
    "def seeding(seed=1):\n",
    "    np.random.seed(seed)\n",
    "    torch.manual_seed(seed)"
   ]
  },
  {
   "cell_type": "code",
   "execution_count": null,
   "metadata": {},
   "outputs": [],
   "source": [
    "# [x]o.p. refers to the values from original paper\n",
    "# configuration and hyper-parameters.\n",
    "seed_id = 1               \n",
    "seeding(seed_id)          # [train with 10 random seeds]o.p.\n",
    "n_agents = 2              # fix by the env\n",
    "parallel_envs = 1         # cannot do anything but one\n",
    "\n",
    "number_of_episodes = 10000\n",
    "episode_lim = 1000        # number of steps to stop an episode \n",
    "batchsize = 128           # [1024]o.p. [64]ddpg.p.\n",
    "# [after every 100 samples added to the replay buffer]o.p. means \n",
    "update_every = 2          # update period w.r.t. time steps\n",
    "buffer_size = int(3e4)    # how many episodes kept as worth of replay\n",
    "# DDPG and MADDPG speaks in terms of transitions: [10e6]o.p. and [10e6]ddpg.p.\n",
    "discount_factor = 0.99    # [0.95]o.p.  [0.99]ddpg.p.\n",
    "tau = 0.01                # [0.01]o.p.  [0.001]ddpg.p.\n",
    "save_interval = 50        # how many episodes to save policy\n",
    "\n",
    "# amplitude of OU noise -- slowly decrease noise to 0\n",
    "noise = 1.0               #  2.0\n",
    "mini_noise = 0.01\n",
    "noise_reduction = 1.0     #  0.9999"
   ]
  },
  {
   "cell_type": "code",
   "execution_count": null,
   "metadata": {},
   "outputs": [],
   "source": [
    "# tensorboard logging\n",
    "log_path = os.getcwd()+\"/log\"\n",
    "model_dir= os.getcwd()+\"/checkpoints\"\n",
    "os.makedirs(model_dir, exist_ok=True)\n",
    "logger = SummaryWriter(log_dir=log_path)\n",
    "agent0_reward = []\n",
    "agent1_reward = []\n",
    "\n",
    "# in MADDPG: two agents but one shared buffer\n",
    "maddpg = MADDPG(discount_factor=discount_factor, tau=tau)\n",
    "buffer = ReplayBuffer(int(buffer_size))\n",
    "\n",
    "# performance measurement\n",
    "threshold_success = 0.5\n",
    "scores_global = []                # collect scores for each episode\n",
    "scores_deque = deque(maxlen=100)  # collect 100 latest scores\n",
    "start_learning = time.time()\n",
    "stop = False\n",
    "\n",
    "# collect 3 latest actions\n",
    "actions_deque = deque(maxlen=3)\n",
    "actions_deque.append([[0, 0], [0, 0]])\n",
    "actions_deque.append([[0, 0], [0, 0]])\n",
    "actions_deque.append([[0, 0], [0, 0]])\n",
    "\n",
    "# show progressbar\n",
    "import progressbar as pb\n",
    "widget = ['episode: ', pb.Counter(),'/',str(number_of_episodes),' ', \n",
    "          pb.Percentage(), ' ', pb.ETA(), ' ', pb.Bar(marker=pb.RotatingMarker()), ' ' ]\n",
    "timer = pb.ProgressBar(widgets=widget, maxval=number_of_episodes).start()"
   ]
  },
  {
   "cell_type": "markdown",
   "metadata": {},
   "source": [
    "### 5. Training - Main Loop\n",
    "I decide to define `obs_full` as the concatenation of `(st-2, st-1, st)` for both agent.\n",
    "\n",
    "Hence `np.shape(full_obs) = (1, 8*3*2) = (1, 48)`\n",
    "\n",
    "On the other hand, `np.shape(full_obs) = (1, 2, 24)` is used to choose actions."
   ]
  },
  {
   "cell_type": "markdown",
   "metadata": {},
   "source": [
    "Instructions:\n",
    "\n",
    "- After each episode, we add up the rewards that each agent received (without discounting) to get a score for each agent.\n",
    "\n",
    "- This yields 2 (potentially different) scores.\n",
    "\n",
    "- We then take the **maximum of these 2 scores**.\n",
    "\n",
    "- This yields a **single score** for **each episode**.\n",
    "\n",
    "- The environment is considered solved, when the **average (over 100 episodes)** of those scores is at least **+0.5**"
   ]
  },
  {
   "cell_type": "code",
   "execution_count": null,
   "metadata": {},
   "outputs": [],
   "source": [
    "for episode in range(0, number_of_episodes, parallel_envs):\n",
    "    \n",
    "    # book-keeping\n",
    "    timer.update(episode)\n",
    "    start_episode = time.time()\n",
    "    reward_this_episode = np.zeros((parallel_envs, n_agents))\n",
    "\n",
    "    # reset the environment\n",
    "    env_info = env.reset(train_mode=True)[brain_name]\n",
    "    states = env_info.vector_observations\n",
    "    obs = [states]\n",
    "    obs_full = [np.concatenate(states, axis=None)]\n",
    "    \n",
    "    # reset noise process\n",
    "    maddpg.reset()\n",
    "\n",
    "#     print_both_states(states)\n",
    "#     print_state(states[0], [a[0] for a in actions_deque], \"Agent_0\")\n",
    "#     print_state(states[1], [a[1] for a in actions_deque], \"Agent_1\")\n",
    "\n",
    "    # save info and models or not\n",
    "    save_info = ((episode) % save_interval < parallel_envs or episode==number_of_episodes-parallel_envs)\n",
    "\n",
    "    for step_id in range(episode_lim):\n",
    "        actions = maddpg.act(transpose_to_tensor(obs), noise=max(noise, mini_noise))\n",
    "        noise *= noise_reduction\n",
    "#         actions_array = torch.stack(actions).detach().numpy()\n",
    "        actions_array = torch.stack(actions).cpu().detach().numpy()\n",
    "        actions_for_env = np.rollaxis(actions_array, 1)\n",
    "        actions = actions_for_env[0]\n",
    "#         actions_deque.append(actions)\n",
    "\n",
    "        # step forward one frame\n",
    "        # next_obs, next_obs_full, rewards, dones, info = env.step(actions_for_env)\n",
    "        env_info = env.step(actions)[brain_name]\n",
    "        next_states = env_info.vector_observations \n",
    "        rewards = env_info.rewards\n",
    "        dones = env_info.local_done\n",
    "\n",
    "#         print_both_states(next_states)\n",
    "#         print_state(next_states[0], [a[0] for a in actions_deque], \"Agent_0\")\n",
    "#         print_state(next_states[1], [a[1] for a in actions_deque], \"Agent_1\")\n",
    "\n",
    "        # adapt format\n",
    "        next_obs_full = [np.concatenate(next_states, axis=None)]\n",
    "        next_obs = [next_states]\n",
    "        dones = [dones]\n",
    "        rewards = [rewards]  # [[0.0, -0.01]]\n",
    "\n",
    "        # add data to buffer\n",
    "        transition = (obs, obs_full, actions_for_env, rewards, next_obs, next_obs_full, dones)\n",
    "        buffer.push(transition)\n",
    "\n",
    "        # before transitioning to new step\n",
    "        reward_this_episode += rewards  # [[-0.16, -0.25]] -- shape = (1, 2)\n",
    "        obs = next_obs\n",
    "\n",
    "        # update models once after every \"x\" time steps\n",
    "        if len(buffer) > batchsize and step_id % update_every < parallel_envs:\n",
    "#             print(\"step_id = {} -- time for update with batchsize = {}\".format(step_id, batchsize))\n",
    "            for a_i in range(n_agents):\n",
    "                # each agent does its own sampling from the shared replay buffer to do an update\n",
    "                samples = buffer.sample(batchsize)  # shape = (7, Batch_Size)\n",
    "                # i.e. for obs (samples[0]), np.shape = (Batch_Size, 2, 24)\n",
    "                # and for obs_full (samples[1]), np.shape = (Batch_Size, 48)\n",
    "                maddpg.update(samples, a_i, logger)\n",
    "            maddpg.update_targets() #  soft update the target network towards the actual networks\n",
    "\n",
    "    # --- the episode is over ---\n",
    "\n",
    "    # measure performance\n",
    "    score = max(reward_this_episode[0])\n",
    "    scores_deque.append(score)\n",
    "    scores_global.append(score)\n",
    "    print('{}-th episode, score_ep= {:.4f}, avg_score= {:.4f}, duration[ep]= {:.2f} [s]'\\\n",
    "          .format(episode, score, np.mean(scores_deque), time.time()-start_episode), end=\"\\n\")\n",
    "    for i in range(parallel_envs):\n",
    "        agent0_reward.append(reward_this_episode[i,0])\n",
    "        agent1_reward.append(reward_this_episode[i,1])\n",
    "    \n",
    "    # log performance\n",
    "    logger.add_scalar('score', score, episode)\n",
    "    logger.add_scalar('avg_score', np.mean(scores_deque), episode)\n",
    "    if episode % 3 == 0 or episode == number_of_episodes-1:\n",
    "        avg_rewards = [np.mean(agent0_reward), np.mean(agent1_reward)]\n",
    "        agent0_reward = []\n",
    "        agent1_reward = []\n",
    "        for a_i, avg_rew in enumerate(avg_rewards):\n",
    "            logger.add_scalar('agent%i/mean_episode_rewards' % a_i, avg_rew, episode)\n",
    "\n",
    "    # Test if success\n",
    "    if np.mean(scores_deque) > threshold_success:\n",
    "        print(\"SUCCESS -- after {} episodes and {:.2f} min\".format(episode, (time.time()-start_learning)/60))\n",
    "        save_info = True\n",
    "        stop = True\n",
    "\n",
    "    # saving model\n",
    "    save_dict_list =[]\n",
    "    if save_info:\n",
    "        saving_name = 'checkpoints/solved' if stop else 'checkpoints/episode_{}'.format(episode)\n",
    "        maddpg.save(saving_name=saving_name)\n",
    "\n",
    "    if stop:\n",
    "        break\n",
    "\n",
    "logger.close()\n",
    "timer.finish()"
   ]
  },
  {
   "cell_type": "code",
   "execution_count": null,
   "metadata": {},
   "outputs": [],
   "source": [
    "# env.close()"
   ]
  },
  {
   "cell_type": "markdown",
   "metadata": {},
   "source": [
    "### 6. Testing\n",
    "Load and test a MADDPG agent"
   ]
  },
  {
   "cell_type": "code",
   "execution_count": null,
   "metadata": {},
   "outputs": [],
   "source": [
    "# Load the saved model weights of a successful agent\n",
    "maddpg = MADDPG()"
   ]
  },
  {
   "cell_type": "code",
   "execution_count": null,
   "metadata": {},
   "outputs": [],
   "source": [
    "maddpg.load(\"checkpoints/episode_0\")"
   ]
  },
  {
   "cell_type": "code",
   "execution_count": null,
   "metadata": {},
   "outputs": [],
   "source": [
    "show(n_runs=12, random_flag=False)"
   ]
  },
  {
   "cell_type": "code",
   "execution_count": null,
   "metadata": {},
   "outputs": [],
   "source": [
    "env.close()"
   ]
  }
 ],
 "metadata": {
  "kernelspec": {
   "display_name": "drlnd",
   "language": "python",
   "name": "drlnd"
  },
  "language_info": {
   "codemirror_mode": {
    "name": "ipython",
    "version": 3
   },
   "file_extension": ".py",
   "mimetype": "text/x-python",
   "name": "python",
   "nbconvert_exporter": "python",
   "pygments_lexer": "ipython3",
   "version": "3.6.6"
  }
 },
 "nbformat": 4,
 "nbformat_minor": 2
}
