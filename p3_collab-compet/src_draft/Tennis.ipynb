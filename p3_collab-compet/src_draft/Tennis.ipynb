{
 "cells": [
  {
   "cell_type": "markdown",
   "metadata": {},
   "source": [
    "# Collaboration and Competition\n",
    "\n",
    "---\n",
    "\n",
    "In this notebook, you will learn how to use the Unity ML-Agents environment for the third project of the [Deep Reinforcement Learning Nanodegree](https://www.udacity.com/course/deep-reinforcement-learning-nanodegree--nd893) program.\n",
    "\n",
    "### 1. Start the Environment\n",
    "\n",
    "We begin by importing the necessary packages.  If the code cell below returns an error, please revisit the project instructions to double-check that you have installed [Unity ML-Agents](https://github.com/Unity-Technologies/ml-agents/blob/master/docs/Installation.md) and [NumPy](http://www.numpy.org/)."
   ]
  },
  {
   "cell_type": "code",
   "execution_count": 1,
   "metadata": {},
   "outputs": [],
   "source": [
    "from unityagents import UnityEnvironment\n",
    "import random\n",
    "import torch\n",
    "import numpy as np\n",
    "import time\n",
    "import pickle\n",
    "from itertools import count\n",
    "from collections import deque\n",
    "import os\n",
    "import matplotlib.pyplot as plt\n",
    "%matplotlib inline\n",
    "\n",
    "from buffer import ReplayBuffer\n",
    "from maddpg import MADDPG\n",
    "from utilities import transpose_list, transpose_to_tensor\n",
    "#  conda install -c conda-forge tensorboardx  -- cause troubles with protobuf version\n",
    "# rather pip install tensorboardX\n",
    "from tensorboardX import SummaryWriter"
   ]
  },
  {
   "cell_type": "markdown",
   "metadata": {},
   "source": [
    "Next, we will start the environment!  **_Before running the code cell below_**, change the `file_name` parameter to match the location of the Unity environment that you downloaded.\n",
    "\n",
    "- **Mac**: `\"path/to/Tennis.app\"`\n",
    "- **Windows** (x86): `\"path/to/Tennis_Windows_x86/Tennis.exe\"`\n",
    "- **Windows** (x86_64): `\"path/to/Tennis_Windows_x86_64/Tennis.exe\"`\n",
    "- **Linux** (x86): `\"path/to/Tennis_Linux/Tennis.x86\"`\n",
    "- **Linux** (x86_64): `\"path/to/Tennis_Linux/Tennis.x86_64\"`\n",
    "- **Linux** (x86, headless): `\"path/to/Tennis_Linux_NoVis/Tennis.x86\"`\n",
    "- **Linux** (x86_64, headless): `\"path/to/Tennis_Linux_NoVis/Tennis.x86_64\"`\n",
    "\n",
    "For instance, if you are using a Mac, then you downloaded `Tennis.app`.  If this file is in the same folder as the notebook, then the line below should appear as follows:\n",
    "```\n",
    "env = UnityEnvironment(file_name=\"Tennis.app\")\n",
    "```"
   ]
  },
  {
   "cell_type": "code",
   "execution_count": 2,
   "metadata": {},
   "outputs": [
    {
     "name": "stderr",
     "output_type": "stream",
     "text": [
      "INFO:unityagents:\n",
      "'Academy' started successfully!\n",
      "Unity Academy name: Academy\n",
      "        Number of Brains: 1\n",
      "        Number of External Brains : 1\n",
      "        Lesson number : 0\n",
      "        Reset Parameters :\n",
      "\t\t\n",
      "Unity brain name: TennisBrain\n",
      "        Number of Visual Observations (per agent): 0\n",
      "        Vector Observation space type: continuous\n",
      "        Vector Observation space size (per agent): 8\n",
      "        Number of stacked Vector Observation: 3\n",
      "        Vector Action space type: continuous\n",
      "        Vector Action space size (per agent): 2\n",
      "        Vector Action descriptions: , \n"
     ]
    }
   ],
   "source": [
    "env = UnityEnvironment(file_name=\"../Tennis_Windows_x86_64/Tennis.exe\")"
   ]
  },
  {
   "cell_type": "markdown",
   "metadata": {},
   "source": [
    "Environments contain **_brains_** which are responsible for deciding the actions of their associated agents. Here we check for the first brain available, and set it as the default brain we will be controlling from Python."
   ]
  },
  {
   "cell_type": "code",
   "execution_count": 3,
   "metadata": {},
   "outputs": [],
   "source": [
    "# get the default brain\n",
    "brain_name = env.brain_names[0]\n",
    "brain = env.brains[brain_name]"
   ]
  },
  {
   "cell_type": "markdown",
   "metadata": {},
   "source": [
    "### 2. Examine the State and Action Spaces\n",
    "\n",
    "In this environment, two agents control rackets to bounce a ball over a net. If an agent hits the ball over the net, it receives a reward of +0.1.  If an agent lets a ball hit the ground or hits the ball out of bounds, it receives a reward of -0.01.  Thus, the goal of each agent is to keep the ball in play.\n",
    "\n",
    "The observation space consists of 8 variables corresponding to the position and velocity of the ball and racket. Two continuous actions are available, corresponding to movement toward (or away from) the net, and jumping. \n",
    "\n",
    "Run the code cell below to print some information about the environment."
   ]
  },
  {
   "cell_type": "code",
   "execution_count": 4,
   "metadata": {},
   "outputs": [
    {
     "name": "stdout",
     "output_type": "stream",
     "text": [
      "Number of agents: 2\n",
      "Size of each action: 2\n",
      "There are 2 agents. Each observes a state with length: 24\n",
      "The state for the first agent looks like: [ 0.          0.          0.          0.          0.          0.\n",
      "  0.          0.          0.          0.          0.          0.\n",
      "  0.          0.          0.          0.         -6.65278625 -1.5\n",
      " -0.          0.          6.83172083  6.         -0.          0.        ]\n"
     ]
    }
   ],
   "source": [
    "# reset the environment\n",
    "env_info = env.reset(train_mode=True)[brain_name]\n",
    "\n",
    "# number of agents = 2\n",
    "num_agents = len(env_info.agents)\n",
    "print('Number of agents:', num_agents)\n",
    "\n",
    "# size of each action = 2\n",
    "action_size = brain.vector_action_space_size\n",
    "print('Size of each action:', action_size)\n",
    "\n",
    "# examine the state space -- Each observes a state with length: 24\n",
    "states = env_info.vector_observations\n",
    "state_size = states.shape[1]\n",
    "print('There are {} agents. Each observes a state with length: {}'.format(states.shape[0], state_size))\n",
    "print('The state for the first agent looks like:', states[0])"
   ]
  },
  {
   "cell_type": "code",
   "execution_count": 5,
   "metadata": {},
   "outputs": [],
   "source": [
    "# env.close()"
   ]
  },
  {
   "cell_type": "markdown",
   "metadata": {},
   "source": [
    "### 3. Take Random Actions in the Environment\n",
    "\n",
    "In the next code cell, you will learn how to use the Python API to control the agents and receive feedback from the environment.\n",
    "\n",
    "Once this cell is executed, you will watch the agents' performance, if they select actions at random with each time step.  A window should pop up that allows you to observe the agents.\n",
    "\n",
    "Of course, as part of the project, you'll have to change the code so that the agents are able to use their experiences to gradually choose better actions when interacting with the environment!"
   ]
  },
  {
   "cell_type": "code",
   "execution_count": 6,
   "metadata": {},
   "outputs": [],
   "source": [
    "random_actions = False"
   ]
  },
  {
   "cell_type": "code",
   "execution_count": 7,
   "metadata": {},
   "outputs": [],
   "source": [
    "if random_actions:\n",
    "    for i in range(1, 6):                                      # play game for 5 episodes\n",
    "        env_info = env.reset(train_mode=False)[brain_name]     # reset the environment    \n",
    "        states = env_info.vector_observations                  # get the current state (for each agent)\n",
    "        scores = np.zeros(num_agents)                          # initialize the score (for each agent)\n",
    "        while True:\n",
    "            actions = np.random.randn(num_agents, action_size) # select an action (for each agent)\n",
    "            print(actions)  # [[ 0.3190391  -0.24937038], [ 1.46210794 -2.06014071]]\n",
    "            actions = np.clip(actions, -1, 1)                  # all actions between -1 and 1\n",
    "            env_info = env.step(actions)[brain_name]           # send all actions to tne environment\n",
    "            next_states = env_info.vector_observations         # get next state (for each agent)\n",
    "            rewards = env_info.rewards                         # get reward (for each agent)\n",
    "            dones = env_info.local_done                        # see if episode finished\n",
    "            scores += env_info.rewards                         # update the score (for each agent)\n",
    "            states = next_states                               # roll over states to next time step\n",
    "            if np.any(dones):                                  # exit loop if episode finished\n",
    "                break\n",
    "        print('Score (max over agents) from episode {}: {}'.format(i, np.max(scores)))"
   ]
  },
  {
   "cell_type": "markdown",
   "metadata": {},
   "source": [
    "When finished, you can close the environment."
   ]
  },
  {
   "cell_type": "code",
   "execution_count": 8,
   "metadata": {},
   "outputs": [],
   "source": [
    "if random_actions:\n",
    "    env.close()"
   ]
  },
  {
   "cell_type": "markdown",
   "metadata": {},
   "source": [
    "### 4. It's Your Turn!\n",
    "\n",
    "Now it's your turn to train your own agent to solve the environment!  When training the environment, set `train_mode=True`, so that the line for resetting the environment looks like the following:\n",
    "```python\n",
    "env_info = env.reset(train_mode=True)[brain_name]\n",
    "```"
   ]
  },
  {
   "cell_type": "code",
   "execution_count": 9,
   "metadata": {},
   "outputs": [],
   "source": [
    "def seeding(seed=1):\n",
    "    np.random.seed(seed)\n",
    "    torch.manual_seed(seed)"
   ]
  },
  {
   "cell_type": "code",
   "execution_count": 11,
   "metadata": {},
   "outputs": [],
   "source": [
    "# configuration and hyper-parameters\n",
    "seed_id = 1\n",
    "seeding(seed_id)\n",
    "n_agents = 2              # fix by the env\n",
    "parallel_envs = 1         # cannot do anything but one\n",
    "number_of_episodes = 100\n",
    "episode_length = 80       # number of steps to stop an episode \n",
    "batchsize = 2\n",
    "save_interval = 10        # how many episodes to save policy\n",
    "episode_per_update = 2 * parallel_envs  # how many episodes before update\n",
    "buffer_size = 5000        # how many episodes kept as worth of replay\n",
    "buffer = ReplayBuffer(int(buffer_size*episode_length))\n",
    "\n",
    "# amplitude of OU noise -- slowly decrease noise to 0\n",
    "noise = 2\n",
    "mini_noise = 0.01\n",
    "noise_reduction = 0.9999"
   ]
  },
  {
   "cell_type": "code",
   "execution_count": 12,
   "metadata": {},
   "outputs": [
    {
     "name": "stderr",
     "output_type": "stream",
     "text": [
      "episode: 0/100   0% ETA:  --:--:-- |                                         | \r"
     ]
    }
   ],
   "source": [
    "# tensorboard logging\n",
    "log_path = os.getcwd()+\"/log\"\n",
    "model_dir= os.getcwd()+\"/model_dir\"\n",
    "os.makedirs(model_dir, exist_ok=True)\n",
    "logger = SummaryWriter(log_dir=log_path)\n",
    "agent0_reward = []\n",
    "agent1_reward = []\n",
    "\n",
    "# initialize policy and critic\n",
    "maddpg = MADDPG()\n",
    "\n",
    "# performance measurement\n",
    "threshold_success = 0.5\n",
    "scores_global = []                # collect scores for each episode\n",
    "scores_deque = deque(maxlen=100)  # collect 100 latest scores\n",
    "start_learning = time.time()\n",
    "stop = False\n",
    "\n",
    "# show progressbar\n",
    "import progressbar as pb\n",
    "widget = ['episode: ', pb.Counter(),'/',str(number_of_episodes),' ', \n",
    "          pb.Percentage(), ' ', pb.ETA(), ' ', pb.Bar(marker=pb.RotatingMarker()), ' ' ]\n",
    "timer = pb.ProgressBar(widgets=widget, maxval=number_of_episodes).start()"
   ]
  },
  {
   "cell_type": "code",
   "execution_count": 14,
   "metadata": {},
   "outputs": [
    {
     "name": "stderr",
     "output_type": "stream",
     "text": [
      "C:\\Users\\simon.chauvin\\AppData\\Local\\Continuum\\anaconda3\\envs\\drlnd\\lib\\site-packages\\torch\\nn\\functional.py:995: UserWarning: nn.functional.tanh is deprecated. Use torch.tanh instead.\n",
      "  warnings.warn(\"nn.functional.tanh is deprecated. Use torch.tanh instead.\")\n",
      "episode: 1/100   1% ETA:  4:12:23 |                                          | \r"
     ]
    },
    {
     "name": "stdout",
     "output_type": "stream",
     "text": [
      "epsiode = 0 -- time for update with batchsize = 2\n",
      "0-th episode, score_ep= 0.1700, avg_score= 0.1150, duration[ep]= 8.02 [s]\n"
     ]
    },
    {
     "name": "stderr",
     "output_type": "stream",
     "text": [
      "episode: 2/100   2% ETA:  2:11:27 |                                          | \r"
     ]
    },
    {
     "name": "stdout",
     "output_type": "stream",
     "text": [
      "1-th episode, score_ep= 0.0700, avg_score= 0.1000, duration[ep]= 8.00 [s]\n"
     ]
    },
    {
     "name": "stderr",
     "output_type": "stream",
     "text": [
      "episode: 3/100   3% ETA:  1:31:03 ||                                         | \r"
     ]
    },
    {
     "name": "stdout",
     "output_type": "stream",
     "text": [
      "epsiode = 2 -- time for update with batchsize = 2\n",
      "2-th episode, score_ep= 0.2000, avg_score= 0.1250, duration[ep]= 8.02 [s]\n"
     ]
    },
    {
     "name": "stderr",
     "output_type": "stream",
     "text": [
      "episode: 4/100   4% ETA:  1:10:47 |/                                         | \r"
     ]
    },
    {
     "name": "stdout",
     "output_type": "stream",
     "text": [
      "3-th episode, score_ep= 0.0800, avg_score= 0.1160, duration[ep]= 8.01 [s]\n"
     ]
    },
    {
     "name": "stderr",
     "output_type": "stream",
     "text": [
      "episode: 5/100   5% ETA:  0:58:35 |--                                        | \r"
     ]
    },
    {
     "name": "stdout",
     "output_type": "stream",
     "text": [
      "epsiode = 4 -- time for update with batchsize = 2\n",
      "4-th episode, score_ep= 0.0800, avg_score= 0.1100, duration[ep]= 8.03 [s]\n"
     ]
    },
    {
     "name": "stderr",
     "output_type": "stream",
     "text": [
      "episode: 6/100   6% ETA:  0:50:24 |\\\\                                        | \r"
     ]
    },
    {
     "name": "stdout",
     "output_type": "stream",
     "text": [
      "5-th episode, score_ep= 0.1000, avg_score= 0.1086, duration[ep]= 8.01 [s]\n"
     ]
    },
    {
     "name": "stderr",
     "output_type": "stream",
     "text": [
      "episode: 7/100   7% ETA:  0:44:31 |||                                        | \r"
     ]
    },
    {
     "name": "stdout",
     "output_type": "stream",
     "text": [
      "epsiode = 6 -- time for update with batchsize = 2\n",
      "6-th episode, score_ep= 0.1900, avg_score= 0.1188, duration[ep]= 8.02 [s]\n"
     ]
    },
    {
     "name": "stderr",
     "output_type": "stream",
     "text": [
      "episode: 8/100   8% ETA:  0:40:04 |///                                       | \r"
     ]
    },
    {
     "name": "stdout",
     "output_type": "stream",
     "text": [
      "7-th episode, score_ep= 0.0800, avg_score= 0.1144, duration[ep]= 8.00 [s]\n"
     ]
    },
    {
     "name": "stderr",
     "output_type": "stream",
     "text": [
      "episode: 9/100   9% ETA:  0:36:35 |---                                       | \r"
     ]
    },
    {
     "name": "stdout",
     "output_type": "stream",
     "text": [
      "epsiode = 8 -- time for update with batchsize = 2\n",
      "8-th episode, score_ep= 0.2000, avg_score= 0.1230, duration[ep]= 8.12 [s]\n"
     ]
    },
    {
     "name": "stderr",
     "output_type": "stream",
     "text": [
      "episode: 10/100  10% ETA:  0:33:46 |\\\\\\\\                                     | \r"
     ]
    },
    {
     "name": "stdout",
     "output_type": "stream",
     "text": [
      "9-th episode, score_ep= -0.0200, avg_score= 0.1100, duration[ep]= 8.02 [s]\n"
     ]
    },
    {
     "name": "stderr",
     "output_type": "stream",
     "text": [
      "episode: 11/100  11% ETA:  0:31:26 |||||                                     | \r"
     ]
    },
    {
     "name": "stdout",
     "output_type": "stream",
     "text": [
      "epsiode = 10 -- time for update with batchsize = 2\n",
      "10-th episode, score_ep= 0.1900, avg_score= 0.1167, duration[ep]= 8.02 [s]\n"
     ]
    },
    {
     "name": "stderr",
     "output_type": "stream",
     "text": [
      "episode: 12/100  12% ETA:  0:29:28 |////                                     | \r"
     ]
    },
    {
     "name": "stdout",
     "output_type": "stream",
     "text": [
      "11-th episode, score_ep= 0.0900, avg_score= 0.1146, duration[ep]= 8.00 [s]\n"
     ]
    },
    {
     "name": "stderr",
     "output_type": "stream",
     "text": [
      "episode: 13/100  13% ETA:  0:27:48 |-----                                    | \r"
     ]
    },
    {
     "name": "stdout",
     "output_type": "stream",
     "text": [
      "epsiode = 12 -- time for update with batchsize = 2\n",
      "12-th episode, score_ep= 0.0900, avg_score= 0.1129, duration[ep]= 8.02 [s]\n"
     ]
    },
    {
     "name": "stderr",
     "output_type": "stream",
     "text": [
      "episode: 14/100  14% ETA:  0:26:20 |\\\\\\\\\\                                    | \r"
     ]
    },
    {
     "name": "stdout",
     "output_type": "stream",
     "text": [
      "13-th episode, score_ep= 0.1700, avg_score= 0.1167, duration[ep]= 8.00 [s]\n"
     ]
    },
    {
     "name": "stderr",
     "output_type": "stream",
     "text": [
      "episode: 15/100  15% ETA:  0:25:03 |||||||                                   | \r"
     ]
    },
    {
     "name": "stdout",
     "output_type": "stream",
     "text": [
      "epsiode = 14 -- time for update with batchsize = 2\n",
      "14-th episode, score_ep= 0.0700, avg_score= 0.1138, duration[ep]= 8.04 [s]\n"
     ]
    },
    {
     "name": "stderr",
     "output_type": "stream",
     "text": [
      "episode: 16/100  16% ETA:  0:23:54 |//////                                   | \r"
     ]
    },
    {
     "name": "stdout",
     "output_type": "stream",
     "text": [
      "15-th episode, score_ep= 0.0900, avg_score= 0.1124, duration[ep]= 8.00 [s]\n"
     ]
    },
    {
     "name": "stderr",
     "output_type": "stream",
     "text": [
      "episode: 17/100  17% ETA:  0:22:53 |------                                   | \r"
     ]
    },
    {
     "name": "stdout",
     "output_type": "stream",
     "text": [
      "epsiode = 16 -- time for update with batchsize = 2\n",
      "16-th episode, score_ep= 0.1000, avg_score= 0.1117, duration[ep]= 8.02 [s]\n"
     ]
    },
    {
     "name": "stderr",
     "output_type": "stream",
     "text": [
      "episode: 18/100  18% ETA:  0:21:58 |\\\\\\\\\\\\\\                                  | \r"
     ]
    },
    {
     "name": "stdout",
     "output_type": "stream",
     "text": [
      "17-th episode, score_ep= 0.0800, avg_score= 0.1100, duration[ep]= 8.00 [s]\n"
     ]
    },
    {
     "name": "stderr",
     "output_type": "stream",
     "text": [
      "episode: 19/100  19% ETA:  0:21:07 ||||||||                                  | \r"
     ]
    },
    {
     "name": "stdout",
     "output_type": "stream",
     "text": [
      "epsiode = 18 -- time for update with batchsize = 2\n",
      "18-th episode, score_ep= 0.1800, avg_score= 0.1135, duration[ep]= 8.02 [s]\n"
     ]
    },
    {
     "name": "stderr",
     "output_type": "stream",
     "text": [
      "episode: 20/100  20% ETA:  0:20:21 |////////                                 | \r"
     ]
    },
    {
     "name": "stdout",
     "output_type": "stream",
     "text": [
      "19-th episode, score_ep= 0.1800, avg_score= 0.1167, duration[ep]= 8.02 [s]\n"
     ]
    },
    {
     "name": "stderr",
     "output_type": "stream",
     "text": [
      "episode: 21/100  21% ETA:  0:19:38 |--------                                 | \r"
     ]
    },
    {
     "name": "stdout",
     "output_type": "stream",
     "text": [
      "epsiode = 20 -- time for update with batchsize = 2\n",
      "20-th episode, score_ep= 0.0700, avg_score= 0.1145, duration[ep]= 8.02 [s]\n"
     ]
    },
    {
     "name": "stderr",
     "output_type": "stream",
     "text": [
      "episode: 22/100  22% ETA:  0:18:59 |\\\\\\\\\\\\\\\\\\                                | \r"
     ]
    },
    {
     "name": "stdout",
     "output_type": "stream",
     "text": [
      "21-th episode, score_ep= 0.0900, avg_score= 0.1135, duration[ep]= 8.00 [s]\n"
     ]
    },
    {
     "name": "stderr",
     "output_type": "stream",
     "text": [
      "episode: 23/100  23% ETA:  0:18:22 ||||||||||                                | \r"
     ]
    },
    {
     "name": "stdout",
     "output_type": "stream",
     "text": [
      "epsiode = 22 -- time for update with batchsize = 2\n",
      "22-th episode, score_ep= 0.0700, avg_score= 0.1117, duration[ep]= 8.02 [s]\n"
     ]
    },
    {
     "name": "stderr",
     "output_type": "stream",
     "text": [
      "episode: 24/100  24% ETA:  0:17:48 |/////////                                | \r"
     ]
    },
    {
     "name": "stdout",
     "output_type": "stream",
     "text": [
      "23-th episode, score_ep= 0.0900, avg_score= 0.1108, duration[ep]= 8.01 [s]\n"
     ]
    },
    {
     "name": "stderr",
     "output_type": "stream",
     "text": [
      "episode: 25/100  25% ETA:  0:17:16 |----------                               | \r"
     ]
    },
    {
     "name": "stdout",
     "output_type": "stream",
     "text": [
      "epsiode = 24 -- time for update with batchsize = 2\n",
      "24-th episode, score_ep= 0.1900, avg_score= 0.1138, duration[ep]= 8.04 [s]\n"
     ]
    },
    {
     "name": "stderr",
     "output_type": "stream",
     "text": [
      "episode: 26/100  26% ETA:  0:16:45 |\\\\\\\\\\\\\\\\\\\\                               | \r"
     ]
    },
    {
     "name": "stdout",
     "output_type": "stream",
     "text": [
      "25-th episode, score_ep= 0.0800, avg_score= 0.1126, duration[ep]= 8.00 [s]\n"
     ]
    },
    {
     "name": "stderr",
     "output_type": "stream",
     "text": [
      "episode: 27/100  27% ETA:  0:16:17 ||||||||||||                              | \r"
     ]
    },
    {
     "name": "stdout",
     "output_type": "stream",
     "text": [
      "epsiode = 26 -- time for update with batchsize = 2\n",
      "26-th episode, score_ep= 0.0000, avg_score= 0.1086, duration[ep]= 8.02 [s]\n"
     ]
    },
    {
     "name": "stderr",
     "output_type": "stream",
     "text": [
      "episode: 28/100  28% ETA:  0:15:50 |///////////                              | \r"
     ]
    },
    {
     "name": "stdout",
     "output_type": "stream",
     "text": [
      "27-th episode, score_ep= 0.2000, avg_score= 0.1117, duration[ep]= 8.01 [s]\n"
     ]
    },
    {
     "name": "stderr",
     "output_type": "stream",
     "text": [
      "episode: 29/100  29% ETA:  0:15:24 |-----------                              | \r"
     ]
    },
    {
     "name": "stdout",
     "output_type": "stream",
     "text": [
      "epsiode = 28 -- time for update with batchsize = 2\n",
      "28-th episode, score_ep= 0.1900, avg_score= 0.1143, duration[ep]= 8.02 [s]\n"
     ]
    },
    {
     "name": "stderr",
     "output_type": "stream",
     "text": [
      "episode: 30/100  30% ETA:  0:14:59 |\\\\\\\\\\\\\\\\\\\\\\\\                             | \r"
     ]
    },
    {
     "name": "stdout",
     "output_type": "stream",
     "text": [
      "29-th episode, score_ep= -0.0100, avg_score= 0.1103, duration[ep]= 8.02 [s]\n"
     ]
    },
    {
     "name": "stderr",
     "output_type": "stream",
     "text": [
      "episode: 31/100  31% ETA:  0:14:35 |||||||||||||                             | \r"
     ]
    },
    {
     "name": "stdout",
     "output_type": "stream",
     "text": [
      "epsiode = 30 -- time for update with batchsize = 2\n",
      "30-th episode, score_ep= 0.0900, avg_score= 0.1097, duration[ep]= 8.02 [s]\n"
     ]
    },
    {
     "name": "stderr",
     "output_type": "stream",
     "text": [
      "episode: 32/100  32% ETA:  0:14:13 |/////////////                            | \r"
     ]
    },
    {
     "name": "stdout",
     "output_type": "stream",
     "text": [
      "31-th episode, score_ep= 0.0800, avg_score= 0.1088, duration[ep]= 8.01 [s]\n"
     ]
    },
    {
     "name": "stderr",
     "output_type": "stream",
     "text": [
      "episode: 33/100  33% ETA:  0:13:51 |-------------                            | \r"
     ]
    },
    {
     "name": "stdout",
     "output_type": "stream",
     "text": [
      "epsiode = 32 -- time for update with batchsize = 2\n",
      "32-th episode, score_ep= 0.0900, avg_score= 0.1082, duration[ep]= 8.03 [s]\n"
     ]
    },
    {
     "name": "stderr",
     "output_type": "stream",
     "text": [
      "episode: 34/100  34% ETA:  0:13:30 |\\\\\\\\\\\\\\\\\\\\\\\\\\                            | \r"
     ]
    },
    {
     "name": "stdout",
     "output_type": "stream",
     "text": [
      "33-th episode, score_ep= -0.0100, avg_score= 0.1049, duration[ep]= 7.99 [s]\n"
     ]
    },
    {
     "name": "stderr",
     "output_type": "stream",
     "text": [
      "episode: 35/100  35% ETA:  0:13:10 |||||||||||||||                           | \r"
     ]
    },
    {
     "name": "stdout",
     "output_type": "stream",
     "text": [
      "epsiode = 34 -- time for update with batchsize = 2\n",
      "34-th episode, score_ep= 0.1900, avg_score= 0.1072, duration[ep]= 8.04 [s]\n"
     ]
    },
    {
     "name": "stderr",
     "output_type": "stream",
     "text": [
      "episode: 36/100  36% ETA:  0:12:50 |//////////////                           | \r"
     ]
    },
    {
     "name": "stdout",
     "output_type": "stream",
     "text": [
      "35-th episode, score_ep= -0.0200, avg_score= 0.1038, duration[ep]= 8.00 [s]\n"
     ]
    },
    {
     "name": "stderr",
     "output_type": "stream",
     "text": [
      "episode: 37/100  37% ETA:  0:12:31 |---------------                          | \r"
     ]
    },
    {
     "name": "stdout",
     "output_type": "stream",
     "text": [
      "epsiode = 36 -- time for update with batchsize = 2\n",
      "36-th episode, score_ep= -0.0200, avg_score= 0.1005, duration[ep]= 8.02 [s]\n"
     ]
    },
    {
     "name": "stderr",
     "output_type": "stream",
     "text": [
      "episode: 38/100  38% ETA:  0:12:13 |\\\\\\\\\\\\\\\\\\\\\\\\\\\\\\                          | \r"
     ]
    },
    {
     "name": "stdout",
     "output_type": "stream",
     "text": [
      "37-th episode, score_ep= -0.0100, avg_score= 0.0977, duration[ep]= 8.01 [s]\n"
     ]
    },
    {
     "name": "stderr",
     "output_type": "stream",
     "text": [
      "episode: 39/100  39% ETA:  0:11:55 ||||||||||||||||                          | \r"
     ]
    },
    {
     "name": "stdout",
     "output_type": "stream",
     "text": [
      "epsiode = 38 -- time for update with batchsize = 2\n",
      "38-th episode, score_ep= 0.0000, avg_score= 0.0953, duration[ep]= 8.02 [s]\n"
     ]
    },
    {
     "name": "stderr",
     "output_type": "stream",
     "text": [
      "episode: 40/100  40% ETA:  0:11:38 |////////////////                         | \r"
     ]
    },
    {
     "name": "stdout",
     "output_type": "stream",
     "text": [
      "39-th episode, score_ep= -0.0100, avg_score= 0.0927, duration[ep]= 8.02 [s]\n"
     ]
    },
    {
     "name": "stderr",
     "output_type": "stream",
     "text": [
      "episode: 41/100  41% ETA:  0:11:21 |----------------                         | \r"
     ]
    },
    {
     "name": "stdout",
     "output_type": "stream",
     "text": [
      "epsiode = 40 -- time for update with batchsize = 2\n",
      "40-th episode, score_ep= -0.0100, avg_score= 0.0902, duration[ep]= 8.02 [s]\n"
     ]
    },
    {
     "name": "stderr",
     "output_type": "stream",
     "text": [
      "episode: 42/100  42% ETA:  0:11:05 |\\\\\\\\\\\\\\\\\\\\\\\\\\\\\\\\\\                        | \r"
     ]
    },
    {
     "name": "stdout",
     "output_type": "stream",
     "text": [
      "41-th episode, score_ep= -0.0200, avg_score= 0.0877, duration[ep]= 8.01 [s]\n"
     ]
    },
    {
     "name": "stderr",
     "output_type": "stream",
     "text": [
      "episode: 43/100  43% ETA:  0:10:49 ||||||||||||||||||                        | \r"
     ]
    },
    {
     "name": "stdout",
     "output_type": "stream",
     "text": [
      "epsiode = 42 -- time for update with batchsize = 2\n",
      "42-th episode, score_ep= -0.0100, avg_score= 0.0855, duration[ep]= 8.02 [s]\n"
     ]
    },
    {
     "name": "stderr",
     "output_type": "stream",
     "text": [
      "episode: 44/100  44% ETA:  0:10:33 |//////////////////                       | \r"
     ]
    },
    {
     "name": "stdout",
     "output_type": "stream",
     "text": [
      "43-th episode, score_ep= -0.0200, avg_score= 0.0831, duration[ep]= 8.01 [s]\n"
     ]
    },
    {
     "name": "stderr",
     "output_type": "stream",
     "text": [
      "episode: 45/100  45% ETA:  0:10:18 |------------------                       | \r"
     ]
    },
    {
     "name": "stdout",
     "output_type": "stream",
     "text": [
      "epsiode = 44 -- time for update with batchsize = 2\n",
      "44-th episode, score_ep= -0.0200, avg_score= 0.0809, duration[ep]= 8.05 [s]\n"
     ]
    },
    {
     "name": "stderr",
     "output_type": "stream",
     "text": [
      "episode: 46/100  46% ETA:  0:10:03 |\\\\\\\\\\\\\\\\\\\\\\\\\\\\\\\\\\\\                       | \r"
     ]
    },
    {
     "name": "stdout",
     "output_type": "stream",
     "text": [
      "45-th episode, score_ep= -0.0200, avg_score= 0.0787, duration[ep]= 8.00 [s]\n"
     ]
    },
    {
     "name": "stderr",
     "output_type": "stream",
     "text": [
      "episode: 47/100  47% ETA:  0:09:48 ||||||||||||||||||||                      | \r"
     ]
    },
    {
     "name": "stdout",
     "output_type": "stream",
     "text": [
      "epsiode = 46 -- time for update with batchsize = 2\n",
      "46-th episode, score_ep= -0.0300, avg_score= 0.0765, duration[ep]= 8.02 [s]\n"
     ]
    },
    {
     "name": "stderr",
     "output_type": "stream",
     "text": [
      "episode: 48/100  48% ETA:  0:09:33 |///////////////////                      | \r"
     ]
    },
    {
     "name": "stdout",
     "output_type": "stream",
     "text": [
      "47-th episode, score_ep= -0.0100, avg_score= 0.0747, duration[ep]= 8.01 [s]\n"
     ]
    },
    {
     "name": "stderr",
     "output_type": "stream",
     "text": [
      "episode: 49/100  49% ETA:  0:09:19 |--------------------                     | \r"
     ]
    },
    {
     "name": "stdout",
     "output_type": "stream",
     "text": [
      "epsiode = 48 -- time for update with batchsize = 2\n",
      "48-th episode, score_ep= -0.0300, avg_score= 0.0726, duration[ep]= 8.02 [s]\n"
     ]
    },
    {
     "name": "stderr",
     "output_type": "stream",
     "text": [
      "episode: 50/100  50% ETA:  0:09:05 |\\\\\\\\\\\\\\\\\\\\\\\\\\\\\\\\\\\\\\\\                     | \r"
     ]
    },
    {
     "name": "stdout",
     "output_type": "stream",
     "text": [
      "49-th episode, score_ep= -0.0300, avg_score= 0.0706, duration[ep]= 8.02 [s]\n"
     ]
    },
    {
     "name": "stderr",
     "output_type": "stream",
     "text": [
      "episode: 51/100  51% ETA:  0:08:52 |||||||||||||||||||||                     | \r"
     ]
    },
    {
     "name": "stdout",
     "output_type": "stream",
     "text": [
      "epsiode = 50 -- time for update with batchsize = 2\n",
      "50-th episode, score_ep= -0.0200, avg_score= 0.0688, duration[ep]= 8.02 [s]\n"
     ]
    },
    {
     "name": "stderr",
     "output_type": "stream",
     "text": [
      "episode: 52/100  52% ETA:  0:08:38 |/////////////////////                    | \r"
     ]
    },
    {
     "name": "stdout",
     "output_type": "stream",
     "text": [
      "51-th episode, score_ep= -0.0200, avg_score= 0.0672, duration[ep]= 8.00 [s]\n"
     ]
    },
    {
     "name": "stderr",
     "output_type": "stream",
     "text": [
      "episode: 53/100  53% ETA:  0:08:25 |---------------------                    | \r"
     ]
    },
    {
     "name": "stdout",
     "output_type": "stream",
     "text": [
      "epsiode = 52 -- time for update with batchsize = 2\n",
      "52-th episode, score_ep= -0.0100, avg_score= 0.0657, duration[ep]= 8.02 [s]\n"
     ]
    },
    {
     "name": "stderr",
     "output_type": "stream",
     "text": [
      "episode: 54/100  54% ETA:  0:08:12 |\\\\\\\\\\\\\\\\\\\\\\\\\\\\\\\\\\\\\\\\\\\\                   | \r"
     ]
    },
    {
     "name": "stdout",
     "output_type": "stream",
     "text": [
      "53-th episode, score_ep= -0.0200, avg_score= 0.0642, duration[ep]= 8.01 [s]\n"
     ]
    },
    {
     "name": "stderr",
     "output_type": "stream",
     "text": [
      "episode: 55/100  55% ETA:  0:07:59 |||||||||||||||||||||||                   | \r"
     ]
    },
    {
     "name": "stdout",
     "output_type": "stream",
     "text": [
      "epsiode = 54 -- time for update with batchsize = 2\n",
      "54-th episode, score_ep= -0.0200, avg_score= 0.0627, duration[ep]= 8.03 [s]\n"
     ]
    },
    {
     "name": "stderr",
     "output_type": "stream",
     "text": [
      "episode: 56/100  56% ETA:  0:07:46 |//////////////////////                   | \r"
     ]
    },
    {
     "name": "stdout",
     "output_type": "stream",
     "text": [
      "55-th episode, score_ep= -0.0200, avg_score= 0.0612, duration[ep]= 8.00 [s]\n"
     ]
    },
    {
     "name": "stderr",
     "output_type": "stream",
     "text": [
      "episode: 57/100  57% ETA:  0:07:34 |-----------------------                  | \r"
     ]
    },
    {
     "name": "stdout",
     "output_type": "stream",
     "text": [
      "epsiode = 56 -- time for update with batchsize = 2\n",
      "56-th episode, score_ep= -0.0100, avg_score= 0.0600, duration[ep]= 8.02 [s]\n"
     ]
    },
    {
     "name": "stderr",
     "output_type": "stream",
     "text": [
      "episode: 58/100  58% ETA:  0:07:21 |\\\\\\\\\\\\\\\\\\\\\\\\\\\\\\\\\\\\\\\\\\\\\\                  | \r"
     ]
    },
    {
     "name": "stdout",
     "output_type": "stream",
     "text": [
      "57-th episode, score_ep= 0.0000, avg_score= 0.0590, duration[ep]= 8.01 [s]\n"
     ]
    },
    {
     "name": "stderr",
     "output_type": "stream",
     "text": [
      "episode: 59/100  59% ETA:  0:07:09 |||||||||||||||||||||||||                 | \r"
     ]
    },
    {
     "name": "stdout",
     "output_type": "stream",
     "text": [
      "epsiode = 58 -- time for update with batchsize = 2\n",
      "58-th episode, score_ep= -0.0300, avg_score= 0.0575, duration[ep]= 8.02 [s]\n"
     ]
    },
    {
     "name": "stderr",
     "output_type": "stream",
     "text": [
      "episode: 60/100  60% ETA:  0:06:57 |////////////////////////                 | \r"
     ]
    },
    {
     "name": "stdout",
     "output_type": "stream",
     "text": [
      "59-th episode, score_ep= -0.0200, avg_score= 0.0562, duration[ep]= 8.02 [s]\n"
     ]
    },
    {
     "name": "stderr",
     "output_type": "stream",
     "text": [
      "episode: 61/100  61% ETA:  0:06:45 |-------------------------                | \r"
     ]
    },
    {
     "name": "stdout",
     "output_type": "stream",
     "text": [
      "epsiode = 60 -- time for update with batchsize = 2\n",
      "60-th episode, score_ep= -0.0200, avg_score= 0.0550, duration[ep]= 8.02 [s]\n"
     ]
    },
    {
     "name": "stderr",
     "output_type": "stream",
     "text": [
      "episode: 62/100  62% ETA:  0:06:33 |\\\\\\\\\\\\\\\\\\\\\\\\\\\\\\\\\\\\\\\\\\\\\\\\\\                | \r"
     ]
    },
    {
     "name": "stdout",
     "output_type": "stream",
     "text": [
      "61-th episode, score_ep= -0.0200, avg_score= 0.0538, duration[ep]= 8.00 [s]\n"
     ]
    },
    {
     "name": "stderr",
     "output_type": "stream",
     "text": [
      "episode: 63/100  63% ETA:  0:06:21 ||||||||||||||||||||||||||                | \r"
     ]
    },
    {
     "name": "stdout",
     "output_type": "stream",
     "text": [
      "epsiode = 62 -- time for update with batchsize = 2\n",
      "62-th episode, score_ep= -0.0100, avg_score= 0.0528, duration[ep]= 8.02 [s]\n"
     ]
    },
    {
     "name": "stderr",
     "output_type": "stream",
     "text": [
      "episode: 64/100  64% ETA:  0:06:10 |//////////////////////////               | \r"
     ]
    },
    {
     "name": "stdout",
     "output_type": "stream",
     "text": [
      "63-th episode, score_ep= -0.0200, avg_score= 0.0517, duration[ep]= 8.00 [s]\n"
     ]
    },
    {
     "name": "stderr",
     "output_type": "stream",
     "text": [
      "episode: 65/100  65% ETA:  0:05:58 |--------------------------               | \r"
     ]
    },
    {
     "name": "stdout",
     "output_type": "stream",
     "text": [
      "epsiode = 64 -- time for update with batchsize = 2\n",
      "64-th episode, score_ep= 0.0000, avg_score= 0.0509, duration[ep]= 8.03 [s]\n"
     ]
    },
    {
     "name": "stderr",
     "output_type": "stream",
     "text": [
      "episode: 66/100  66% ETA:  0:05:47 |\\\\\\\\\\\\\\\\\\\\\\\\\\\\\\\\\\\\\\\\\\\\\\\\\\\\\\              | \r"
     ]
    },
    {
     "name": "stdout",
     "output_type": "stream",
     "text": [
      "65-th episode, score_ep= -0.0200, avg_score= 0.0499, duration[ep]= 8.00 [s]\n"
     ]
    },
    {
     "name": "stderr",
     "output_type": "stream",
     "text": [
      "episode: 67/100  67% ETA:  0:05:35 ||||||||||||||||||||||||||||              | \r"
     ]
    },
    {
     "name": "stdout",
     "output_type": "stream",
     "text": [
      "epsiode = 66 -- time for update with batchsize = 2\n",
      "66-th episode, score_ep= 0.0000, avg_score= 0.0491, duration[ep]= 8.02 [s]\n"
     ]
    },
    {
     "name": "stderr",
     "output_type": "stream",
     "text": [
      "episode: 68/100  68% ETA:  0:05:24 |///////////////////////////              | \r"
     ]
    },
    {
     "name": "stdout",
     "output_type": "stream",
     "text": [
      "67-th episode, score_ep= -0.0200, avg_score= 0.0481, duration[ep]= 8.00 [s]\n"
     ]
    },
    {
     "name": "stderr",
     "output_type": "stream",
     "text": [
      "episode: 69/100  69% ETA:  0:05:13 |----------------------------             | \r"
     ]
    },
    {
     "name": "stdout",
     "output_type": "stream",
     "text": [
      "epsiode = 68 -- time for update with batchsize = 2\n",
      "68-th episode, score_ep= -0.0200, avg_score= 0.0471, duration[ep]= 8.02 [s]\n"
     ]
    },
    {
     "name": "stderr",
     "output_type": "stream",
     "text": [
      "episode: 70/100  70% ETA:  0:05:02 |\\\\\\\\\\\\\\\\\\\\\\\\\\\\\\\\\\\\\\\\\\\\\\\\\\\\\\\\             | \r"
     ]
    },
    {
     "name": "stdout",
     "output_type": "stream",
     "text": [
      "69-th episode, score_ep= 0.0700, avg_score= 0.0475, duration[ep]= 8.02 [s]\n"
     ]
    },
    {
     "name": "stderr",
     "output_type": "stream",
     "text": [
      "episode: 71/100  71% ETA:  0:04:51 ||||||||||||||||||||||||||||||            | \r"
     ]
    },
    {
     "name": "stdout",
     "output_type": "stream",
     "text": [
      "epsiode = 70 -- time for update with batchsize = 2\n",
      "70-th episode, score_ep= -0.0200, avg_score= 0.0465, duration[ep]= 8.02 [s]\n"
     ]
    },
    {
     "name": "stderr",
     "output_type": "stream",
     "text": [
      "episode: 72/100  72% ETA:  0:04:40 |/////////////////////////////            | \r"
     ]
    },
    {
     "name": "stdout",
     "output_type": "stream",
     "text": [
      "71-th episode, score_ep= 0.0700, avg_score= 0.0468, duration[ep]= 8.00 [s]\n"
     ]
    },
    {
     "name": "stderr",
     "output_type": "stream",
     "text": [
      "episode: 73/100  73% ETA:  0:04:30 |-----------------------------            | \r"
     ]
    },
    {
     "name": "stdout",
     "output_type": "stream",
     "text": [
      "epsiode = 72 -- time for update with batchsize = 2\n",
      "72-th episode, score_ep= -0.0200, avg_score= 0.0459, duration[ep]= 8.02 [s]\n"
     ]
    },
    {
     "name": "stderr",
     "output_type": "stream",
     "text": [
      "episode: 74/100  74% ETA:  0:04:19 |\\\\\\\\\\\\\\\\\\\\\\\\\\\\\\\\\\\\\\\\\\\\\\\\\\\\\\\\\\\\           | \r"
     ]
    },
    {
     "name": "stdout",
     "output_type": "stream",
     "text": [
      "73-th episode, score_ep= -0.0100, avg_score= 0.0452, duration[ep]= 8.00 [s]\n"
     ]
    },
    {
     "name": "stderr",
     "output_type": "stream",
     "text": [
      "episode: 75/100  75% ETA:  0:04:08 |||||||||||||||||||||||||||||||           | \r"
     ]
    },
    {
     "name": "stdout",
     "output_type": "stream",
     "text": [
      "epsiode = 74 -- time for update with batchsize = 2\n",
      "74-th episode, score_ep= 0.0000, avg_score= 0.0446, duration[ep]= 8.04 [s]\n"
     ]
    },
    {
     "name": "stderr",
     "output_type": "stream",
     "text": [
      "episode: 76/100  76% ETA:  0:03:58 |///////////////////////////////          | \r"
     ]
    },
    {
     "name": "stdout",
     "output_type": "stream",
     "text": [
      "75-th episode, score_ep= -0.0300, avg_score= 0.0436, duration[ep]= 8.00 [s]\n"
     ]
    },
    {
     "name": "stderr",
     "output_type": "stream",
     "text": [
      "episode: 77/100  77% ETA:  0:03:47 |-------------------------------          | \r"
     ]
    },
    {
     "name": "stdout",
     "output_type": "stream",
     "text": [
      "epsiode = 76 -- time for update with batchsize = 2\n",
      "76-th episode, score_ep= -0.0200, avg_score= 0.0428, duration[ep]= 8.02 [s]\n"
     ]
    },
    {
     "name": "stderr",
     "output_type": "stream",
     "text": [
      "episode: 78/100  78% ETA:  0:03:37 |\\\\\\\\\\\\\\\\\\\\\\\\\\\\\\\\\\\\\\\\\\\\\\\\\\\\\\\\\\\\\\          | \r"
     ]
    },
    {
     "name": "stdout",
     "output_type": "stream",
     "text": [
      "77-th episode, score_ep= -0.0200, avg_score= 0.0420, duration[ep]= 8.01 [s]\n"
     ]
    },
    {
     "name": "stderr",
     "output_type": "stream",
     "text": [
      "episode: 79/100  79% ETA:  0:03:26 |||||||||||||||||||||||||||||||||         | \r"
     ]
    },
    {
     "name": "stdout",
     "output_type": "stream",
     "text": [
      "epsiode = 78 -- time for update with batchsize = 2\n",
      "78-th episode, score_ep= -0.0200, avg_score= 0.0413, duration[ep]= 8.02 [s]\n"
     ]
    },
    {
     "name": "stderr",
     "output_type": "stream",
     "text": [
      "episode: 80/100  80% ETA:  0:03:16 |////////////////////////////////         | \r"
     ]
    },
    {
     "name": "stdout",
     "output_type": "stream",
     "text": [
      "79-th episode, score_ep= 0.1800, avg_score= 0.0430, duration[ep]= 8.02 [s]\n"
     ]
    },
    {
     "name": "stderr",
     "output_type": "stream",
     "text": [
      "episode: 81/100  81% ETA:  0:03:06 |---------------------------------        | \r"
     ]
    },
    {
     "name": "stdout",
     "output_type": "stream",
     "text": [
      "epsiode = 80 -- time for update with batchsize = 2\n",
      "80-th episode, score_ep= -0.0200, avg_score= 0.0422, duration[ep]= 8.02 [s]\n"
     ]
    },
    {
     "name": "stderr",
     "output_type": "stream",
     "text": [
      "episode: 82/100  82% ETA:  0:02:56 |\\\\\\\\\\\\\\\\\\\\\\\\\\\\\\\\\\\\\\\\\\\\\\\\\\\\\\\\\\\\\\\\\\        | \r"
     ]
    },
    {
     "name": "stdout",
     "output_type": "stream",
     "text": [
      "81-th episode, score_ep= -0.0200, avg_score= 0.0414, duration[ep]= 8.00 [s]\n"
     ]
    },
    {
     "name": "stderr",
     "output_type": "stream",
     "text": [
      "episode: 83/100  83% ETA:  0:02:45 |||||||||||||||||||||||||||||||||||       | \r"
     ]
    },
    {
     "name": "stdout",
     "output_type": "stream",
     "text": [
      "epsiode = 82 -- time for update with batchsize = 2\n",
      "82-th episode, score_ep= -0.0200, avg_score= 0.0407, duration[ep]= 8.02 [s]\n"
     ]
    },
    {
     "name": "stderr",
     "output_type": "stream",
     "text": [
      "episode: 84/100  84% ETA:  0:02:35 |//////////////////////////////////       | \r"
     ]
    },
    {
     "name": "stdout",
     "output_type": "stream",
     "text": [
      "83-th episode, score_ep= -0.0200, avg_score= 0.0400, duration[ep]= 8.00 [s]\n"
     ]
    },
    {
     "name": "stderr",
     "output_type": "stream",
     "text": [
      "episode: 85/100  85% ETA:  0:02:25 |----------------------------------       | \r"
     ]
    },
    {
     "name": "stdout",
     "output_type": "stream",
     "text": [
      "epsiode = 84 -- time for update with batchsize = 2\n",
      "84-th episode, score_ep= 0.1000, avg_score= 0.0407, duration[ep]= 8.03 [s]\n"
     ]
    },
    {
     "name": "stderr",
     "output_type": "stream",
     "text": [
      "episode: 86/100  86% ETA:  0:02:15 |\\\\\\\\\\\\\\\\\\\\\\\\\\\\\\\\\\\\\\\\\\\\\\\\\\\\\\\\\\\\\\\\\\\\\\      | \r"
     ]
    },
    {
     "name": "stdout",
     "output_type": "stream",
     "text": [
      "85-th episode, score_ep= -0.0200, avg_score= 0.0400, duration[ep]= 8.01 [s]\n"
     ]
    },
    {
     "name": "stderr",
     "output_type": "stream",
     "text": [
      "episode: 87/100  87% ETA:  0:02:05 ||||||||||||||||||||||||||||||||||||      | \r"
     ]
    },
    {
     "name": "stdout",
     "output_type": "stream",
     "text": [
      "epsiode = 86 -- time for update with batchsize = 2\n",
      "86-th episode, score_ep= -0.0300, avg_score= 0.0392, duration[ep]= 8.02 [s]\n"
     ]
    },
    {
     "name": "stderr",
     "output_type": "stream",
     "text": [
      "episode: 88/100  88% ETA:  0:01:55 |////////////////////////////////////     | \r"
     ]
    },
    {
     "name": "stdout",
     "output_type": "stream",
     "text": [
      "87-th episode, score_ep= -0.0100, avg_score= 0.0387, duration[ep]= 8.01 [s]\n"
     ]
    },
    {
     "name": "stderr",
     "output_type": "stream",
     "text": [
      "episode: 89/100  89% ETA:  0:01:46 |------------------------------------     | \r"
     ]
    },
    {
     "name": "stdout",
     "output_type": "stream",
     "text": [
      "epsiode = 88 -- time for update with batchsize = 2\n",
      "88-th episode, score_ep= 0.0600, avg_score= 0.0389, duration[ep]= 8.02 [s]\n"
     ]
    },
    {
     "name": "stderr",
     "output_type": "stream",
     "text": [
      "episode: 90/100  90% ETA:  0:01:36 |\\\\\\\\\\\\\\\\\\\\\\\\\\\\\\\\\\\\\\\\\\\\\\\\\\\\\\\\\\\\\\\\\\\\\\\\     | \r"
     ]
    },
    {
     "name": "stdout",
     "output_type": "stream",
     "text": [
      "89-th episode, score_ep= -0.0200, avg_score= 0.0382, duration[ep]= 8.02 [s]\n"
     ]
    },
    {
     "name": "stderr",
     "output_type": "stream",
     "text": [
      "episode: 91/100  91% ETA:  0:01:26 ||||||||||||||||||||||||||||||||||||||    | \r"
     ]
    },
    {
     "name": "stdout",
     "output_type": "stream",
     "text": [
      "epsiode = 90 -- time for update with batchsize = 2\n",
      "90-th episode, score_ep= -0.0200, avg_score= 0.0376, duration[ep]= 8.01 [s]\n"
     ]
    },
    {
     "name": "stderr",
     "output_type": "stream",
     "text": [
      "episode: 92/100  92% ETA:  0:01:16 |/////////////////////////////////////    | \r"
     ]
    },
    {
     "name": "stdout",
     "output_type": "stream",
     "text": [
      "91-th episode, score_ep= -0.0200, avg_score= 0.0370, duration[ep]= 8.01 [s]\n"
     ]
    },
    {
     "name": "stderr",
     "output_type": "stream",
     "text": [
      "episode: 93/100  93% ETA:  0:01:07 |--------------------------------------   | \r"
     ]
    },
    {
     "name": "stdout",
     "output_type": "stream",
     "text": [
      "epsiode = 92 -- time for update with batchsize = 2\n",
      "92-th episode, score_ep= 0.0800, avg_score= 0.0374, duration[ep]= 8.02 [s]\n"
     ]
    },
    {
     "name": "stderr",
     "output_type": "stream",
     "text": [
      "episode: 94/100  94% ETA:  0:00:57 |\\\\\\\\\\\\\\\\\\\\\\\\\\\\\\\\\\\\\\\\\\\\\\\\\\\\\\\\\\\\\\\\\\\\\\\\\\\\   | \r"
     ]
    },
    {
     "name": "stdout",
     "output_type": "stream",
     "text": [
      "93-th episode, score_ep= -0.0200, avg_score= 0.0368, duration[ep]= 8.00 [s]\n"
     ]
    },
    {
     "name": "stderr",
     "output_type": "stream",
     "text": [
      "episode: 95/100  95% ETA:  0:00:47 |||||||||||||||||||||||||||||||||||||||   | \r"
     ]
    },
    {
     "name": "stdout",
     "output_type": "stream",
     "text": [
      "epsiode = 94 -- time for update with batchsize = 2\n",
      "94-th episode, score_ep= -0.0200, avg_score= 0.0363, duration[ep]= 8.03 [s]\n"
     ]
    },
    {
     "name": "stderr",
     "output_type": "stream",
     "text": [
      "episode: 96/100  96% ETA:  0:00:38 |///////////////////////////////////////  | \r"
     ]
    },
    {
     "name": "stdout",
     "output_type": "stream",
     "text": [
      "95-th episode, score_ep= -0.0200, avg_score= 0.0357, duration[ep]= 8.00 [s]\n"
     ]
    },
    {
     "name": "stderr",
     "output_type": "stream",
     "text": [
      "episode: 97/100  97% ETA:  0:00:28 |---------------------------------------  | \r"
     ]
    },
    {
     "name": "stdout",
     "output_type": "stream",
     "text": [
      "epsiode = 96 -- time for update with batchsize = 2\n",
      "96-th episode, score_ep= 0.0600, avg_score= 0.0359, duration[ep]= 8.02 [s]\n"
     ]
    },
    {
     "name": "stderr",
     "output_type": "stream",
     "text": [
      "episode: 98/100  98% ETA:  0:00:18 |\\\\\\\\\\\\\\\\\\\\\\\\\\\\\\\\\\\\\\\\\\\\\\\\\\\\\\\\\\\\\\\\\\\\\\\\\\\\\\\\ | \r"
     ]
    },
    {
     "name": "stdout",
     "output_type": "stream",
     "text": [
      "97-th episode, score_ep= -0.0100, avg_score= 0.0355, duration[ep]= 8.00 [s]\n"
     ]
    },
    {
     "name": "stderr",
     "output_type": "stream",
     "text": [
      "episode: 99/100  99% ETA:  0:00:09 ||||||||||||||||||||||||||||||||||||||||| | \r"
     ]
    },
    {
     "name": "stdout",
     "output_type": "stream",
     "text": [
      "epsiode = 98 -- time for update with batchsize = 2\n",
      "98-th episode, score_ep= -0.0100, avg_score= 0.0350, duration[ep]= 8.02 [s]\n"
     ]
    },
    {
     "name": "stderr",
     "output_type": "stream",
     "text": [
      "episode: 100/100 100% Time: 0:15:46 |||||||||||||||||||||||||||||||||||||||||| \r"
     ]
    },
    {
     "name": "stdout",
     "output_type": "stream",
     "text": [
      "99-th episode, score_ep= -0.0200, avg_score= 0.0342, duration[ep]= 8.02 [s]\n"
     ]
    },
    {
     "name": "stderr",
     "output_type": "stream",
     "text": [
      "\n"
     ]
    }
   ],
   "source": [
    "for episode in range(0, number_of_episodes, parallel_envs):\n",
    "    \n",
    "    # book-keeping\n",
    "    timer.update(episode)\n",
    "    start_episode = time.time()\n",
    "    reward_this_episode = np.zeros((parallel_envs, n_agents))\n",
    "\n",
    "    # reset the environment\n",
    "    env_info = env.reset(train_mode=False)[brain_name]\n",
    "    states = env_info.vector_observations\n",
    "    obs = [states]\n",
    "    # !!! ToDo: define obs_full !!!! \n",
    "    obs_full = [states[0]]\n",
    "\n",
    "    # save info or not\n",
    "    save_info = ((episode) % save_interval < parallel_envs or episode==number_of_episodes-parallel_envs)\n",
    "\n",
    "    for _ in range(episode_length):\n",
    "        # action input needs to be transposed\n",
    "        actions = maddpg.act(transpose_to_tensor(obs), noise=max(noise, mini_noise))\n",
    "        noise *= noise_reduction\n",
    "        actions_array = torch.stack(actions).detach().numpy()\n",
    "        actions_for_env = np.rollaxis(actions_array,1)\n",
    "        actions = actions_for_env[0]\n",
    "\n",
    "        # step forward one frame\n",
    "        # next_obs, next_obs_full, rewards, dones, info = env.step(actions_for_env)\n",
    "        env_info = env.step(actions)[brain_name]      # send all actions to the environment\n",
    "        next_states = env_info.vector_observations    # get next state (for each agent)\n",
    "        rewards = env_info.rewards                    # get reward (for each agent)\n",
    "        dones = env_info.local_done                   # see if episode finished\n",
    "        \n",
    "        # adapt format\n",
    "        # !!! ToDo: define next_obs_full !!!! \n",
    "        next_obs_full = [next_states[0]]\n",
    "        next_obs = [next_states]\n",
    "        dones = [dones]\n",
    "        rewards = [rewards]\n",
    "\n",
    "        # add data to buffer\n",
    "        transition = (obs, obs_full, actions_for_env, rewards, next_obs, next_obs_full, dones)\n",
    "        buffer.push(transition)\n",
    "\n",
    "        # before transitioning to new step\n",
    "        reward_this_episode += rewards\n",
    "        obs = next_obs\n",
    "\n",
    "    # --- episode is over ---\n",
    "\n",
    "    # update models once after every episode_per_update\n",
    "    if len(buffer) > batchsize and episode % episode_per_update < parallel_envs:\n",
    "        print(\"epsiode = {} -- time for update with batchsize = {}\".format(episode, batchsize))\n",
    "        for a_i in range(n_agents):\n",
    "            samples = buffer.sample(batchsize)\n",
    "            maddpg.update(samples, a_i, logger)\n",
    "        maddpg.update_targets() #  soft update the target network towards the actual networks\n",
    "\n",
    "    # measure performance\n",
    "    score = max(reward_this_episode[0])\n",
    "    scores_deque.append(score)\n",
    "    scores_global.append(score)\n",
    "    print('{}-th episode, score_ep= {:.4f}, avg_score= {:.4f}, duration[ep]= {:.2f} [s]'\\\n",
    "          .format(episode, score, np.mean(scores_deque), time.time()-start_episode), end=\"\\n\")\n",
    "    for i in range(parallel_envs):\n",
    "        agent0_reward.append(reward_this_episode[i,0])\n",
    "        agent1_reward.append(reward_this_episode[i,1])\n",
    "    \n",
    "    # log performance\n",
    "    logger.add_scalar('score', score, episode)          # not working??\n",
    "    logger.add_scalar('avg_score', np.mean(scores_deque), episode)  # not working??\n",
    "    if episode % 3 == 0 or episode == number_of_episodes-1:\n",
    "        avg_rewards = [np.mean(agent0_reward), np.mean(agent1_reward)]\n",
    "        agent0_reward = []\n",
    "        agent1_reward = []\n",
    "        for a_i, avg_rew in enumerate(avg_rewards):\n",
    "            logger.add_scalar('agent%i/mean_episode_rewards' % a_i, avg_rew, episode)\n",
    "\n",
    "    # Test if success -- Instructions:\n",
    "    # After each episode, we add up the rewards that each agent received (without discounting)\n",
    "    # to get a score for each agent.\n",
    "    # This yields 2 (potentially different) scores.\n",
    "    # We then take the maximum of these 2 scores.\n",
    "    # This yields a single score for each episode.\n",
    "    # The environment is considered solved,\n",
    "    # when the average (over 100 episodes) of those scores is at least +0.5\n",
    "    if np.mean(scores_deque) > threshold_success:\n",
    "        print(\"SUCCESS -- after {} episodes and {:.2f} min\".format(episode, (time.time()-start_learning)/60))\n",
    "        save_info = True\n",
    "        stop = True\n",
    "\n",
    "    #saving model\n",
    "    save_dict_list =[]\n",
    "    if save_info:\n",
    "        for i in range(n_agents):\n",
    "            save_dict = {'actor_params' : maddpg.maddpg_agent[i].actor.state_dict(),\n",
    "                         'actor_optim_params': maddpg.maddpg_agent[i].actor_optimizer.state_dict(),\n",
    "                         'critic_params' : maddpg.maddpg_agent[i].critic.state_dict(),\n",
    "                         'critic_optim_params' : maddpg.maddpg_agent[i].critic_optimizer.state_dict()}\n",
    "            save_dict_list.append(save_dict)\n",
    "            torch.save(save_dict_list, os.path.join(\n",
    "                model_dir, 'episode-{}.pt'.format(episode)))\n",
    "\n",
    "    if stop:\n",
    "        break\n",
    "\n",
    "env.close()\n",
    "logger.close()\n",
    "timer.finish()"
   ]
  },
  {
   "cell_type": "code",
   "execution_count": null,
   "metadata": {},
   "outputs": [],
   "source": []
  },
  {
   "cell_type": "code",
   "execution_count": null,
   "metadata": {},
   "outputs": [],
   "source": []
  },
  {
   "cell_type": "code",
   "execution_count": null,
   "metadata": {},
   "outputs": [],
   "source": []
  },
  {
   "cell_type": "code",
   "execution_count": null,
   "metadata": {},
   "outputs": [],
   "source": []
  },
  {
   "cell_type": "code",
   "execution_count": null,
   "metadata": {},
   "outputs": [],
   "source": []
  },
  {
   "cell_type": "code",
   "execution_count": null,
   "metadata": {},
   "outputs": [],
   "source": [
    "env.close()"
   ]
  },
  {
   "cell_type": "code",
   "execution_count": null,
   "metadata": {},
   "outputs": [],
   "source": []
  },
  {
   "cell_type": "code",
   "execution_count": null,
   "metadata": {},
   "outputs": [],
   "source": []
  },
  {
   "cell_type": "code",
   "execution_count": null,
   "metadata": {},
   "outputs": [],
   "source": []
  }
 ],
 "metadata": {
  "kernelspec": {
   "display_name": "drlnd",
   "language": "python",
   "name": "drlnd"
  },
  "language_info": {
   "codemirror_mode": {
    "name": "ipython",
    "version": 3
   },
   "file_extension": ".py",
   "mimetype": "text/x-python",
   "name": "python",
   "nbconvert_exporter": "python",
   "pygments_lexer": "ipython3",
   "version": "3.6.6"
  }
 },
 "nbformat": 4,
 "nbformat_minor": 2
}
