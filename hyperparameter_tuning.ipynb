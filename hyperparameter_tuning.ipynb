{
 "cells": [
  {
   "cell_type": "markdown",
   "metadata": {},
   "source": [
    "Optimization tools"
   ]
  },
  {
   "cell_type": "code",
   "execution_count": 2,
   "metadata": {},
   "outputs": [
    {
     "ename": "NameError",
     "evalue": "name 'initial_epsilon' is not defined",
     "output_type": "error",
     "traceback": [
      "\u001b[1;31m---------------------------------------------------------------------------\u001b[0m",
      "\u001b[1;31mNameError\u001b[0m                                 Traceback (most recent call last)",
      "\u001b[1;32m<ipython-input-2-ff6bbfd3a76b>\u001b[0m in \u001b[0;36m<module>\u001b[1;34m()\u001b[0m\n\u001b[0;32m      1\u001b[0m hyperparameters = [\n\u001b[1;32m----> 2\u001b[1;33m     \u001b[0minitial_epsilon\u001b[0m\u001b[1;33m,\u001b[0m  \u001b[1;31m# initial exploration rate\u001b[0m\u001b[1;33m\u001b[0m\u001b[0m\n\u001b[0m\u001b[0;32m      3\u001b[0m     \u001b[0mepsilon_mini\u001b[0m\u001b[1;33m,\u001b[0m  \u001b[1;31m# = 0.01\u001b[0m\u001b[1;33m\u001b[0m\u001b[0m\n\u001b[0;32m      4\u001b[0m     \u001b[0mgamma\u001b[0m\u001b[1;33m,\u001b[0m  \u001b[1;31m# = 0.9 # discount factor\u001b[0m\u001b[1;33m\u001b[0m\u001b[0m\n\u001b[0;32m      5\u001b[0m     \u001b[0malpha\u001b[0m\u001b[1;33m,\u001b[0m  \u001b[1;31m# = 0.05 # learning rate\u001b[0m\u001b[1;33m\u001b[0m\u001b[0m\n",
      "\u001b[1;31mNameError\u001b[0m: name 'initial_epsilon' is not defined"
     ]
    }
   ],
   "source": [
    "hyperparameters = [\n",
    "    initial_epsilon,  # 0.9 or 1.0 initial exploration rate\n",
    "    epsilon_mini,  # = 0.01\n",
    "    gamma,  # = 0.9 or 0.99 # discount factor - as close to 1 as possible\n",
    "    alpha,  # = 0.05 or 0.02 # learning rate\n",
    "    # how quickly should we decrease epsilon. It depends on nb_episodes_before_plateau\n",
    "    epsilon_decay_rate\n",
    "    # nb_episodes_before_plateau = log10(eps_end / eps_start) / log10(eps_decay)\n",
    "    # eps_decay = (eps_end / eps_start) ** (1 / nb_episodes_before_plateau)\n",
    "    # 0.99907  # for getting to 0.01 in ~5000 episodes\n",
    "    BUFFER_SIZE = int(1e6)  # replay buffer size\n",
    "    BATCH_SIZE = 128        # minibatch size for training DDPG\n",
    "    TAU = 1e-3              # for soft update of target parameters\n",
    "    LR_ACTOR = 1e-4         # learning rate of the actor \n",
    "    LR_CRITIC = 3e-4        # learning rate of the critic\n",
    "    WEIGHT_DECAY = 0.0001   # L2 weight decay - for Critic only\n",
    "    OUNoise = True          # Ornstein-Uhlenbeck process (mu=0., theta=0.15, sigma=0.2)\n",
    "]"
   ]
  },
  {
   "cell_type": "code",
   "execution_count": null,
   "metadata": {},
   "outputs": [],
   "source": [
    "# Learn, if enough samples are available in memory\n",
    "# ToDo: get less aggressive with the number of updates per time step\n",
    "# - instead of updating the actor and critic networks (20 times) at every timestep,\n",
    "# - complete update of the networks (10 times) after every 20 timesteps\n",
    "if len(self.memory) > BATCH_SIZE:\n",
    "    if self.step_counter % 10 == 0:\n",
    "        experiences = self.memory.sample()\n",
    "        self.learn(experiences, GAMMA)"
   ]
  },
  {
   "cell_type": "code",
   "execution_count": null,
   "metadata": {},
   "outputs": [],
   "source": [
    "# epsilon scheduling\n",
    "eps = 1.0 / i_episode  # 1/n\n",
    "eps = 0.05 # fixed\n",
    "eps = max(eps_end, eps_decay * eps)  # at each episode"
   ]
  },
  {
   "cell_type": "code",
   "execution_count": null,
   "metadata": {},
   "outputs": [],
   "source": [
    "self.seed = np.random.seed(seed)"
   ]
  },
  {
   "cell_type": "code",
   "execution_count": null,
   "metadata": {},
   "outputs": [],
   "source": [
    "# average score. Then take the max.\n",
    "if len(scores) > 100:\n",
    "    avg_score = np.mean(scores[-100:])\n",
    "    if avg_score > max_avg_score:\n",
    "        max_avg_score = avg_score"
   ]
  },
  {
   "cell_type": "code",
   "execution_count": 1,
   "metadata": {},
   "outputs": [],
   "source": [
    "# to time the learning process\n",
    "import time\n",
    "time_start = time.time()\n",
    "time_intermediate = time.time()"
   ]
  },
  {
   "cell_type": "code",
   "execution_count": null,
   "metadata": {},
   "outputs": [],
   "source": []
  }
 ],
 "metadata": {
  "kernelspec": {
   "display_name": "drlnd",
   "language": "python",
   "name": "drlnd"
  },
  "language_info": {
   "codemirror_mode": {
    "name": "ipython",
    "version": 3
   },
   "file_extension": ".py",
   "mimetype": "text/x-python",
   "name": "python",
   "nbconvert_exporter": "python",
   "pygments_lexer": "ipython3",
   "version": "3.6.6"
  }
 },
 "nbformat": 4,
 "nbformat_minor": 2
}
