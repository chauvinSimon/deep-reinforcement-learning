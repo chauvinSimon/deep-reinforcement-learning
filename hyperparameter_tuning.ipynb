{
 "cells": [
  {
   "cell_type": "markdown",
   "metadata": {},
   "source": [
    "Optimization tools"
   ]
  },
  {
   "cell_type": "code",
   "execution_count": null,
   "metadata": {},
   "outputs": [],
   "source": [
    "hyperparameters = [\n",
    "    initial_epsilon,  # initial exploration rate\n",
    "    epsilon_mini, # = \n",
    "    gamma,  # = 0.9 # discount factor\n",
    "    alpha, # = 0.05 # learning rate\n",
    "    epsilon_decay_rate # how quickly should we decrease epsilon\n",
    "    min_epsilon = 0.005\n",
    "]"
   ]
  },
  {
   "cell_type": "code",
   "execution_count": null,
   "metadata": {},
   "outputs": [],
   "source": [
    "# epsilon scheduling\n",
    "eps = 1.0 / i_episode  # 1/n\n",
    "eps = 0.05 # fixed\n",
    "eps = max(eps * i_episode, eps_min)"
   ]
  },
  {
   "cell_type": "code",
   "execution_count": null,
   "metadata": {},
   "outputs": [],
   "source": [
    "self.seed = np.random.seed(seed)"
   ]
  },
  {
   "cell_type": "code",
   "execution_count": null,
   "metadata": {},
   "outputs": [],
   "source": [
    "# average score. Then take the max.\n",
    "if len(scores) > 100:\n",
    "    avg_score = np.mean(scores[-100:])\n",
    "    if avg_score > max_avg_score:\n",
    "        max_avg_score = avg_score"
   ]
  },
  {
   "cell_type": "code",
   "execution_count": 1,
   "metadata": {},
   "outputs": [],
   "source": [
    "# to time the learning process\n",
    "import time\n",
    "time_start = time.time()\n",
    "time_intermediate = time.time()"
   ]
  },
  {
   "cell_type": "code",
   "execution_count": null,
   "metadata": {},
   "outputs": [],
   "source": []
  }
 ],
 "metadata": {
  "kernelspec": {
   "display_name": "drlnd",
   "language": "python",
   "name": "drlnd"
  },
  "language_info": {
   "codemirror_mode": {
    "name": "ipython",
    "version": 3
   },
   "file_extension": ".py",
   "mimetype": "text/x-python",
   "name": "python",
   "nbconvert_exporter": "python",
   "pygments_lexer": "ipython3",
   "version": "3.6.6"
  }
 },
 "nbformat": 4,
 "nbformat_minor": 2
}
