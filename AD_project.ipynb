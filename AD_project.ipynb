{
 "cells": [
  {
   "cell_type": "markdown",
   "metadata": {},
   "source": [
    "AD project - (PO)MDP formulation "
   ]
  },
  {
   "cell_type": "code",
   "execution_count": null,
   "metadata": {},
   "outputs": [],
   "source": [
    "Continuous state space?\n",
    "- discretization\n",
    "-- grid space not uniform - vary granularity - binary space partioning\n",
    "-- tile coding (several grids with offsets)\n",
    "--- modify Value with weigths\n",
    "--- adaptive tile coding (split not human manually but with based on Value function)\n",
    "---- binary vector 0/1 if active\n",
    "--- coarse coding sparser set of features to encode the state space\n",
    "---- binary vector 0/1 if active\n",
    "---- generalization with size of circles\n",
    "--- Like radial Basis Function - smooth Gaussian\n",
    "---- uses distance to the center of circle instead of 0/1 if active - hence continuous features\n",
    "---- reduces the number of features\n",
    "- linear function approximation\n",
    "-- takes advantage of the smoothness (two close states may give close Q)\n",
    "--- weight matrix if want to output Q vector (size = nA) \n",
    "-- linear combination of features\n",
    "-- radial basic function as features\n",
    "- non-linear function approximation\n",
    "-- activation function applied on dot product"
   ]
  },
  {
   "cell_type": "code",
   "execution_count": null,
   "metadata": {},
   "outputs": [],
   "source": [
    "Feature vector (representing the state)"
   ]
  },
  {
   "cell_type": "code",
   "execution_count": null,
   "metadata": {},
   "outputs": [],
   "source": [
    "Assumptions\n",
    "- stay on lane (= Union of segments)"
   ]
  },
  {
   "cell_type": "code",
   "execution_count": null,
   "metadata": {},
   "outputs": [],
   "source": [
    "Termination"
   ]
  },
  {
   "cell_type": "code",
   "execution_count": null,
   "metadata": {},
   "outputs": [],
   "source": [
    "Action space\n",
    "- speed control"
   ]
  },
  {
   "cell_type": "code",
   "execution_count": null,
   "metadata": {},
   "outputs": [],
   "source": [
    "Reward"
   ]
  }
 ],
 "metadata": {
  "kernelspec": {
   "display_name": "drlnd",
   "language": "python",
   "name": "drlnd"
  },
  "language_info": {
   "codemirror_mode": {
    "name": "ipython",
    "version": 3
   },
   "file_extension": ".py",
   "mimetype": "text/x-python",
   "name": "python",
   "nbconvert_exporter": "python",
   "pygments_lexer": "ipython3",
   "version": "3.6.6"
  }
 },
 "nbformat": 4,
 "nbformat_minor": 2
}
