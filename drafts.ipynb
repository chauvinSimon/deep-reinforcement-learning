{
 "cells": [
  {
   "cell_type": "code",
   "execution_count": 4,
   "metadata": {},
   "outputs": [
    {
     "name": "stdout",
     "output_type": "stream",
     "text": [
      "1.0\n",
      "2.0\n"
     ]
    }
   ],
   "source": [
    "# collection, defaultdict and lambda\n",
    "import numpy as np\n",
    "from collections import defaultdict\n",
    "\n",
    "visited_pairs = defaultdict(lambda: np.ones(2))  # {\"key\": np.array([0, 0])}\n",
    "print(visited_pairs[1][1])\n",
    "visited_pairs[1][1] += 1\n",
    "print(visited_pairs[1][1])"
   ]
  },
  {
   "cell_type": "code",
   "execution_count": 5,
   "metadata": {},
   "outputs": [
    {
     "data": {
      "text/plain": [
       "dict_items([('a', 5), ('b', 2), ('r', 2), ('c', 2), ('d', 1)])"
      ]
     },
     "execution_count": 5,
     "metadata": {},
     "output_type": "execute_result"
    }
   ],
   "source": [
    "# defaultdict means that if a key is not found in the dictionary ...\n",
    "#     ... then instead of a KeyError being thrown, a new entry is created\n",
    "d = defaultdict(int)  # specify the type\n",
    "for k in \"abraccadabra\":\n",
    "    d[k] += 1 # no need to check if key exists\n",
    "d.items()"
   ]
  },
  {
   "cell_type": "code",
   "execution_count": 7,
   "metadata": {},
   "outputs": [
    {
     "name": "stderr",
     "output_type": "stream",
     "text": [
      "DEBUG:__main__:A debug message!\n",
      "INFO:__main__:2/2 - We processed 2 records\n"
     ]
    }
   ],
   "source": [
    "# replace verbose - debug log\n",
    "# https://docs.python.org/3/howto/logging.html\n",
    "import logging\n",
    "import sys\n",
    "logging.basicConfig(stream=sys.stderr, level=logging.DEBUG)  # level is specified\n",
    "# if no destination is set, they will set a destination of the console (sys.stderr)\n",
    "logger_1 = logging.getLogger(__name__)\n",
    "\n",
    "logger_1.debug('A debug message!')\n",
    "logger_1.propagate = False\n",
    "# Child loggers propagate messages up to the handlers associated with their ancestor loggers.\n",
    "logger_1.info('1/2 - We processed {} records'.format(len([1, 2])))\n",
    "logger_1.propagate = True\n",
    "logger_1.info('2/2 - We processed %d records', len([1, 2]))  # uses the old, %-style of string formatting.\n",
    "\n",
    "# The INFO message doesn’t appear because the default level is WARNING"
   ]
  },
  {
   "cell_type": "code",
   "execution_count": null,
   "metadata": {},
   "outputs": [],
   "source": []
  },
  {
   "cell_type": "code",
   "execution_count": 8,
   "metadata": {},
   "outputs": [
    {
     "name": "stderr",
     "output_type": "stream",
     "text": [
      "INFO:__main__:2 - We processed 2 records\n"
     ]
    }
   ],
   "source": [
    "# Advanced logging\n",
    "import logging\n",
    "logger_2 = logging.getLogger(__name__)\n",
    "logger_2.setLevel(logging.INFO)  # lowest-severity log message a logger will handle\n",
    "\n",
    "formatter = logging.Formatter('%(asctime)s - %(name)s - %(levelname)s - %(message)s', datefmt=\"%Y-%m-%d %H:%M:%S\")  # specify the layout of log records in the final output\n",
    "file_handler = logging.FileHandler(\"logfile.log\")  # Handlers send the log records \n",
    "file_handler.setFormatter(formatter)\n",
    "\n",
    "logger_2.addHandler(file_handler)\n",
    "logger_2.info('2 - We processed %d records', len([1, 2]))"
   ]
  },
  {
   "cell_type": "code",
   "execution_count": null,
   "metadata": {},
   "outputs": [],
   "source": []
  },
  {
   "cell_type": "code",
   "execution_count": 9,
   "metadata": {},
   "outputs": [
    {
     "name": "stdout",
     "output_type": "stream",
     "text": [
      "(20, 6, True)\n",
      "1.0\n",
      "(20, 6, True) 0 1.0\n",
      "(20, 6, True)\n",
      "1.0\n"
     ]
    }
   ],
   "source": [
    "# unpack tuple\n",
    "sar = ((20, 6, True), 0, 1.0)\n",
    "(state, done, reward) = sar  # unpack\n",
    "print(state)\n",
    "print(reward)\n",
    "print(*sar)  #  *-operator to unpack the arguments out of a list or tuple\n",
    "state, done, reward = (*sar,)  # unpack\n",
    "print(state)\n",
    "print(reward)"
   ]
  },
  {
   "cell_type": "code",
   "execution_count": 10,
   "metadata": {},
   "outputs": [],
   "source": [
    "# product of elements in a list\n",
    "import gym\n",
    "import gym.spaces\n",
    "env = gym.make('Blackjack-v0')\n",
    "nb_possible_states = np.prod([elem.n for elem in env.observation_space.spaces])"
   ]
  },
  {
   "cell_type": "code",
   "execution_count": 11,
   "metadata": {},
   "outputs": [
    {
     "name": "stdout",
     "output_type": "stream",
     "text": [
      "You won :)\n",
      "\n"
     ]
    }
   ],
   "source": [
    "# If-Else one-line\n",
    "reward = 0.5 \n",
    "print('You won :)\\n') if reward > 0 else print('You lost :(\\n')\n",
    "state = [20]\n",
    "probs = [0.8, 0.2] if state[0] > 18 else [0.2, 0.8]\n",
    "action = np.random.choice(np.arange(2), p=probs)"
   ]
  },
  {
   "cell_type": "code",
   "execution_count": null,
   "metadata": {},
   "outputs": [],
   "source": [
    "# zip\n",
    "episode = [((12, 10, False), 1, 0), ((13, 10, False), 1, 0),\n",
    "           ((20, 10, False), 0, 1.0)]\n",
    "states, actions, rewards = zip(*episode)\n",
    "print(actions)\n",
    "gamma = 2\n",
    "discounts = [gamma**i for i in range(len(rewards)+1)]\n",
    "print(discounts)"
   ]
  },
  {
   "cell_type": "code",
   "execution_count": null,
   "metadata": {},
   "outputs": [],
   "source": [
    "# enumerate\n",
    "for i, state in enumerate(states):\n",
    "    print(i)\n",
    "    print(state)\n",
    "    print(states[i])  # same as state\n",
    "    print(actions[i])  # way to access the corresponding action\n",
    "\n",
    "my_list = ['apple', 'banana', 'grapes', 'pear']\n",
    "# argument = where to start the counter\n",
    "counter_list = list(enumerate(my_list, 1))\n",
    "print(counter_list)\n",
    "# Output: [(1, 'apple'), (2, 'banana'), (3, 'grapes'), (4, 'pear')]"
   ]
  },
  {
   "cell_type": "code",
   "execution_count": null,
   "metadata": {},
   "outputs": [],
   "source": [
    "# clip of decay\n",
    "epsilon = 1\n",
    "eps_decay = 0.999\n",
    "eps_min = 0.05\n",
    "for i in range(10):\n",
    "    epsilon = max(epsilon*eps_decay, eps_min)"
   ]
  },
  {
   "cell_type": "code",
   "execution_count": null,
   "metadata": {},
   "outputs": [],
   "source": [
    "# argmax and dict()\n",
    "Q = defaultdict(lambda: np.zeros(2))\n",
    "Q[1][0] = 0\n",
    "Q[1][1] = 1\n",
    "Q[2][0] = 2\n",
    "policy = dict((k,np.argmax(v)) for k, v in Q.items())\n",
    "print(policy)"
   ]
  },
  {
   "cell_type": "code",
   "execution_count": null,
   "metadata": {},
   "outputs": [],
   "source": [
    "# monitor progress\n",
    "i_episode = 100\n",
    "num_episodes = 1000\n",
    "if i_episode % 10 == 0:\n",
    "    print(\"\\rEpisode {}/{}.\".format(i_episode, num_episodes), end=\"\")\n",
    "    sys.stdout.flush()"
   ]
  },
  {
   "cell_type": "code",
   "execution_count": null,
   "metadata": {},
   "outputs": [],
   "source": [
    "# multiply lists\n",
    "rewards = np.array([1, 2, 3, 4])\n",
    "discounts = np.array([1, 1, 1, 1, 1])\n",
    "i = 1\n",
    "print(rewards[i:])\n",
    "print(discounts[:-(1+i)])\n",
    "print(sum(rewards[i:]*discounts[:-(1+i)]))"
   ]
  },
  {
   "cell_type": "code",
   "execution_count": 15,
   "metadata": {},
   "outputs": [
    {
     "name": "stdout",
     "output_type": "stream",
     "text": [
      "simon /r 1\n"
     ]
    },
    {
     "data": {
      "text/plain": [
       "'test string'"
      ]
     },
     "execution_count": 15,
     "metadata": {},
     "output_type": "execute_result"
    }
   ],
   "source": [
    "print(\"simon /r 1\".rstrip())\n",
    "'test string\\n'.rstrip()"
   ]
  },
  {
   "cell_type": "code",
   "execution_count": null,
   "metadata": {},
   "outputs": [],
   "source": [
    "# np.zeros requires a tuple\n",
    "V_opt = np.zeros((4,12))\n",
    "print(V_opt)"
   ]
  },
  {
   "cell_type": "code",
   "execution_count": null,
   "metadata": {},
   "outputs": [],
   "source": [
    "reshape(4,12)"
   ]
  },
  {
   "cell_type": "code",
   "execution_count": 15,
   "metadata": {},
   "outputs": [
    {
     "data": {
      "text/plain": [
       "array([  0.,  25.,  50.,  75., 100.])"
      ]
     },
     "execution_count": 15,
     "metadata": {},
     "output_type": "execute_result"
    }
   ],
   "source": [
    "# linspace()\n",
    "num_episodes = 100\n",
    "avg_scores = [1, 2, 3, 4, 5]\n",
    "np.linspace(0,num_episodes,len(avg_scores))"
   ]
  },
  {
   "cell_type": "code",
   "execution_count": null,
   "metadata": {},
   "outputs": [],
   "source": [
    "import check_test"
   ]
  },
  {
   "cell_type": "code",
   "execution_count": null,
   "metadata": {},
   "outputs": [],
   "source": [
    "# np.arange()\n",
    "random.choice(np.arange(env.action_space.n))"
   ]
  },
  {
   "cell_type": "code",
   "execution_count": 7,
   "metadata": {},
   "outputs": [
    {
     "name": "stdout",
     "output_type": "stream",
     "text": [
      "deque([9.0, 7.0, 5.0], maxlen=3)\n",
      "[9. 7. 5.]\n"
     ]
    }
   ],
   "source": [
    "# deque\n",
    "from collections import deque\n",
    "# idea: `avg_rewards[0]` is the average return collected by the agent over the first 100 episodes.\n",
    "import numpy as np\n",
    "num_episodes = 3\n",
    "avg_scores = deque(maxlen=num_episodes)   # average scores over every plot_every episodes\n",
    "tmp_scores = [10, 12]\n",
    "avg_scores.append(np.mean(tmp_scores))\n",
    "tmp_scores = [8, 10]\n",
    "avg_scores.append(np.mean(tmp_scores))\n",
    "tmp_scores = [6, 8]\n",
    "avg_scores.append(np.mean(tmp_scores))\n",
    "tmp_scores = [4, 6]\n",
    "avg_scores.append(np.mean(tmp_scores))\n",
    "print(avg_scores)\n",
    "print(np.asarray(avg_scores))  # note asarray (not array)"
   ]
  },
  {
   "cell_type": "code",
   "execution_count": 13,
   "metadata": {},
   "outputs": [
    {
     "data": {
      "text/plain": [
       "50"
      ]
     },
     "execution_count": 13,
     "metadata": {},
     "output_type": "execute_result"
    }
   ],
   "source": [
    "# dot product\n",
    "a = np.array([1, 2])\n",
    "b = np.array([10, 20])\n",
    "np.dot(a, b)"
   ]
  },
  {
   "cell_type": "code",
   "execution_count": null,
   "metadata": {},
   "outputs": [],
   "source": [
    "# initialize best average reward\n",
    "best_avg_reward = -math.inf"
   ]
  },
  {
   "cell_type": "code",
   "execution_count": 22,
   "metadata": {},
   "outputs": [
    {
     "name": "stdout",
     "output_type": "stream",
     "text": [
      "[0 1 2]\n"
     ]
    },
    {
     "data": {
      "text/plain": [
       "2"
      ]
     },
     "execution_count": 22,
     "metadata": {},
     "output_type": "execute_result"
    }
   ],
   "source": [
    "import numpy as np\n",
    "nA = 3\n",
    "print(np.arange(nA))\n",
    "prob = np.ones(nA) / nA\n",
    "np.random.choice(np.arange(nA), p=prob)"
   ]
  },
  {
   "cell_type": "code",
   "execution_count": 25,
   "metadata": {},
   "outputs": [
    {
     "data": {
      "text/plain": [
       "4"
      ]
     },
     "execution_count": 25,
     "metadata": {},
     "output_type": "execute_result"
    }
   ],
   "source": [
    "nA = 5\n",
    "np.random.choice(np.arange(nA))"
   ]
  },
  {
   "cell_type": "code",
   "execution_count": 2,
   "metadata": {},
   "outputs": [
    {
     "name": "stdout",
     "output_type": "stream",
     "text": [
      "\u001b[33mWARN: gym.spaces.Box autodetected dtype as <class 'numpy.float32'>. Please provide explicit dtype.\u001b[0m\n",
      "Discrete(2)\n",
      "Box(4,)\n"
     ]
    },
    {
     "name": "stderr",
     "output_type": "stream",
     "text": [
      "c:\\users\\simon.chauvin\\documents\\private github\\gym\\gym\\__init__.py:22: UserWarning: DEPRECATION WARNING: to improve load times, gym no longer automatically loads gym.spaces. Please run \"import gym.spaces\" to load gym.spaces on your own. This warning will turn into an error in a future version of gym.\n",
      "  warnings.warn('DEPRECATION WARNING: to improve load times, gym no longer automatically loads gym.spaces. Please run \"import gym.spaces\" to load gym.spaces on your own. This warning will turn into an error in a future version of gym.')\n"
     ]
    }
   ],
   "source": [
    "# https://gym.openai.com/docs/#spaces\n",
    "import gym\n",
    "import gym.spaces\n",
    "env = gym.make('CartPole-v0')\n",
    "print(env.action_space)\n",
    "#> Discrete(2)\n",
    "print(env.observation_space)\n",
    "#> Box(4,)"
   ]
  },
  {
   "cell_type": "code",
   "execution_count": null,
   "metadata": {},
   "outputs": [],
   "source": []
  }
 ],
 "metadata": {
  "kernelspec": {
   "display_name": "drlnd",
   "language": "python",
   "name": "drlnd"
  },
  "language_info": {
   "codemirror_mode": {
    "name": "ipython",
    "version": 3
   },
   "file_extension": ".py",
   "mimetype": "text/x-python",
   "name": "python",
   "nbconvert_exporter": "python",
   "pygments_lexer": "ipython3",
   "version": "3.6.6"
  }
 },
 "nbformat": 4,
 "nbformat_minor": 2
}
