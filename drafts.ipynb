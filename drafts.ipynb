{
 "cells": [
  {
   "cell_type": "code",
   "execution_count": null,
   "metadata": {},
   "outputs": [],
   "source": [
    "# collection, defaultdict and lambda\n",
    "import numpy as np\n",
    "from collections import defaultdict\n",
    "\n",
    "visited_pairs = defaultdict(lambda: np.ones(2))  # {\"key\": np.array([0, 0])}\n",
    "print(visited_pairs[1][1])\n",
    "visited_pairs[1][1] += 1\n",
    "print(visited_pairs[1][1])"
   ]
  },
  {
   "cell_type": "code",
   "execution_count": null,
   "metadata": {},
   "outputs": [],
   "source": [
    "# defaultdict means that if a key is not found in the dictionary ...\n",
    "#     ... then instead of a KeyError being thrown, a new entry is created\n",
    "d = defaultdict(int)  # specify the type\n",
    "for k in \"abraccadabra\":\n",
    "    d[k] += 1 # no need to check if key exists\n",
    "d.items()"
   ]
  },
  {
   "cell_type": "code",
   "execution_count": null,
   "metadata": {},
   "outputs": [],
   "source": [
    "# replace verbose - debug log\n",
    "# https://docs.python.org/3/howto/logging.html\n",
    "import logging\n",
    "import sys\n",
    "logging.basicConfig(stream=sys.stderr, level=logging.DEBUG)  # level is specified\n",
    "# if no destination is set, they will set a destination of the console (sys.stderr)\n",
    "logger_1 = logging.getLogger(__name__)\n",
    "\n",
    "logger_1.debug('A debug message!')\n",
    "logger_1.propagate = False\n",
    "# Child loggers propagate messages up to the handlers associated with their ancestor loggers.\n",
    "logger_1.info('1/2 - We processed {} records'.format(len([1, 2])))\n",
    "logger_1.propagate = True\n",
    "logger_1.info('2/2 - We processed %d records', len([1, 2]))  # uses the old, %-style of string formatting.\n",
    "\n",
    "# The INFO message doesn’t appear because the default level is WARNING"
   ]
  },
  {
   "cell_type": "code",
   "execution_count": null,
   "metadata": {},
   "outputs": [],
   "source": []
  },
  {
   "cell_type": "code",
   "execution_count": null,
   "metadata": {},
   "outputs": [],
   "source": [
    "# Advanced logging\n",
    "import logging\n",
    "logger_2 = logging.getLogger(__name__)\n",
    "logger_2.setLevel(logging.INFO)  # lowest-severity log message a logger will handle\n",
    "\n",
    "formatter = logging.Formatter('%(asctime)s - %(name)s - %(levelname)s - %(message)s', datefmt=\"%Y-%m-%d %H:%M:%S\")  # specify the layout of log records in the final output\n",
    "file_handler = logging.FileHandler(\"logfile.log\")  # Handlers send the log records \n",
    "file_handler.setFormatter(formatter)\n",
    "\n",
    "logger_2.addHandler(file_handler)\n",
    "logger_2.info('2 - We processed %d records', len([1, 2]))"
   ]
  },
  {
   "cell_type": "code",
   "execution_count": null,
   "metadata": {},
   "outputs": [],
   "source": []
  },
  {
   "cell_type": "code",
   "execution_count": null,
   "metadata": {},
   "outputs": [],
   "source": [
    "# unpack tuple\n",
    "sar = ((20, 6, True), 0, 1.0)\n",
    "(state, done, reward) = sar  # unpack\n",
    "print(state)\n",
    "print(reward)\n",
    "print(*sar)  #  *-operator to unpack the arguments out of a list or tuple\n",
    "state, done, reward = (*sar,)  # unpack\n",
    "print(state)\n",
    "print(reward)"
   ]
  },
  {
   "cell_type": "code",
   "execution_count": null,
   "metadata": {},
   "outputs": [],
   "source": [
    "# product of elements in a list\n",
    "import gym\n",
    "import gym.spaces\n",
    "env = gym.make('Blackjack-v0')\n",
    "nb_possible_states = np.prod([elem.n for elem in env.observation_space.spaces])"
   ]
  },
  {
   "cell_type": "code",
   "execution_count": null,
   "metadata": {},
   "outputs": [],
   "source": [
    "# If-Else one-line\n",
    "reward = 0.5 \n",
    "print('You won :)\\n') if reward > 0 else print('You lost :(\\n')\n",
    "state = [20]\n",
    "probs = [0.8, 0.2] if state[0] > 18 else [0.2, 0.8]\n",
    "action = np.random.choice(np.arange(2), p=probs)"
   ]
  },
  {
   "cell_type": "code",
   "execution_count": null,
   "metadata": {},
   "outputs": [],
   "source": [
    "# zip\n",
    "episode = [((12, 10, False), 1, 0), ((13, 10, False), 1, 0),\n",
    "           ((20, 10, False), 0, 1.0)]\n",
    "states, actions, rewards = zip(*episode)\n",
    "print(actions)\n",
    "gamma = 2\n",
    "discounts = [gamma**i for i in range(len(rewards)+1)]\n",
    "print(discounts)"
   ]
  },
  {
   "cell_type": "code",
   "execution_count": null,
   "metadata": {},
   "outputs": [],
   "source": [
    "# enumerate\n",
    "for i, state in enumerate(states):\n",
    "    print(i)\n",
    "    print(state)\n",
    "    print(states[i])  # same as state\n",
    "    print(actions[i])  # way to access the corresponding action\n",
    "\n",
    "my_list = ['apple', 'banana', 'grapes', 'pear']\n",
    "# argument = where to start the counter\n",
    "counter_list = list(enumerate(my_list, 1))\n",
    "print(counter_list)\n",
    "# Output: [(1, 'apple'), (2, 'banana'), (3, 'grapes'), (4, 'pear')]"
   ]
  },
  {
   "cell_type": "code",
   "execution_count": null,
   "metadata": {},
   "outputs": [],
   "source": [
    "# clip of decay\n",
    "epsilon = 1\n",
    "eps_decay = 0.999\n",
    "eps_min = 0.05\n",
    "for i in range(10):\n",
    "    epsilon = max(epsilon*eps_decay, eps_min)"
   ]
  },
  {
   "cell_type": "code",
   "execution_count": null,
   "metadata": {},
   "outputs": [],
   "source": [
    "# argmax and dict()\n",
    "Q = defaultdict(lambda: np.zeros(2))\n",
    "Q[1][0] = 0\n",
    "Q[1][1] = 1\n",
    "Q[2][0] = 2\n",
    "policy = dict((k,np.argmax(v)) for k, v in Q.items())\n",
    "print(policy)"
   ]
  },
  {
   "cell_type": "code",
   "execution_count": null,
   "metadata": {},
   "outputs": [],
   "source": [
    "# monitor progress\n",
    "i_episode = 100\n",
    "num_episodes = 1000\n",
    "if i_episode % 10 == 0:\n",
    "    print(\"\\rEpisode {}/{}.\".format(i_episode, num_episodes), end=\"\")\n",
    "    sys.stdout.flush()"
   ]
  },
  {
   "cell_type": "code",
   "execution_count": 16,
   "metadata": {},
   "outputs": [
    {
     "name": "stdout",
     "output_type": "stream",
     "text": [
      " 0\n",
      "pause 0\n",
      " 1000\n",
      "pause 999\n",
      " 2000\n",
      "pause 1999\n",
      " 3000\n",
      "pause 2999\n",
      " 4000\n",
      "pause 3999\n",
      " 5000\n",
      "pause 4999\n",
      " 6000\n",
      "pause 5999\n",
      " 7000\n",
      "pause 6999\n",
      " 8000\n",
      "pause 7999\n",
      " 9000\n",
      "pause 8999\n",
      " 9999"
     ]
    }
   ],
   "source": [
    "max_reward = 0\n",
    "for i in range(10000):\n",
    "    print(\"\\r {}\".format(i), sep=' ', end='', flush=True)\n",
    "    if(i % 1000 == 0):\n",
    "        print(\"\\npause - max_reward=\", max_reward)\n",
    "    max_reward = max(max_reward, i)"
   ]
  },
  {
   "cell_type": "code",
   "execution_count": 9,
   "metadata": {},
   "outputs": [
    {
     "data": {
      "text/plain": [
       "array([0, 1, 2, 3, 4, 5])"
      ]
     },
     "execution_count": 9,
     "metadata": {},
     "output_type": "execute_result"
    }
   ],
   "source": [
    "import numpy as np\n",
    "scores = [1, 1, 1, 1, 1, 1]\n",
    "np.arange(len(scores))"
   ]
  },
  {
   "cell_type": "code",
   "execution_count": null,
   "metadata": {},
   "outputs": [],
   "source": [
    "# multiply lists\n",
    "rewards = np.array([1, 2, 3, 4])\n",
    "discounts = np.array([1, 1, 1, 1, 1])\n",
    "i = 1\n",
    "print(rewards[i:])\n",
    "print(discounts[:-(1+i)])\n",
    "print(sum(rewards[i:]*discounts[:-(1+i)]))"
   ]
  },
  {
   "cell_type": "code",
   "execution_count": null,
   "metadata": {},
   "outputs": [],
   "source": [
    "print(\"simon /r 1\".rstrip())\n",
    "'test string\\n'.rstrip()"
   ]
  },
  {
   "cell_type": "code",
   "execution_count": null,
   "metadata": {},
   "outputs": [],
   "source": [
    "# np.zeros requires a tuple\n",
    "V_opt = np.zeros((4,12))\n",
    "print(V_opt)"
   ]
  },
  {
   "cell_type": "code",
   "execution_count": null,
   "metadata": {},
   "outputs": [],
   "source": [
    "reshape(4,12)"
   ]
  },
  {
   "cell_type": "code",
   "execution_count": null,
   "metadata": {},
   "outputs": [],
   "source": [
    "# linspace()\n",
    "num_episodes = 100\n",
    "avg_scores = [1, 2, 3, 4, 5]\n",
    "print(np.linspace(0,num_episodes,len(avg_scores)))\n",
    "\n",
    "# arange\n",
    "print(np.arange(3, 8, 2))"
   ]
  },
  {
   "cell_type": "code",
   "execution_count": null,
   "metadata": {},
   "outputs": [],
   "source": [
    "import check_test"
   ]
  },
  {
   "cell_type": "code",
   "execution_count": null,
   "metadata": {},
   "outputs": [],
   "source": [
    "# np.arange()\n",
    "random.choice(np.arange(env.action_space.n))"
   ]
  },
  {
   "cell_type": "code",
   "execution_count": null,
   "metadata": {},
   "outputs": [],
   "source": [
    "# deque\n",
    "from collections import deque\n",
    "# idea: `avg_rewards[0]` is the average return collected by the agent over the first 100 episodes.\n",
    "import numpy as np\n",
    "num_episodes = 3\n",
    "avg_scores = deque(maxlen=num_episodes)   # average scores over every plot_every episodes\n",
    "tmp_scores = [10, 12]\n",
    "avg_scores.append(np.mean(tmp_scores))\n",
    "tmp_scores = [8, 10]\n",
    "avg_scores.append(np.mean(tmp_scores))\n",
    "tmp_scores = [6, 8]\n",
    "avg_scores.append(np.mean(tmp_scores))\n",
    "tmp_scores = [4, 6]\n",
    "avg_scores.append(np.mean(tmp_scores))\n",
    "print(avg_scores)\n",
    "print(np.asarray(avg_scores))  # note asarray (not array)"
   ]
  },
  {
   "cell_type": "code",
   "execution_count": null,
   "metadata": {},
   "outputs": [],
   "source": [
    "# dot product\n",
    "a = np.array([1, 2])\n",
    "b = np.array([10, 20])\n",
    "np.dot(a, b)"
   ]
  },
  {
   "cell_type": "code",
   "execution_count": null,
   "metadata": {},
   "outputs": [],
   "source": [
    "# initialize best average reward\n",
    "best_avg_reward = -math.inf"
   ]
  },
  {
   "cell_type": "code",
   "execution_count": null,
   "metadata": {},
   "outputs": [],
   "source": [
    "import numpy as np\n",
    "nA = 3\n",
    "print(np.arange(nA))\n",
    "prob = np.ones(nA) / nA\n",
    "np.random.choice(np.arange(nA), p=prob)"
   ]
  },
  {
   "cell_type": "code",
   "execution_count": null,
   "metadata": {},
   "outputs": [],
   "source": [
    "nA = 5\n",
    "np.random.choice(np.arange(nA))"
   ]
  },
  {
   "cell_type": "code",
   "execution_count": null,
   "metadata": {},
   "outputs": [],
   "source": [
    "# https://gym.openai.com/docs/#spaces\n",
    "import gym\n",
    "import gym.spaces\n",
    "env = gym.make('CartPole-v0')\n",
    "print(env.action_space)\n",
    "#> Discrete(2)\n",
    "print(env.observation_space)\n",
    "#> Box(4,)"
   ]
  },
  {
   "cell_type": "code",
   "execution_count": null,
   "metadata": {},
   "outputs": [],
   "source": [
    "# np.digitize\n",
    "# Return the indices of the bins to which each value in input array belongs.\n",
    "x = np.array([0.2, 6.4, 3.0, 1.6])\n",
    "bins = np.array([0.0, 1.0, 2.5, 4.0, 10.0])\n",
    "inds = np.digitize(x, bins)\n",
    "inds"
   ]
  },
  {
   "cell_type": "code",
   "execution_count": null,
   "metadata": {},
   "outputs": [],
   "source": [
    "# print(*objects, sep=' ', end='\\n', file=sys.stdout, flush=False)\n",
    "a = 5\n",
    "print(\"a =\", a, a, sep='00000', end='\\n\\n\\n')"
   ]
  },
  {
   "cell_type": "code",
   "execution_count": null,
   "metadata": {},
   "outputs": [],
   "source": [
    "# repr - to print a list\n",
    "samples = np.array([[-1.0 , -5.0], [-0.81, -4.1], [-0.8 , -4.0],])\n",
    "print(samples)\n",
    "print(\"\\nSamples:\", repr(samples), sep=\"\\n\")"
   ]
  },
  {
   "cell_type": "code",
   "execution_count": null,
   "metadata": {},
   "outputs": [],
   "source": [
    "# transpose, honrizontal stack and [:, 1:]\n",
    "low = [-1.0, -5.0]\n",
    "high = [1.0, 5.0]\n",
    "grid = [np.array([1, 2, 3, 4]), np.array([11, 12, 13, 14])]\n",
    "res = np.hstack((np.array([low]).T, grid, np.array([high]).T))\n",
    "print(res)\n",
    "res[:, 1:] * 2"
   ]
  },
  {
   "cell_type": "code",
   "execution_count": null,
   "metadata": {},
   "outputs": [],
   "source": [
    "# 3 actions and 4*4 state space\n",
    "state_grid = [\n",
    "    np.array([-1.02, -0.84, -0.66, -0.48]),\n",
    "    np.array([-5.600e-02, -4.200e-02, -2.800e-02, -1.400e-02])\n",
    "]\n",
    "action_size = 3\n",
    "state_size = tuple(len(splits) + 1 for splits in state_grid)  # (4+1, 4+1)\n",
    "print(\"state_size = {}\".format(state_size))"
   ]
  },
  {
   "cell_type": "code",
   "execution_count": null,
   "metadata": {},
   "outputs": [],
   "source": [
    "# add tuples - with \",\" to specify that it is a tuple\n",
    "# res[block=y][row=x][column=action] - imagine it in 3d - pack them + apply rotation\n",
    "shape = (5, 5) + (3,)  # (5, 5, 3)\n",
    "res = np.zeros(shape=(shape))\n",
    "# print(np.zeros(shape=(2,3,4)))\n",
    "res[4][3][0] = 1  # target a specific point\n",
    "state = (2, 2)  # access with a tuple (apply to all actions) - not a list\n",
    "res[state] = 2\n",
    "state = [0, 1]  # access with a list is different does not work (it only considers the first element)\n",
    "res[state] = 4\n",
    "print(res)"
   ]
  },
  {
   "cell_type": "code",
   "execution_count": null,
   "metadata": {},
   "outputs": [],
   "source": [
    "max_avg_score = -np.inf"
   ]
  },
  {
   "cell_type": "code",
   "execution_count": null,
   "metadata": {},
   "outputs": [],
   "source": [
    "# pandas rolling window\n",
    "import pandas as pd\n",
    "import numpy as np\n",
    "scores = [1, 2, 2, 3, 3, 2, 4, 5, 5, 8, 6, 10]\n",
    "avg_score = np.mean(scores[-3:]) # average on the last 3 scores\n",
    "print(avg_score)\n",
    "rolling_window = 2\n",
    "rolling_mean = pd.Series(scores).rolling(rolling_window).mean()\n",
    "print(rolling_mean)"
   ]
  },
  {
   "cell_type": "code",
   "execution_count": null,
   "metadata": {},
   "outputs": [],
   "source": [
    "import numpy as np\n",
    "import matplotlib.pyplot as plt\n",
    "\n",
    "# Set plotting options\n",
    "%matplotlib inline\n",
    "plt.style.use('ggplot')\n",
    "np.set_printoptions(precision=3, linewidth=120)"
   ]
  },
  {
   "cell_type": "code",
   "execution_count": null,
   "metadata": {},
   "outputs": [],
   "source": [
    "# \n",
    "elements = [1, 2, 3, 4]\n",
    "key = 'a'\n",
    "res0 = map(lambda e: (e, key), elements)\n",
    "\n",
    "# or zip list with a single element\n",
    "import itertools\n",
    "res1 = zip(elements, itertools.repeat(key))\n",
    "print(set(res0))\n",
    "print(list(res1))"
   ]
  },
  {
   "cell_type": "code",
   "execution_count": null,
   "metadata": {},
   "outputs": [],
   "source": [
    "# list comprehention with several objects\n",
    "tiling_specs = [((10, 10), (-0.066, -0.33)),  # with tuple\n",
    "                [(10, 10), (0.0, 0.0)]]  # with list\n",
    "for bins, offsets in tiling_specs:\n",
    "    print(\"bins={}, offsets={}\".format(bins, offsets))"
   ]
  },
  {
   "cell_type": "code",
   "execution_count": null,
   "metadata": {},
   "outputs": [],
   "source": [
    "# make a unzip for list comprehension\n",
    "bins=(10, 10)\n",
    "offsets=(5.0, 2.0)\n",
    "low = (-1, 1)\n",
    "high = (0, 2)\n",
    "res = list(zip(*[low, high, bins, offsets]))\n",
    "print(res)\n",
    "# list comprehension\n",
    "[(low + high, offset + binn) for low, high, binn, offset in res]"
   ]
  },
  {
   "cell_type": "code",
   "execution_count": null,
   "metadata": {},
   "outputs": [],
   "source": [
    "sample = (-1.2, -5.1)\n",
    "grid = [\n",
    "    np.array([-0.866, -0.666, -0.466, -0.266, -0.066,  0.134,  0.334,  0.534,  0.734]),\n",
    "    np.array([-4.33, -3.33, -2.33, -1.33, -0.33,  0.67,  1.67,  2.67,  3.67])\n",
    "]\n",
    "list(zip(sample, grid))"
   ]
  },
  {
   "cell_type": "code",
   "execution_count": null,
   "metadata": {},
   "outputs": [],
   "source": [
    "# flatten tuple\n",
    "my_list = [(1, 0), (2, 0), (3, 4)]\n",
    "res0 = list((np.array(my_list)).flatten())  # numpy flatten\n",
    "print(res0)\n",
    "res1 = np.concatenate(my_list)  # numpy concatenate\n",
    "print(res1)"
   ]
  },
  {
   "cell_type": "code",
   "execution_count": null,
   "metadata": {},
   "outputs": [],
   "source": [
    "# numpy - instead of loop, work with vectors\n",
    "import matplotlib.pyplot as plt\n",
    "import numpy as np\n",
    "x = np.linspace(start=-10, stop=10, num=101)\n",
    "plt.plot(x, np.absolute(x))\n",
    "plt.show()"
   ]
  },
  {
   "cell_type": "code",
   "execution_count": 16,
   "metadata": {},
   "outputs": [
    {
     "name": "stdout",
     "output_type": "stream",
     "text": [
      "[1. 1. 1.]\n",
      "[1]\n",
      "[array([0., 1., 0.])]\n",
      "[0 2]\n",
      "[array([1., 0., 0.]), array([0., 0., 1.])]\n",
      "[[0.  1.  0. ]\n",
      " [0.5 0.  0.5]]\n"
     ]
    }
   ],
   "source": [
    "# np.argwhere(), flatten() and np.eye() for one-hot vector conversion\n",
    "# OPTION 2 for improvement: construct a stochastic policy that puts equal probability on maximizing actions\n",
    "nA = 3  # go_up / stay / go_down\n",
    "nS = 2  # up / down\n",
    "policy = np.zeros([nS, nA]) / nA\n",
    "Q = [[0.2, 0.8, 0.2], [0.8, 0.2, 0.8]]\n",
    "for s in range(nS):\n",
    "    q = Q[s]  # Q(A = a1, a2; S = s0)\n",
    "    best_a = np.argwhere(q==np.max(q)).flatten() # [[0] [2]] -> [0, 2]\n",
    "    policy[s] = np.sum([np.eye(nA)[i] for i in best_a], axis=0)/len(best_a)\n",
    "    print(best_a)\n",
    "    print([np.eye(nA)[i] for i in best_a])\n",
    "print(policy)"
   ]
  },
  {
   "cell_type": "code",
   "execution_count": 18,
   "metadata": {},
   "outputs": [
    {
     "name": "stdout",
     "output_type": "stream",
     "text": [
      "[[0.2, 0.8, 0.2], [0.8, 0.2, 0.8]]\n",
      "[1. 1. 1.]\n",
      "[1.2 1.8]\n"
     ]
    }
   ],
   "source": [
    "# np.sum() with axis=0\n",
    "Q = [[0.2, 0.8, 0.2], [0.8, 0.2, 0.8]]\n",
    "print(Q)\n",
    "print(np.sum(Q, axis=0))\n",
    "print(np.sum(Q, axis=1))"
   ]
  },
  {
   "cell_type": "code",
   "execution_count": 21,
   "metadata": {},
   "outputs": [
    {
     "name": "stdout",
     "output_type": "stream",
     "text": [
      "True\n",
      "True\n"
     ]
    }
   ],
   "source": [
    "# np.array_equal() vs all()\n",
    "policy = np.array([[0.2, 0.8, 0.2], [0.8, 0.2, 0.8]])\n",
    "new_policy = np.array([[0.2, 0.8, 0.2], [0.8, 0.2, 0.8]])\n",
    "print((new_policy == policy).all())  # all() requires np arrays\n",
    "policy = [[0.2, 0.8, 0.2], [0.8, 0.2, 0.8]]\n",
    "new_policy = [[0.2, 0.8, 0.2], [0.8, 0.2, 0.8]]\n",
    "print(np.array_equal(new_policy, policy))"
   ]
  },
  {
   "cell_type": "code",
   "execution_count": 63,
   "metadata": {},
   "outputs": [
    {
     "name": "stdout",
     "output_type": "stream",
     "text": [
      "2079009497936\n",
      "2079009497936\n",
      "2079009523152\n",
      "[1. 0.]\n",
      "[0. 0.]\n"
     ]
    }
   ],
   "source": [
    "# list are mutable - use copy to save their previous state\n",
    "import copy\n",
    "nS = 2\n",
    "V = np.zeros(nS)\n",
    "# try to save the previous state\n",
    "old_V = V\n",
    "old_V_copy = copy.copy(V)\n",
    "# update is like passing by reference V to the function f(x): x[0]=1, return x\n",
    "V[0] = 1\n",
    "print(id(V))\n",
    "print(id(old_V))\n",
    "print(id(old_V_copy))\n",
    "print(old_V)\n",
    "print(old_V_copy)"
   ]
  },
  {
   "cell_type": "code",
   "execution_count": 24,
   "metadata": {},
   "outputs": [
    {
     "name": "stdout",
     "output_type": "stream",
     "text": [
      "2078902799584\n",
      "a\n"
     ]
    },
    {
     "ename": "TypeError",
     "evalue": "'str' object does not support item assignment",
     "output_type": "error",
     "traceback": [
      "\u001b[1;31m---------------------------------------------------------------------------\u001b[0m",
      "\u001b[1;31mTypeError\u001b[0m                                 Traceback (most recent call last)",
      "\u001b[1;32m<ipython-input-24-1f6e9f167729>\u001b[0m in \u001b[0;36m<module>\u001b[1;34m()\u001b[0m\n\u001b[0;32m      7\u001b[0m \u001b[0mprint\u001b[0m\u001b[1;33m(\u001b[0m\u001b[0mid\u001b[0m\u001b[1;33m(\u001b[0m\u001b[0ms\u001b[0m\u001b[1;33m)\u001b[0m\u001b[1;33m)\u001b[0m  \u001b[1;31m# 4702124\u001b[0m\u001b[1;33m\u001b[0m\u001b[0m\n\u001b[0;32m      8\u001b[0m \u001b[0mprint\u001b[0m\u001b[1;33m(\u001b[0m\u001b[0ms\u001b[0m\u001b[1;33m[\u001b[0m\u001b[1;36m0\u001b[0m\u001b[1;33m]\u001b[0m\u001b[1;33m)\u001b[0m  \u001b[1;31m# 'a'\u001b[0m\u001b[1;33m\u001b[0m\u001b[0m\n\u001b[1;32m----> 9\u001b[1;33m \u001b[0ms\u001b[0m\u001b[1;33m[\u001b[0m\u001b[1;36m0\u001b[0m\u001b[1;33m]\u001b[0m \u001b[1;33m=\u001b[0m \u001b[1;34m\"o\"\u001b[0m\u001b[1;33m\u001b[0m\u001b[0m\n\u001b[0m\u001b[0;32m     10\u001b[0m \u001b[1;31m# TypeError: 'str' object does not support item assignment\u001b[0m\u001b[1;33m\u001b[0m\u001b[1;33m\u001b[0m\u001b[0m\n",
      "\u001b[1;31mTypeError\u001b[0m: 'str' object does not support item assignment"
     ]
    }
   ],
   "source": [
    "# Python represents all its data as objects. Hence with references - use id()\n",
    "\n",
    "#  - dict and list are mutable\n",
    "#   - state can change while keeping reference constant\n",
    "#   - great to use when you need to change the size of the object, example list, dict etc (like c++ Vector)\n",
    "#   - poping an item from list object does change the state object, but object id will not be changed\n",
    "\n",
    "#  - integers, floats, strings and tuple are objects that (their state) can not be changed\n",
    "#   - It will raise a TypeError if you try to change it.\n",
    "#   - If we assign new content, a new object is CREATED instead of the contents being modified.\n",
    "#    - x = 10 or x+=10 uses an instanciation, no matter if x already exists\n",
    "#   - Immutable objects are fundamentally expensive to “change”, because doing so involves creating a copy.\n",
    "#   - the “value” of an immutable object can’t change, but it’s constituent objects can.\n",
    "#    - my_tuple = ([0, 1])\n",
    "\n",
    "#  - Custom classes are generally mutable (my_car.speed += 1)\n",
    "#   - To simulate immutability in a class, one should override attribute setting and deletion to raise exceptions.\n",
    "s = \"abc\"\n",
    "print(id(s))  # 4702124\n",
    "print(s[0])  # 'a'\n",
    "s[0] = \"o\"\n",
    "# TypeError: 'str' object does not support item assignment"
   ]
  },
  {
   "cell_type": "code",
   "execution_count": 58,
   "metadata": {},
   "outputs": [
    {
     "name": "stdout",
     "output_type": "stream",
     "text": [
      "True\n",
      "True\n",
      "True\n"
     ]
    }
   ],
   "source": [
    "# 'is' - The is operator compares the identity of two objects.\n",
    "x = \"simon\"\n",
    "y = \"simon\"\n",
    "print(x is y)\n",
    "print(x is \"simon\")\n",
    "print(id(x) == id(y))"
   ]
  },
  {
   "cell_type": "code",
   "execution_count": 59,
   "metadata": {},
   "outputs": [
    {
     "name": "stdout",
     "output_type": "stream",
     "text": [
      "False\n",
      "False\n"
     ]
    }
   ],
   "source": [
    "# 'is' - The is operator compares the identity of two objects.\n",
    "x = {}\n",
    "y = {}\n",
    "print(x is y)\n",
    "print(id(x) == id(y))"
   ]
  },
  {
   "cell_type": "code",
   "execution_count": 62,
   "metadata": {},
   "outputs": [
    {
     "name": "stdout",
     "output_type": "stream",
     "text": [
      "2079009661088\n",
      "2079009663664\n",
      "1818849264\n",
      "1818849264\n",
      "1818849264\n"
     ]
    }
   ],
   "source": [
    "# reference can changes / stays when doing update or new instantiation\n",
    "s = \"xyz\"\n",
    "print(id(s))  # 800100\n",
    "s += \"uvw\"  # state changes -> new instanciation\n",
    "print(id(s))  # 4800500\n",
    "l = [10]\n",
    "print(id(i))  # 6348005\n",
    "l[0] += 1  # state changes -> reference stays\n",
    "print(id(i))  # 6348005\n",
    "l = [20]  # new state -> reference stays!!\n",
    "print(id(i))  # 1818848592"
   ]
  },
  {
   "cell_type": "code",
   "execution_count": 34,
   "metadata": {},
   "outputs": [
    {
     "name": "stdout",
     "output_type": "stream",
     "text": [
      "2079009734728\n",
      "2079009734728\n",
      "2079009218376\n",
      "2079009847816\n"
     ]
    }
   ],
   "source": []
  },
  {
   "cell_type": "code",
   "execution_count": 38,
   "metadata": {},
   "outputs": [
    {
     "name": "stdout",
     "output_type": "stream",
     "text": [
      "2079005817800\n",
      "2079005817800\n",
      "2079005817800\n",
      "2079005817800\n",
      "[0, 1, 2, 2]\n"
     ]
    }
   ],
   "source": [
    "# list() and dict() are mutable\n",
    "# if a mutable object is called by reference in a function, it can change the original variable itself.\n",
    "# call by reference, so the changes are made to the original list itself\n",
    "def f(l):\n",
    "    l += [2, 2]\n",
    "x_mutable = [0, 1]\n",
    "print(id(x_mutable))\n",
    "f(x_mutable)  \n",
    "print(id(x_mutable))\n",
    "print(x_mutable)  # [0, 1, 2, 2]"
   ]
  },
  {
   "cell_type": "code",
   "execution_count": 51,
   "metadata": {},
   "outputs": [
    {
     "name": "stdout",
     "output_type": "stream",
     "text": [
      "2079009215816\n",
      "2079009215816\n",
      "2079009215816\n",
      "2079009215816\n",
      "[0, 1, 2]\n",
      "[0, 1, 2]\n"
     ]
    }
   ],
   "source": [
    "# \"x = y\" make them pointing to the same place in memory\n",
    "x_mutable = [0, 1]\n",
    "y_mutable = x_mutable  #  y will change if x is nodified\n",
    "print(id(y_mutable))\n",
    "print(id(x_mutable))\n",
    "x_mutable += [2]\n",
    "print(id(y_mutable))\n",
    "print(id(x_mutable))\n",
    "print(x_mutable)  # [0, 1, 2]\n",
    "print(y_mutable)  # [0, 1, 2]"
   ]
  },
  {
   "cell_type": "code",
   "execution_count": 54,
   "metadata": {},
   "outputs": [
    {
     "name": "stdout",
     "output_type": "stream",
     "text": [
      "1818848240\n",
      "1818848240\n",
      "1818848240\n",
      "0\n",
      "0\n",
      "1818848240\n",
      "1818848272\n",
      "0\n",
      "1\n"
     ]
    }
   ],
   "source": [
    "# int are not mutable\n",
    "# Immutable objects can be called by reference because its value cannot be changed anyways.\n",
    "# This is called pass by value\n",
    "# When the value is called by the function, only the value of the variable is passed, not the object itself.\n",
    "def f(i):\n",
    "    i += 2\n",
    "x = 0\n",
    "print(id(x))\n",
    "f(x)\n",
    "print(id(x))  # unchanged\n",
    "print(id(y))\n",
    "print(x)  # 0\n",
    "print(y)  # 0\n",
    "y += 1\n",
    "print(id(x))\n",
    "print(id(y))  # changed\n",
    "print(x)  # 0\n",
    "print(y)  # 1"
   ]
  },
  {
   "cell_type": "code",
   "execution_count": 53,
   "metadata": {},
   "outputs": [
    {
     "name": "stdout",
     "output_type": "stream",
     "text": [
      "1818848240\n",
      "1818848240\n",
      "1818848304\n",
      "1818848240\n",
      "2\n",
      "0\n"
     ]
    }
   ],
   "source": [
    "# unmutable\n",
    "x = 0\n",
    "y = x #  y will change if x is nodified\n",
    "print(id(x))\n",
    "print(id(y))\n",
    "x += 2\n",
    "print(id(x))  # changed\n",
    "print(id(y))  # did not change\n",
    "print(x)  # 2\n",
    "print(y)  # 0"
   ]
  },
  {
   "cell_type": "code",
   "execution_count": 2,
   "metadata": {},
   "outputs": [
    {
     "name": "stdout",
     "output_type": "stream",
     "text": [
      "[    'position_on_segment',\n",
      "     'distanceToEndSegment',\n",
      "     'velocity',\n",
      "     'speed_limit',\n",
      "     'steering_angle',\n",
      "     'distance_to_crossing_from_right',\n",
      "     'distance_to_crossing_from_left',\n",
      "     'tti',\n",
      "     'merging_from_right',\n",
      "     'merging_from_left',\n",
      "     'opposing',\n",
      "     'priority_to_left',\n",
      "     'priority_to_right',\n",
      "     'horizon',\n",
      "     'latGap']\n"
     ]
    }
   ],
   "source": [
    "from pprint import pprint\n",
    "keys_features_list = ['position_on_segment', 'distanceToEndSegment', 'velocity', 'speed_limit', 'steering_angle', 'distance_to_crossing_from_right', 'distance_to_crossing_from_left', 'tti', 'merging_from_right', 'merging_from_left', 'opposing', 'priority_to_left', 'priority_to_right', 'horizon', 'latGap']\n",
    "pprint(keys_features_list, indent=5)"
   ]
  },
  {
   "cell_type": "code",
   "execution_count": 24,
   "metadata": {},
   "outputs": [
    {
     "name": "stdout",
     "output_type": "stream",
     "text": [
      "{0: 4, 1: 2, -1: 1}\n"
     ]
    }
   ],
   "source": [
    "from collections import Counter\n",
    "import pprint\n",
    "rewards = [0, 0, 0, 1, -1, 1, 0]\n",
    "print(dict(Counter(rewards)))"
   ]
  },
  {
   "cell_type": "code",
   "execution_count": 49,
   "metadata": {},
   "outputs": [
    {
     "name": "stdout",
     "output_type": "stream",
     "text": [
      "27\n",
      "[ 1. 10.]\n"
     ]
    }
   ],
   "source": [
    "state = [0, 0]\n",
    "next_state = [0, 0]\n",
    "changes_in_state = (changes_in_state + 5) if(state == next_state) else (changes_in_state)\n",
    "print(changes_in_state)"
   ]
  },
  {
   "cell_type": "code",
   "execution_count": 54,
   "metadata": {},
   "outputs": [
    {
     "data": {
      "image/png": "[encoded data removed]",
      "text/plain": [
       "<Figure size 432x288 with 1 Axes>"
      ]
     },
     "metadata": {},
     "output_type": "display_data"
    }
   ],
   "source": [
    "# np.linspace() - not np.arange()\n",
    "import matplotlib.pyplot as plt\n",
    "%matplotlib inline\n",
    "eps_decay = 0.995\n",
    "nb_episodes = 1500\n",
    "eps_end = 0.01\n",
    "eps_start = 1.0\n",
    "eps = [max(eps_start * eps_decay ** i, eps_end) for i in range(nb_episodes)]\n",
    "fig = plt.figure()\n",
    "ax = fig.add_subplot(111)\n",
    "plt.plot(np.arange(len(eps)), eps)\n",
    "plt.plot(np.arange(len(eps)), np.linspace(eps_start, eps_end, len(eps)))\n",
    "plt.ylabel('Espilon')\n",
    "plt.xlabel('Episode #')\n",
    "plt.grid()\n",
    "plt.show()"
   ]
  },
  {
   "cell_type": "code",
   "execution_count": null,
   "metadata": {},
   "outputs": [],
   "source": []
  }
 ],
 "metadata": {
  "kernelspec": {
   "display_name": "drlnd",
   "language": "python",
   "name": "drlnd"
  },
  "language_info": {
   "codemirror_mode": {
    "name": "ipython",
    "version": 3
   },
   "file_extension": ".py",
   "mimetype": "text/x-python",
   "name": "python",
   "nbconvert_exporter": "python",
   "pygments_lexer": "ipython3",
   "version": "3.6.6"
  }
 },
 "nbformat": 4,
 "nbformat_minor": 2
}
