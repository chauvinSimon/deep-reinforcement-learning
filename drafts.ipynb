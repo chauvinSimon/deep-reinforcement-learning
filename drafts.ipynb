{
 "cells": [
  {
   "cell_type": "code",
   "execution_count": 1,
   "metadata": {},
   "outputs": [
    {
     "name": "stdout",
     "output_type": "stream",
     "text": [
      "1.0\n",
      "2.0\n"
     ]
    }
   ],
   "source": [
    "# collection, defaultdict and lambda\n",
    "import numpy as np\n",
    "from collections import defaultdict\n",
    "\n",
    "visited_pairs = defaultdict(lambda: np.ones(2))  # {\"key\": np.array([0, 0])}\n",
    "print(visited_pairs[1][1])\n",
    "visited_pairs[1][1] += 1\n",
    "print(visited_pairs[1][1])"
   ]
  },
  {
   "cell_type": "code",
   "execution_count": 8,
   "metadata": {},
   "outputs": [
    {
     "data": {
      "text/plain": [
       "[1, 1]"
      ]
     },
     "execution_count": 8,
     "metadata": {},
     "output_type": "execute_result"
    }
   ],
   "source": [
    "# namedtuple\n",
    "from collections import namedtuple\n",
    "experience = namedtuple(\"Experience\", field_names=[\n",
    "                        \"state\", \"action\", \"reward\", \"next_state\", \"done\"])\n",
    "state, action, reward, next_state, done = [1, 0], 1, 0, [1, 1], 0\n",
    "e = experience(state, action, reward, next_state, done)\n",
    "e.next_state # like object"
   ]
  },
  {
   "cell_type": "code",
   "execution_count": 6,
   "metadata": {},
   "outputs": [
    {
     "name": "stdout",
     "output_type": "stream",
     "text": [
      "[0, 1, 2]\n"
     ]
    }
   ],
   "source": [
    "# sample multiple times from a container (deque or list) \n",
    "import random\n",
    "memory = [0, 1, 2, 3]\n",
    "batch_size = 3\n",
    "experiences = random.sample(memory, k=batch_size)\n",
    "print(experiences)"
   ]
  },
  {
   "cell_type": "code",
   "execution_count": 54,
   "metadata": {},
   "outputs": [],
   "source": [
    "# Ornstein-Uhlenbeck process\n",
    "# Problem: action is just noise!! All the more since a (-1, 1) clipping is applied\n",
    "# action before noise = [-0.951146    0.9702262  -0.7887909   0.51375425]\n",
    "# self.noise.state to add = [0.59845691 0.87389752 0.69865036 0.64622363]\n",
    "\n",
    "import numpy as np\n",
    "import copy\n",
    "class OUNoise:\n",
    "    \"\"\"Ornstein-Uhlenbeck process.\n",
    "    update internal x with x += dx\n",
    "    and dx = 0.15 * ([mu1, mu2] - [x1, x2]) + 0.2 * [rdm1, rdm2]\n",
    "    In action += self.noise.sample()\"\"\"\n",
    "\n",
    "    def __init__(self, size, seed, mu=0., theta=0.15, sigma=0.2):\n",
    "        \"\"\"Initialize parameters and noise process.\"\"\"\n",
    "        self.mu = mu * np.ones(size)  # 0\n",
    "        print(\"self.mu = {}, shape self.mu = {} \".format(self.mu, np.shape(self.mu)))\n",
    "        self.theta = theta\n",
    "        self.sigma = sigma\n",
    "        self.seed = random.seed(seed)\n",
    "        self.reset()\n",
    "\n",
    "    def reset(self):\n",
    "        \"\"\"Reset the internal state (= noise) to mean (mu).\"\"\"\n",
    "        self.state = copy.copy(self.mu)\n",
    "        print(\"self.mu = {}, self.state = copy.copy(self.mu) = {}\".format(\n",
    "            self.mu, self.state))\n",
    "\n",
    "    def sample(self):\n",
    "        \"\"\"Update internal state and return it as a noise sample.\"\"\"\n",
    "        print(\"---\")\n",
    "        x = self.state\n",
    "        dx = self.theta * (self.mu - x) + self.sigma * \\\n",
    "            np.array([random.random() for i in range(len(x))])\n",
    "        print(\"x = {}, dx = {}\".format(x, dx))\n",
    "        self.state = x + dx\n",
    "        print(\"self.state = {}\".format(self.state))\n",
    "        return self.state"
   ]
  },
  {
   "cell_type": "code",
   "execution_count": 55,
   "metadata": {},
   "outputs": [
    {
     "name": "stdout",
     "output_type": "stream",
     "text": [
      "self.mu = [0. 0.], shape self.mu = (2,) \n",
      "self.mu = [0. 0.], self.state = copy.copy(self.mu) = [0. 0.]\n",
      "---\n",
      "x = [0. 0.], dx = [0.02687285 0.16948675]\n",
      "self.state = [0.02687285 0.16948675]\n",
      "---\n",
      "x = [0.02687285 0.16948675], dx = [0.148724   0.02559079]\n",
      "self.state = [0.17559685 0.19507754]\n",
      "---\n",
      "x = [0.17559685 0.19507754], dx = [0.07274749 0.06063658]\n",
      "self.state = [0.24834434 0.25571412]\n"
     ]
    },
    {
     "data": {
      "text/plain": [
       "array([0.24834434, 0.25571412])"
      ]
     },
     "execution_count": 55,
     "metadata": {},
     "output_type": "execute_result"
    }
   ],
   "source": [
    "noise = OUNoise(size=2, seed=1)\n",
    "noise.sample()\n",
    "noise.sample()\n",
    "noise.sample()"
   ]
  },
  {
   "cell_type": "code",
   "execution_count": 62,
   "metadata": {},
   "outputs": [
    {
     "name": "stdout",
     "output_type": "stream",
     "text": [
      "(3, 4)\n",
      "[ 0.04096666 -0.01196667 -0.06183334 -0.0446    ]\n",
      "[0.00591627 0.0014522  0.0062195  0.00355059]\n"
     ]
    }
   ],
   "source": [
    "# from torch to numpy. And mean and std of a matrix\n",
    "# can't convert CUDA tensor to numpy.\n",
    "# Use Tensor.cpu() to copy the tensor to host memory first\n",
    "import torch\n",
    "actions = torch.tensor([[ 0.0491, -0.0112, -0.0553, -0.0417],\n",
    "        [ 0.0352, -0.0107, -0.0702, -0.0496],\n",
    "        [ 0.0386, -0.0140, -0.0600, -0.0425]]).data.numpy()\n",
    "print(np.shape(actions))\n",
    "print(actions.mean(0))\n",
    "print(actions.std(0))"
   ]
  },
  {
   "cell_type": "code",
   "execution_count": 53,
   "metadata": {},
   "outputs": [
    {
     "name": "stdout",
     "output_type": "stream",
     "text": [
      "[2. 2.]\n"
     ]
    }
   ],
   "source": [
    "# need for copy!\n",
    "mu = np.ones(2)\n",
    "state = mu\n",
    "state += np.ones(2)\n",
    "print(mu)"
   ]
  },
  {
   "cell_type": "code",
   "execution_count": 68,
   "metadata": {},
   "outputs": [
    {
     "name": "stdout",
     "output_type": "stream",
     "text": [
      "tensor([[-0.6969,  0.4589],\n",
      "        [-0.5763,  0.6256],\n",
      "        [ 0.2240,  0.5136],\n",
      "        [-0.2393, -0.5557]])\n",
      "4\n",
      "(-0.5, 0.5)\n",
      "tensor([[-0.6969,  0.4589],\n",
      "        [-0.5763,  0.6256],\n",
      "        [ 0.2240,  0.5136],\n",
      "        [-0.2393, -0.5557]])\n",
      "4\n",
      "-0.5 0.5\n"
     ]
    }
   ],
   "source": [
    "import torch\n",
    "import torch.nn as nn\n",
    "def hidden_init(layer):\n",
    "    fan_in = layer.weight.data.size()[0]  # = 4\n",
    "    print(layer.weight.data)  # weights\n",
    "    lim = 1. / np.sqrt(fan_in)\n",
    "    return (-lim, lim)  # lim = 1/sqrt(nb_output)\n",
    "l1 = nn.Linear(2, 4)\n",
    "print(hidden_init(l1))\n",
    "print(*hidden_init(l1))"
   ]
  },
  {
   "cell_type": "code",
   "execution_count": null,
   "metadata": {},
   "outputs": [],
   "source": [
    "# draft:\n",
    "agent_kwargs = {\"state_size\": state_size, \"action_size\": action_size, \"random_seed\": 10, }\n",
    "agents = [Agent(**agent_kwargs) for _ in range(num_agents)]"
   ]
  },
  {
   "cell_type": "code",
   "execution_count": 2,
   "metadata": {},
   "outputs": [
    {
     "data": {
      "text/plain": [
       "dict_items([('a', 5), ('b', 2), ('r', 2), ('c', 2), ('d', 1)])"
      ]
     },
     "execution_count": 2,
     "metadata": {},
     "output_type": "execute_result"
    }
   ],
   "source": [
    "# defaultdict means that if a key is not found in the dictionary ...\n",
    "#     ... then instead of a KeyError being thrown, a new entry is created\n",
    "d = defaultdict(int)  # specify the type\n",
    "for k in \"abraccadabra\":\n",
    "    d[k] += 1 # no need to check if key exists\n",
    "d.items()"
   ]
  },
  {
   "cell_type": "code",
   "execution_count": 3,
   "metadata": {},
   "outputs": [
    {
     "name": "stderr",
     "output_type": "stream",
     "text": [
      "DEBUG:__main__:A debug message!\n",
      "INFO:__main__:2/2 - We processed 2 records\n"
     ]
    }
   ],
   "source": [
    "# replace verbose - debug log\n",
    "# https://docs.python.org/3/howto/logging.html\n",
    "import logging\n",
    "import sys\n",
    "logging.basicConfig(stream=sys.stderr, level=logging.DEBUG)  # level is specified\n",
    "# if no destination is set, they will set a destination of the console (sys.stderr)\n",
    "logger_1 = logging.getLogger(__name__)\n",
    "\n",
    "logger_1.debug('A debug message!')\n",
    "logger_1.propagate = False\n",
    "# Child loggers propagate messages up to the handlers associated with their ancestor loggers.\n",
    "logger_1.info('1/2 - We processed {} records'.format(len([1, 2])))\n",
    "logger_1.propagate = True\n",
    "logger_1.info('2/2 - We processed %d records', len([1, 2]))  # uses the old, %-style of string formatting.\n",
    "\n",
    "# The INFO message doesn’t appear because the default level is WARNING"
   ]
  },
  {
   "cell_type": "code",
   "execution_count": null,
   "metadata": {},
   "outputs": [],
   "source": []
  },
  {
   "cell_type": "code",
   "execution_count": 4,
   "metadata": {},
   "outputs": [
    {
     "name": "stderr",
     "output_type": "stream",
     "text": [
      "INFO:__main__:2 - We processed 2 records\n"
     ]
    }
   ],
   "source": [
    "# Advanced logging\n",
    "import logging\n",
    "logger_2 = logging.getLogger(__name__)\n",
    "logger_2.setLevel(logging.INFO)  # lowest-severity log message a logger will handle\n",
    "\n",
    "formatter = logging.Formatter('%(asctime)s - %(name)s - %(levelname)s - %(message)s', datefmt=\"%Y-%m-%d %H:%M:%S\")  # specify the layout of log records in the final output\n",
    "file_handler = logging.FileHandler(\"logfile.log\")  # Handlers send the log records \n",
    "file_handler.setFormatter(formatter)\n",
    "\n",
    "logger_2.addHandler(file_handler)\n",
    "logger_2.info('2 - We processed %d records', len([1, 2]))"
   ]
  },
  {
   "cell_type": "code",
   "execution_count": 5,
   "metadata": {},
   "outputs": [
    {
     "name": "stdout",
     "output_type": "stream",
     "text": [
      " docstring of Person\n",
      "<function Person.f at 0x0000020669C2EB70>\n",
      "John\n"
     ]
    }
   ],
   "source": [
    "# print attributes of a class (no instanciation required)\n",
    "class Person:\n",
    "    \"\"\" docstring of Person\"\"\"\n",
    "    name = \"John\"  # class variable shared by all instances\n",
    "    def f(self):\n",
    "        pass\n",
    "print(Person.__doc__)\n",
    "print(Person.f)\n",
    "print(Person.name)"
   ]
  },
  {
   "cell_type": "code",
   "execution_count": 6,
   "metadata": {},
   "outputs": [
    {
     "name": "stdout",
     "output_type": "stream",
     "text": [
      "Help on built-in function abs in module builtins:\n",
      "\n",
      "abs(x, /)\n",
      "    Return the absolute value of the argument.\n",
      "\n",
      "None\n"
     ]
    }
   ],
   "source": [
    "print(help(abs))"
   ]
  },
  {
   "cell_type": "code",
   "execution_count": 7,
   "metadata": {},
   "outputs": [
    {
     "name": "stdout",
     "output_type": "stream",
     "text": [
      "(20, 6, True)\n",
      "1.0\n",
      "(20, 6, True) 0 1.0\n",
      "(20, 6, True)\n",
      "1.0\n"
     ]
    }
   ],
   "source": [
    "# unpack tuple\n",
    "sar = ((20, 6, True), 0, 1.0)\n",
    "(state, done, reward) = sar  # unpack\n",
    "print(state)\n",
    "print(reward)\n",
    "print(*sar)  #  *-operator to unpack the arguments out of a list or tuple\n",
    "state, done, reward = (*sar,)  # unpack\n",
    "print(state)\n",
    "print(reward)"
   ]
  },
  {
   "cell_type": "code",
   "execution_count": 8,
   "metadata": {},
   "outputs": [
    {
     "name": "stdout",
     "output_type": "stream",
     "text": [
      "-2\n",
      "2\n",
      "Help on class int in module builtins:\n",
      "\n",
      "class int(object)\n",
      " |  int(x=0) -> integer\n",
      " |  int(x, base=10) -> integer\n",
      " |  \n",
      " |  Convert a number or string to an integer, or return 0 if no arguments\n",
      " |  are given.  If x is a number, return x.__int__().  For floating point\n",
      " |  numbers, this truncates towards zero.\n",
      " |  \n",
      " |  If x is not a number or if base is given, then x must be a string,\n",
      " |  bytes, or bytearray instance representing an integer literal in the\n",
      " |  given base.  The literal can be preceded by '+' or '-' and be surrounded\n",
      " |  by whitespace.  The base defaults to 10.  Valid bases are 0 and 2-36.\n",
      " |  Base 0 means to interpret the base from the string as an integer literal.\n",
      " |  >>> int('0b100', base=0)\n",
      " |  4\n",
      " |  \n",
      " |  Methods defined here:\n",
      " |  \n",
      " |  __abs__(self, /)\n",
      " |      abs(self)\n",
      " |  \n",
      " |  __add__(self, value, /)\n",
      " |      Return self+value.\n",
      " |  \n",
      " |  __and__(self, value, /)\n",
      " |      Return self&value.\n",
      " |  \n",
      " |  __bool__(self, /)\n",
      " |      self != 0\n",
      " |  \n",
      " |  __ceil__(...)\n",
      " |      Ceiling of an Integral returns itself.\n",
      " |  \n",
      " |  __divmod__(self, value, /)\n",
      " |      Return divmod(self, value).\n",
      " |  \n",
      " |  __eq__(self, value, /)\n",
      " |      Return self==value.\n",
      " |  \n",
      " |  __float__(self, /)\n",
      " |      float(self)\n",
      " |  \n",
      " |  __floor__(...)\n",
      " |      Flooring an Integral returns itself.\n",
      " |  \n",
      " |  __floordiv__(self, value, /)\n",
      " |      Return self//value.\n",
      " |  \n",
      " |  __format__(...)\n",
      " |      default object formatter\n",
      " |  \n",
      " |  __ge__(self, value, /)\n",
      " |      Return self>=value.\n",
      " |  \n",
      " |  __getattribute__(self, name, /)\n",
      " |      Return getattr(self, name).\n",
      " |  \n",
      " |  __getnewargs__(...)\n",
      " |  \n",
      " |  __gt__(self, value, /)\n",
      " |      Return self>value.\n",
      " |  \n",
      " |  __hash__(self, /)\n",
      " |      Return hash(self).\n",
      " |  \n",
      " |  __index__(self, /)\n",
      " |      Return self converted to an integer, if self is suitable for use as an index into a list.\n",
      " |  \n",
      " |  __int__(self, /)\n",
      " |      int(self)\n",
      " |  \n",
      " |  __invert__(self, /)\n",
      " |      ~self\n",
      " |  \n",
      " |  __le__(self, value, /)\n",
      " |      Return self<=value.\n",
      " |  \n",
      " |  __lshift__(self, value, /)\n",
      " |      Return self<<value.\n",
      " |  \n",
      " |  __lt__(self, value, /)\n",
      " |      Return self<value.\n",
      " |  \n",
      " |  __mod__(self, value, /)\n",
      " |      Return self%value.\n",
      " |  \n",
      " |  __mul__(self, value, /)\n",
      " |      Return self*value.\n",
      " |  \n",
      " |  __ne__(self, value, /)\n",
      " |      Return self!=value.\n",
      " |  \n",
      " |  __neg__(self, /)\n",
      " |      -self\n",
      " |  \n",
      " |  __new__(*args, **kwargs) from builtins.type\n",
      " |      Create and return a new object.  See help(type) for accurate signature.\n",
      " |  \n",
      " |  __or__(self, value, /)\n",
      " |      Return self|value.\n",
      " |  \n",
      " |  __pos__(self, /)\n",
      " |      +self\n",
      " |  \n",
      " |  __pow__(self, value, mod=None, /)\n",
      " |      Return pow(self, value, mod).\n",
      " |  \n",
      " |  __radd__(self, value, /)\n",
      " |      Return value+self.\n",
      " |  \n",
      " |  __rand__(self, value, /)\n",
      " |      Return value&self.\n",
      " |  \n",
      " |  __rdivmod__(self, value, /)\n",
      " |      Return divmod(value, self).\n",
      " |  \n",
      " |  __repr__(self, /)\n",
      " |      Return repr(self).\n",
      " |  \n",
      " |  __rfloordiv__(self, value, /)\n",
      " |      Return value//self.\n",
      " |  \n",
      " |  __rlshift__(self, value, /)\n",
      " |      Return value<<self.\n",
      " |  \n",
      " |  __rmod__(self, value, /)\n",
      " |      Return value%self.\n",
      " |  \n",
      " |  __rmul__(self, value, /)\n",
      " |      Return value*self.\n",
      " |  \n",
      " |  __ror__(self, value, /)\n",
      " |      Return value|self.\n",
      " |  \n",
      " |  __round__(...)\n",
      " |      Rounding an Integral returns itself.\n",
      " |      Rounding with an ndigits argument also returns an integer.\n",
      " |  \n",
      " |  __rpow__(self, value, mod=None, /)\n",
      " |      Return pow(value, self, mod).\n",
      " |  \n",
      " |  __rrshift__(self, value, /)\n",
      " |      Return value>>self.\n",
      " |  \n",
      " |  __rshift__(self, value, /)\n",
      " |      Return self>>value.\n",
      " |  \n",
      " |  __rsub__(self, value, /)\n",
      " |      Return value-self.\n",
      " |  \n",
      " |  __rtruediv__(self, value, /)\n",
      " |      Return value/self.\n",
      " |  \n",
      " |  __rxor__(self, value, /)\n",
      " |      Return value^self.\n",
      " |  \n",
      " |  __sizeof__(...)\n",
      " |      Returns size in memory, in bytes\n",
      " |  \n",
      " |  __str__(self, /)\n",
      " |      Return str(self).\n",
      " |  \n",
      " |  __sub__(self, value, /)\n",
      " |      Return self-value.\n",
      " |  \n",
      " |  __truediv__(self, value, /)\n",
      " |      Return self/value.\n",
      " |  \n",
      " |  __trunc__(...)\n",
      " |      Truncating an Integral returns itself.\n",
      " |  \n",
      " |  __xor__(self, value, /)\n",
      " |      Return self^value.\n",
      " |  \n",
      " |  bit_length(...)\n",
      " |      int.bit_length() -> int\n",
      " |      \n",
      " |      Number of bits necessary to represent self in binary.\n",
      " |      >>> bin(37)\n",
      " |      '0b100101'\n",
      " |      >>> (37).bit_length()\n",
      " |      6\n",
      " |  \n",
      " |  conjugate(...)\n",
      " |      Returns self, the complex conjugate of any int.\n",
      " |  \n",
      " |  from_bytes(...) from builtins.type\n",
      " |      int.from_bytes(bytes, byteorder, *, signed=False) -> int\n",
      " |      \n",
      " |      Return the integer represented by the given array of bytes.\n",
      " |      \n",
      " |      The bytes argument must be a bytes-like object (e.g. bytes or bytearray).\n",
      " |      \n",
      " |      The byteorder argument determines the byte order used to represent the\n",
      " |      integer.  If byteorder is 'big', the most significant byte is at the\n",
      " |      beginning of the byte array.  If byteorder is 'little', the most\n",
      " |      significant byte is at the end of the byte array.  To request the native\n",
      " |      byte order of the host system, use `sys.byteorder' as the byte order value.\n",
      " |      \n",
      " |      The signed keyword-only argument indicates whether two's complement is\n",
      " |      used to represent the integer.\n",
      " |  \n",
      " |  to_bytes(...)\n",
      " |      int.to_bytes(length, byteorder, *, signed=False) -> bytes\n",
      " |      \n",
      " |      Return an array of bytes representing an integer.\n",
      " |      \n",
      " |      The integer is represented using length bytes.  An OverflowError is\n",
      " |      raised if the integer is not representable with the given number of\n",
      " |      bytes.\n",
      " |      \n",
      " |      The byteorder argument determines the byte order used to represent the\n",
      " |      integer.  If byteorder is 'big', the most significant byte is at the\n",
      " |      beginning of the byte array.  If byteorder is 'little', the most\n",
      " |      significant byte is at the end of the byte array.  To request the native\n",
      " |      byte order of the host system, use `sys.byteorder' as the byte order value.\n",
      " |      \n",
      " |      The signed keyword-only argument determines whether two's complement is\n",
      " |      used to represent the integer.  If signed is False and a negative integer\n",
      " |      is given, an OverflowError is raised.\n",
      " |  \n",
      " |  ----------------------------------------------------------------------\n",
      " |  Data descriptors defined here:\n",
      " |  \n",
      " |  denominator\n",
      " |      the denominator of a rational number in lowest terms\n",
      " |  \n",
      " |  imag\n",
      " |      the imaginary part of a complex number\n",
      " |  \n",
      " |  numerator\n",
      " |      the numerator of a rational number in lowest terms\n",
      " |  \n",
      " |  real\n",
      " |      the real part of a complex number\n",
      "\n",
      "None\n"
     ]
    }
   ],
   "source": [
    "# In Python, everything is object\n",
    "x = -2\n",
    "# In the expression modname.funcname, modname is a module object and funcname is an attribute of it\n",
    "# The only operations understood by instance objects are attribute references.\n",
    "# There are two kinds of valid attribute names:\n",
    "#     - data attributes\n",
    "print(x.real)  # a data attribute, \"numerator\" is also one\n",
    "#     - and methods\n",
    "print(x.__abs__())  # a method\n",
    "print(help(int))"
   ]
  },
  {
   "cell_type": "code",
   "execution_count": 9,
   "metadata": {},
   "outputs": [],
   "source": [
    "# product of elements in a list\n",
    "import gym\n",
    "import gym.spaces\n",
    "env = gym.make('Blackjack-v0')\n",
    "nb_possible_states = np.prod([elem.n for elem in env.observation_space.spaces])"
   ]
  },
  {
   "cell_type": "code",
   "execution_count": 10,
   "metadata": {},
   "outputs": [
    {
     "name": "stdout",
     "output_type": "stream",
     "text": [
      "You won :)\n",
      "\n"
     ]
    }
   ],
   "source": [
    "# If-Else one-line\n",
    "reward = 0.5 \n",
    "print('You won :)\\n') if reward > 0 else print('You lost :(\\n')\n",
    "state = [20]\n",
    "probs = [0.8, 0.2] if state[0] > 18 else [0.2, 0.8]\n",
    "action = np.random.choice(np.arange(2), p=probs)"
   ]
  },
  {
   "cell_type": "code",
   "execution_count": 11,
   "metadata": {},
   "outputs": [
    {
     "name": "stdout",
     "output_type": "stream",
     "text": [
      "(1, 1, 0)\n",
      "[1, 2, 4, 8]\n"
     ]
    }
   ],
   "source": [
    "# zip\n",
    "episode = [((12, 10, False), 1, 0), ((13, 10, False), 1, 0),\n",
    "           ((20, 10, False), 0, 1.0)]\n",
    "states, actions, rewards = zip(*episode)\n",
    "print(actions)\n",
    "gamma = 2\n",
    "discounts = [gamma**i for i in range(len(rewards)+1)]\n",
    "print(discounts)"
   ]
  },
  {
   "cell_type": "code",
   "execution_count": 12,
   "metadata": {},
   "outputs": [
    {
     "name": "stdout",
     "output_type": "stream",
     "text": [
      "0\n",
      "(12, 10, False)\n",
      "(12, 10, False)\n",
      "1\n",
      "1\n",
      "(13, 10, False)\n",
      "(13, 10, False)\n",
      "1\n",
      "2\n",
      "(20, 10, False)\n",
      "(20, 10, False)\n",
      "0\n",
      "[(1, 'apple'), (2, 'banana'), (3, 'grapes'), (4, 'pear')]\n"
     ]
    }
   ],
   "source": [
    "# enumerate\n",
    "for i, state in enumerate(states):\n",
    "    print(i)\n",
    "    print(state)\n",
    "    print(states[i])  # same as state\n",
    "    print(actions[i])  # way to access the corresponding action\n",
    "\n",
    "my_list = ['apple', 'banana', 'grapes', 'pear']\n",
    "# argument = where to start the counter\n",
    "counter_list = list(enumerate(my_list, 1))\n",
    "print(counter_list)\n",
    "# Output: [(1, 'apple'), (2, 'banana'), (3, 'grapes'), (4, 'pear')]"
   ]
  },
  {
   "cell_type": "code",
   "execution_count": 13,
   "metadata": {},
   "outputs": [],
   "source": [
    "# clip of decay\n",
    "epsilon = 1\n",
    "eps_decay = 0.999\n",
    "eps_min = 0.05\n",
    "for i in range(10):\n",
    "    epsilon = max(epsilon*eps_decay, eps_min)"
   ]
  },
  {
   "cell_type": "code",
   "execution_count": 14,
   "metadata": {},
   "outputs": [
    {
     "name": "stdout",
     "output_type": "stream",
     "text": [
      "{1: 1, 2: 0}\n"
     ]
    }
   ],
   "source": [
    "# argmax and dict()\n",
    "Q = defaultdict(lambda: np.zeros(2))\n",
    "Q[1][0] = 0\n",
    "Q[1][1] = 1\n",
    "Q[2][0] = 2\n",
    "policy = dict((k,np.argmax(v)) for k, v in Q.items())\n",
    "print(policy)"
   ]
  },
  {
   "cell_type": "code",
   "execution_count": 15,
   "metadata": {},
   "outputs": [
    {
     "name": "stdout",
     "output_type": "stream",
     "text": [
      "\r",
      "Episode 100/1000."
     ]
    }
   ],
   "source": [
    "# monitor progress\n",
    "i_episode = 100\n",
    "num_episodes = 1000\n",
    "if i_episode % 10 == 0:\n",
    "    print(\"\\rEpisode {}/{}.\".format(i_episode, num_episodes), end=\"\")\n",
    "    sys.stdout.flush()"
   ]
  },
  {
   "cell_type": "code",
   "execution_count": 16,
   "metadata": {},
   "outputs": [
    {
     "name": "stdout",
     "output_type": "stream",
     "text": [
      " 0\n",
      "pause - max_reward= 0\n",
      " 1000\n",
      "pause - max_reward= 999\n",
      " 2000\n",
      "pause - max_reward= 1999\n",
      " 3000\n",
      "pause - max_reward= 2999\n",
      " 4000\n",
      "pause - max_reward= 3999\n",
      " 5000\n",
      "pause - max_reward= 4999\n",
      " 6000\n",
      "pause - max_reward= 5999\n",
      " 9000\n",
      "pause - max_reward= 8999\n",
      " 9999"
     ]
    }
   ],
   "source": [
    "max_reward = 0\n",
    "for i in range(10000):\n",
    "    print(\"\\r {}\".format(i), sep=' ', end='', flush=True)\n",
    "    if(i % 1000 == 0):\n",
    "        print(\"\\npause - max_reward=\", max_reward)\n",
    "    max_reward = max(max_reward, i)"
   ]
  },
  {
   "cell_type": "code",
   "execution_count": 17,
   "metadata": {},
   "outputs": [
    {
     "data": {
      "text/plain": [
       "array([0, 1, 2, 3, 4, 5])"
      ]
     },
     "execution_count": 17,
     "metadata": {},
     "output_type": "execute_result"
    }
   ],
   "source": [
    "import numpy as np\n",
    "scores = [1, 1, 1, 1, 1, 1]\n",
    "np.arange(len(scores))"
   ]
  },
  {
   "cell_type": "code",
   "execution_count": 18,
   "metadata": {},
   "outputs": [
    {
     "name": "stdout",
     "output_type": "stream",
     "text": [
      "[2 3 4]\n",
      "[1 1 1]\n",
      "9\n"
     ]
    }
   ],
   "source": [
    "# multiply lists\n",
    "rewards = np.array([1, 2, 3, 4])\n",
    "discounts = np.array([1, 1, 1, 1, 1])\n",
    "i = 1\n",
    "print(rewards[i:])\n",
    "print(discounts[:-(1+i)])\n",
    "print(sum(rewards[i:]*discounts[:-(1+i)]))"
   ]
  },
  {
   "cell_type": "code",
   "execution_count": 19,
   "metadata": {},
   "outputs": [
    {
     "name": "stdout",
     "output_type": "stream",
     "text": [
      "simon /r 1\n"
     ]
    },
    {
     "data": {
      "text/plain": [
       "'test string'"
      ]
     },
     "execution_count": 19,
     "metadata": {},
     "output_type": "execute_result"
    }
   ],
   "source": [
    "print(\"simon /r 1\".rstrip())\n",
    "'test string\\n'.rstrip()"
   ]
  },
  {
   "cell_type": "code",
   "execution_count": 20,
   "metadata": {},
   "outputs": [
    {
     "name": "stdout",
     "output_type": "stream",
     "text": [
      "[[0. 0. 0. 0. 0. 0. 0. 0. 0. 0. 0. 0.]\n",
      " [0. 0. 0. 0. 0. 0. 0. 0. 0. 0. 0. 0.]\n",
      " [0. 0. 0. 0. 0. 0. 0. 0. 0. 0. 0. 0.]\n",
      " [0. 0. 0. 0. 0. 0. 0. 0. 0. 0. 0. 0.]]\n"
     ]
    }
   ],
   "source": [
    "# np.zeros requires a tuple\n",
    "V_opt = np.zeros((4,12))\n",
    "print(V_opt)"
   ]
  },
  {
   "cell_type": "code",
   "execution_count": 21,
   "metadata": {},
   "outputs": [
    {
     "ename": "NameError",
     "evalue": "name 'reshape' is not defined",
     "output_type": "error",
     "traceback": [
      "\u001b[1;31m---------------------------------------------------------------------------\u001b[0m",
      "\u001b[1;31mNameError\u001b[0m                                 Traceback (most recent call last)",
      "\u001b[1;32m<ipython-input-21-4e606d365812>\u001b[0m in \u001b[0;36m<module>\u001b[1;34m()\u001b[0m\n\u001b[1;32m----> 1\u001b[1;33m \u001b[0mreshape\u001b[0m\u001b[1;33m(\u001b[0m\u001b[1;36m4\u001b[0m\u001b[1;33m,\u001b[0m\u001b[1;36m12\u001b[0m\u001b[1;33m)\u001b[0m\u001b[1;33m\u001b[0m\u001b[0m\n\u001b[0m",
      "\u001b[1;31mNameError\u001b[0m: name 'reshape' is not defined"
     ]
    }
   ],
   "source": [
    "reshape(4,12)"
   ]
  },
  {
   "cell_type": "code",
   "execution_count": 24,
   "metadata": {},
   "outputs": [
    {
     "name": "stdout",
     "output_type": "stream",
     "text": [
      "[  0.  25.  50.  75. 100.]\n",
      "[3 5 7]\n"
     ]
    }
   ],
   "source": [
    "# linspace()\n",
    "num_episodes = 100\n",
    "avg_scores = [1, 2, 3, 4, 5]\n",
    "print(np.linspace(0,num_episodes,len(avg_scores)))\n",
    "\n",
    "# arange\n",
    "print(np.arange(3, 8, 2))"
   ]
  },
  {
   "cell_type": "code",
   "execution_count": 25,
   "metadata": {},
   "outputs": [
    {
     "ename": "ModuleNotFoundError",
     "evalue": "No module named 'check_test'",
     "output_type": "error",
     "traceback": [
      "\u001b[1;31m---------------------------------------------------------------------------\u001b[0m",
      "\u001b[1;31mModuleNotFoundError\u001b[0m                       Traceback (most recent call last)",
      "\u001b[1;32m<ipython-input-25-6abf677b273b>\u001b[0m in \u001b[0;36m<module>\u001b[1;34m()\u001b[0m\n\u001b[1;32m----> 1\u001b[1;33m \u001b[1;32mimport\u001b[0m \u001b[0mcheck_test\u001b[0m\u001b[1;33m\u001b[0m\u001b[0m\n\u001b[0m",
      "\u001b[1;31mModuleNotFoundError\u001b[0m: No module named 'check_test'"
     ]
    }
   ],
   "source": [
    "import check_test"
   ]
  },
  {
   "cell_type": "code",
   "execution_count": 28,
   "metadata": {},
   "outputs": [
    {
     "data": {
      "text/plain": [
       "1"
      ]
     },
     "execution_count": 28,
     "metadata": {},
     "output_type": "execute_result"
    }
   ],
   "source": [
    "# np.arange()\n",
    "import random\n",
    "random.choice(np.arange(env.action_space.n))"
   ]
  },
  {
   "cell_type": "code",
   "execution_count": 29,
   "metadata": {},
   "outputs": [
    {
     "name": "stdout",
     "output_type": "stream",
     "text": [
      "deque([9.0, 7.0, 5.0], maxlen=3)\n",
      "[9. 7. 5.]\n"
     ]
    }
   ],
   "source": [
    "# deque\n",
    "from collections import deque\n",
    "# idea: `avg_rewards[0]` is the average return collected by the agent over the first 100 episodes.\n",
    "import numpy as np\n",
    "num_episodes = 3\n",
    "avg_scores = deque(maxlen=num_episodes)   # average scores over every plot_every episodes\n",
    "tmp_scores = [10, 12]\n",
    "avg_scores.append(np.mean(tmp_scores))\n",
    "tmp_scores = [8, 10]\n",
    "avg_scores.append(np.mean(tmp_scores))\n",
    "tmp_scores = [6, 8]\n",
    "avg_scores.append(np.mean(tmp_scores))\n",
    "tmp_scores = [4, 6]\n",
    "avg_scores.append(np.mean(tmp_scores))\n",
    "print(avg_scores)\n",
    "print(np.asarray(avg_scores))  # note asarray (not array)"
   ]
  },
  {
   "cell_type": "code",
   "execution_count": 30,
   "metadata": {},
   "outputs": [
    {
     "data": {
      "text/plain": [
       "50"
      ]
     },
     "execution_count": 30,
     "metadata": {},
     "output_type": "execute_result"
    }
   ],
   "source": [
    "# dot product\n",
    "a = np.array([1, 2])\n",
    "b = np.array([10, 20])\n",
    "np.dot(a, b)"
   ]
  },
  {
   "cell_type": "code",
   "execution_count": 33,
   "metadata": {},
   "outputs": [],
   "source": [
    "# initialize best average reward\n",
    "import math\n",
    "best_avg_reward = -math.inf"
   ]
  },
  {
   "cell_type": "code",
   "execution_count": 34,
   "metadata": {},
   "outputs": [
    {
     "name": "stdout",
     "output_type": "stream",
     "text": [
      "[0 1 2]\n"
     ]
    },
    {
     "data": {
      "text/plain": [
       "1"
      ]
     },
     "execution_count": 34,
     "metadata": {},
     "output_type": "execute_result"
    }
   ],
   "source": [
    "import numpy as np\n",
    "nA = 3\n",
    "print(np.arange(nA))\n",
    "prob = np.ones(nA) / nA\n",
    "np.random.choice(np.arange(nA), p=prob)"
   ]
  },
  {
   "cell_type": "code",
   "execution_count": 35,
   "metadata": {},
   "outputs": [
    {
     "data": {
      "text/plain": [
       "1"
      ]
     },
     "execution_count": 35,
     "metadata": {},
     "output_type": "execute_result"
    }
   ],
   "source": [
    "nA = 5\n",
    "np.random.choice(np.arange(nA))"
   ]
  },
  {
   "cell_type": "code",
   "execution_count": 36,
   "metadata": {},
   "outputs": [
    {
     "name": "stdout",
     "output_type": "stream",
     "text": [
      "\u001b[33mWARN: gym.spaces.Box autodetected dtype as <class 'numpy.float32'>. Please provide explicit dtype.\u001b[0m\n",
      "Discrete(2)\n",
      "Box(4,)\n"
     ]
    }
   ],
   "source": [
    "# https://gym.openai.com/docs/#spaces\n",
    "import gym\n",
    "import gym.spaces\n",
    "env = gym.make('CartPole-v0')\n",
    "print(env.action_space)\n",
    "#> Discrete(2)\n",
    "print(env.observation_space)\n",
    "#> Box(4,)"
   ]
  },
  {
   "cell_type": "code",
   "execution_count": 37,
   "metadata": {},
   "outputs": [
    {
     "data": {
      "text/plain": [
       "array([1, 4, 3, 2], dtype=int64)"
      ]
     },
     "execution_count": 37,
     "metadata": {},
     "output_type": "execute_result"
    }
   ],
   "source": [
    "# np.digitize\n",
    "# Return the indices of the bins to which each value in input array belongs.\n",
    "x = np.array([0.2, 6.4, 3.0, 1.6])\n",
    "bins = np.array([0.0, 1.0, 2.5, 4.0, 10.0])\n",
    "inds = np.digitize(x, bins)\n",
    "inds"
   ]
  },
  {
   "cell_type": "code",
   "execution_count": 38,
   "metadata": {},
   "outputs": [
    {
     "name": "stdout",
     "output_type": "stream",
     "text": [
      "a =000005000005\n",
      "\n",
      "\n"
     ]
    }
   ],
   "source": [
    "# print(*objects, sep=' ', end='\\n', file=sys.stdout, flush=False)\n",
    "a = 5\n",
    "print(\"a =\", a, a, sep='00000', end='\\n\\n\\n')"
   ]
  },
  {
   "cell_type": "code",
   "execution_count": 39,
   "metadata": {},
   "outputs": [
    {
     "name": "stdout",
     "output_type": "stream",
     "text": [
      "[[-1.   -5.  ]\n",
      " [-0.81 -4.1 ]\n",
      " [-0.8  -4.  ]]\n",
      "\n",
      "Samples:\n",
      "array([[-1.  , -5.  ],\n",
      "       [-0.81, -4.1 ],\n",
      "       [-0.8 , -4.  ]])\n"
     ]
    }
   ],
   "source": [
    "# repr - to print a list\n",
    "samples = np.array([[-1.0 , -5.0], [-0.81, -4.1], [-0.8 , -4.0],])\n",
    "print(samples)\n",
    "print(\"\\nSamples:\", repr(samples), sep=\"\\n\")"
   ]
  },
  {
   "cell_type": "code",
   "execution_count": 40,
   "metadata": {},
   "outputs": [
    {
     "name": "stdout",
     "output_type": "stream",
     "text": [
      "[[-1.  1.  2.  3.  4.  1.]\n",
      " [-5. 11. 12. 13. 14.  5.]]\n"
     ]
    },
    {
     "data": {
      "text/plain": [
       "array([[ 2.,  4.,  6.,  8.,  2.],\n",
       "       [22., 24., 26., 28., 10.]])"
      ]
     },
     "execution_count": 40,
     "metadata": {},
     "output_type": "execute_result"
    }
   ],
   "source": [
    "# transpose, honrizontal stack and [:, 1:]\n",
    "low = [-1.0, -5.0]\n",
    "high = [1.0, 5.0]\n",
    "grid = [np.array([1, 2, 3, 4]), np.array([11, 12, 13, 14])]\n",
    "res = np.hstack((np.array([low]).T, grid, np.array([high]).T))\n",
    "print(res)\n",
    "res[:, 1:] * 2"
   ]
  },
  {
   "cell_type": "code",
   "execution_count": 41,
   "metadata": {},
   "outputs": [
    {
     "name": "stdout",
     "output_type": "stream",
     "text": [
      "state_size = (5, 5)\n"
     ]
    }
   ],
   "source": [
    "# 3 actions and 4*4 state space\n",
    "state_grid = [\n",
    "    np.array([-1.02, -0.84, -0.66, -0.48]),\n",
    "    np.array([-5.600e-02, -4.200e-02, -2.800e-02, -1.400e-02])\n",
    "]\n",
    "action_size = 3\n",
    "state_size = tuple(len(splits) + 1 for splits in state_grid)  # (4+1, 4+1)\n",
    "print(\"state_size = {}\".format(state_size))"
   ]
  },
  {
   "cell_type": "code",
   "execution_count": 42,
   "metadata": {},
   "outputs": [
    {
     "name": "stdout",
     "output_type": "stream",
     "text": [
      "[[[4. 4. 4.]\n",
      "  [4. 4. 4.]\n",
      "  [4. 4. 4.]\n",
      "  [4. 4. 4.]\n",
      "  [4. 4. 4.]]\n",
      "\n",
      " [[4. 4. 4.]\n",
      "  [4. 4. 4.]\n",
      "  [4. 4. 4.]\n",
      "  [4. 4. 4.]\n",
      "  [4. 4. 4.]]\n",
      "\n",
      " [[0. 0. 0.]\n",
      "  [0. 0. 0.]\n",
      "  [2. 2. 2.]\n",
      "  [0. 0. 0.]\n",
      "  [0. 0. 0.]]\n",
      "\n",
      " [[0. 0. 0.]\n",
      "  [0. 0. 0.]\n",
      "  [0. 0. 0.]\n",
      "  [0. 0. 0.]\n",
      "  [0. 0. 0.]]\n",
      "\n",
      " [[0. 0. 0.]\n",
      "  [0. 0. 0.]\n",
      "  [0. 0. 0.]\n",
      "  [1. 0. 0.]\n",
      "  [0. 0. 0.]]]\n"
     ]
    }
   ],
   "source": [
    "# add tuples - with \",\" to specify that it is a tuple\n",
    "# res[block=y][row=x][column=action] - imagine it in 3d - pack them + apply rotation\n",
    "shape = (5, 5) + (3,)  # (5, 5, 3)\n",
    "res = np.zeros(shape=(shape))\n",
    "# print(np.zeros(shape=(2,3,4)))\n",
    "res[4][3][0] = 1  # target a specific point\n",
    "state = (2, 2)  # access with a tuple (apply to all actions) - not a list\n",
    "res[state] = 2\n",
    "state = [0, 1]  # access with a list is different does not work (it only considers the first element)\n",
    "res[state] = 4\n",
    "print(res)"
   ]
  },
  {
   "cell_type": "code",
   "execution_count": 43,
   "metadata": {},
   "outputs": [],
   "source": [
    "max_avg_score = -np.inf"
   ]
  },
  {
   "cell_type": "code",
   "execution_count": 44,
   "metadata": {},
   "outputs": [
    {
     "name": "stderr",
     "output_type": "stream",
     "text": [
      "DEBUG:matplotlib:$HOME=C:\\Users\\simon.chauvin\n",
      "DEBUG:matplotlib:matplotlib data path C:\\Users\\simon.chauvin\\AppData\\Local\\Continuum\\anaconda3\\envs\\drlnd\\lib\\site-packages\\matplotlib\\mpl-data\n",
      "DEBUG:matplotlib:loaded rc file C:\\Users\\simon.chauvin\\AppData\\Local\\Continuum\\anaconda3\\envs\\drlnd\\lib\\site-packages\\matplotlib\\mpl-data\\matplotlibrc\n",
      "DEBUG:matplotlib:matplotlib version 2.2.3\n",
      "DEBUG:matplotlib:interactive is False\n",
      "DEBUG:matplotlib:platform is win32\n",
      "DEBUG:matplotlib:loaded modules: ['builtins', 'sys', '_frozen_importlib', '_imp', '_warnings', '_thread', '_weakref', '_frozen_importlib_external', '_io', 'marshal', 'nt', 'winreg', 'zipimport', 'encodings', 'codecs', '_codecs', 'encodings.aliases', 'encodings.utf_8', '_signal', '__main__', 'encodings.latin_1', 'io', 'abc', '_weakrefset', 'encodings.cp1252', 'site', 'os', 'errno', 'stat', '_stat', 'ntpath', 'genericpath', 'os.path', '_collections_abc', '_sitebuiltins', 'sysconfig', '_bootlocale', '_locale', 'types', 'functools', '_functools', 'collections', 'operator', '_operator', 'keyword', 'heapq', '_heapq', 'itertools', 'reprlib', '_collections', 'weakref', 'collections.abc', 'importlib', 'importlib._bootstrap', 'importlib._bootstrap_external', 'warnings', 'importlib.util', 'importlib.abc', 'importlib.machinery', 'contextlib', 'mpl_toolkits', 'runpy', 'pkgutil', 'ipykernel', 'ipykernel._version', 'ipykernel.connect', '__future__', 'json', 'json.decoder', 're', 'enum', 'sre_compile', '_sre', 'sre_parse', 'sre_constants', 'copyreg', 'json.scanner', '_json', 'json.encoder', 'subprocess', 'time', 'signal', 'threading', 'traceback', 'linecache', 'tokenize', 'token', 'msvcrt', '_winapi', 'IPython', 'IPython.core', 'IPython.core.getipython', 'IPython.core.release', 'IPython.core.application', 'atexit', 'copy', 'glob', 'fnmatch', 'posixpath', 'logging', 'string', '_string', 'shutil', 'zlib', 'bz2', '_compression', '_bz2', 'lzma', '_lzma', 'traitlets', 'traitlets.traitlets', 'inspect', 'ast', '_ast', 'dis', 'opcode', '_opcode', 'six', 'struct', '_struct', 'traitlets.utils', 'traitlets.utils.getargspec', 'traitlets.utils.importstring', 'ipython_genutils', 'ipython_genutils._version', 'ipython_genutils.py3compat', 'ipython_genutils.encoding', 'locale', 'platform', 'traitlets.utils.sentinel', 'traitlets.utils.bunch', 'traitlets._version', 'traitlets.config', 'traitlets.config.application', 'decorator', 'traitlets.config.configurable', 'traitlets.config.loader', 'argparse', 'textwrap', 'gettext', 'ipython_genutils.path', 'random', 'math', 'hashlib', '_hashlib', '_blake2', '_sha3', 'bisect', '_bisect', '_random', 'ipython_genutils.text', 'ipython_genutils.importstring', 'IPython.core.crashhandler', 'pprint', 'IPython.core.ultratb', 'pydoc', 'urllib', 'urllib.parse', 'IPython.core.debugger', 'bdb', 'IPython.utils', 'IPython.utils.PyColorize', 'IPython.utils.coloransi', 'IPython.utils.ipstruct', 'IPython.utils.colorable', 'pygments', 'pygments.util', 'IPython.utils.py3compat', 'IPython.utils.encoding', 'IPython.core.excolors', 'IPython.testing', 'IPython.testing.skipdoctest', 'pdb', 'cmd', 'code', 'codeop', 'IPython.core.display_trap', 'IPython.utils.openpy', 'IPython.utils.path', 'IPython.utils.process', 'IPython.utils._process_win32', 'ctypes', '_ctypes', 'ctypes._endian', 'ctypes.wintypes', 'IPython.utils._process_common', 'shlex', 'IPython.utils.decorators', 'IPython.utils.data', 'IPython.utils.terminal', 'IPython.utils.sysinfo', 'IPython.utils._sysinfo', 'IPython.core.profiledir', 'IPython.paths', 'tempfile', 'IPython.utils.importstring', 'IPython.terminal', 'IPython.terminal.embed', 'IPython.core.compilerop', 'IPython.core.magic_arguments', 'IPython.core.error', 'IPython.utils.text', 'pathlib', 'IPython.core.magic', 'getopt', 'IPython.core.oinspect', 'IPython.core.page', 'IPython.core.display', 'binascii', 'mimetypes', 'IPython.lib', 'IPython.lib.security', 'getpass', 'IPython.lib.pretty', 'datetime', '_datetime', 'IPython.utils.signatures', 'IPython.utils.dir2', 'IPython.utils.wildcard', 'pygments.lexers', 'pygments.lexers._mapping', 'pygments.modeline', 'pygments.plugin', 'pygments.lexers.python', 'pygments.lexer', 'pygments.filter', 'pygments.filters', 'pygments.token', 'pygments.regexopt', 'pygments.unistring', 'pygments.formatters', 'pygments.formatters._mapping', 'pygments.formatters.html', 'pygments.formatter', 'pygments.styles', 'IPython.core.inputsplitter', 'IPython.core.inputtransformer', 'IPython.core.splitinput', 'IPython.utils.tokenize2', 'IPython.core.interactiveshell', 'pickleshare', 'pickle', '_compat_pickle', '_pickle', 'IPython.core.prefilter', 'IPython.core.autocall', 'IPython.core.macro', 'IPython.core.alias', 'IPython.core.builtin_trap', 'IPython.core.events', 'backcall', 'backcall.backcall', 'IPython.core.displayhook', 'IPython.core.displaypub', 'IPython.core.extensions', 'IPython.core.formatters', 'IPython.utils.sentinel', 'IPython.core.history', 'sqlite3', 'sqlite3.dbapi2', '_sqlite3', 'IPython.core.logger', 'IPython.core.payload', 'IPython.core.usage', 'IPython.display', 'IPython.lib.display', 'html', 'html.entities', 'IPython.utils.io', 'IPython.utils.capture', 'IPython.utils.strdispatch', 'IPython.core.hooks', 'IPython.utils.syspathcontext', 'IPython.utils.tempdir', 'typing', 'typing.io', 'typing.re', 'IPython.utils.contexts', 'IPython.terminal.interactiveshell', 'prompt_toolkit', 'prompt_toolkit.interface', 'prompt_toolkit.application', 'prompt_toolkit.buffer', 'prompt_toolkit.auto_suggest', 'prompt_toolkit.filters', 'prompt_toolkit.filters.base', 'prompt_toolkit.utils', 'wcwidth', 'wcwidth.wcwidth', 'wcwidth.table_wide', 'wcwidth.table_zero', 'six.moves', 'prompt_toolkit.filters.cli', 'prompt_toolkit.enums', 'prompt_toolkit.key_binding', 'prompt_toolkit.key_binding.vi_state', 'prompt_toolkit.cache', 'prompt_toolkit.filters.types', 'prompt_toolkit.filters.utils', 'prompt_toolkit.clipboard', 'prompt_toolkit.clipboard.base', 'prompt_toolkit.selection', 'prompt_toolkit.clipboard.in_memory', 'prompt_toolkit.completion', 'prompt_toolkit.document', 'prompt_toolkit.history', 'prompt_toolkit.search_state', 'prompt_toolkit.validation', 'prompt_toolkit.buffer_mapping', 'prompt_toolkit.key_binding.bindings', 'prompt_toolkit.key_binding.bindings.basic', 'prompt_toolkit.keys', 'prompt_toolkit.layout', 'prompt_toolkit.layout.containers', 'prompt_toolkit.layout.controls', 'prompt_toolkit.mouse_events', 'prompt_toolkit.token', 'prompt_toolkit.layout.lexers', 'prompt_toolkit.layout.utils', 'prompt_toolkit.layout.processors', 'prompt_toolkit.reactive', 'prompt_toolkit.layout.screen', 'prompt_toolkit.layout.dimension', 'prompt_toolkit.layout.margins', 'prompt_toolkit.renderer', 'prompt_toolkit.layout.mouse_handlers', 'prompt_toolkit.output', 'prompt_toolkit.styles', 'prompt_toolkit.styles.base', 'prompt_toolkit.styles.defaults', 'prompt_toolkit.styles.from_dict', 'prompt_toolkit.styles.utils', 'prompt_toolkit.styles.from_pygments', 'pygments.style', 'pygments.styles.default', 'prompt_toolkit.key_binding.bindings.named_commands', 'prompt_toolkit.key_binding.bindings.completion', 'prompt_toolkit.key_binding.registry', 'prompt_toolkit.key_binding.input_processor', 'prompt_toolkit.key_binding.bindings.emacs', 'prompt_toolkit.key_binding.bindings.scroll', 'prompt_toolkit.key_binding.bindings.vi', 'prompt_toolkit.key_binding.digraphs', 'prompt_toolkit.key_binding.defaults', 'prompt_toolkit.eventloop', 'prompt_toolkit.eventloop.base', 'prompt_toolkit.eventloop.callbacks', 'prompt_toolkit.input', 'prompt_toolkit.terminal', 'prompt_toolkit.terminal.win32_input', 'prompt_toolkit.win32_types', 'prompt_toolkit.shortcuts', 'prompt_toolkit.layout.menus', 'prompt_toolkit.layout.prompt', 'prompt_toolkit.layout.toolbars', 'prompt_toolkit.terminal.win32_output', 'prompt_toolkit.terminal.conemu_output', 'prompt_toolkit.terminal.vt100_output', 'array', 'prompt_toolkit.key_binding.manager', 'IPython.terminal.debugger', 'IPython.core.completer', 'unicodedata', 'IPython.core.latex_symbols', 'IPython.utils.generics', 'simplegeneric', 'jedi', 'jedi.api', 'parso', 'parso.parser', 'parso.tree', 'parso._compatibility', 'parso.pgen2', 'parso.pgen2.generator', 'parso.pgen2.grammar_parser', 'parso.python', 'parso.python.tokenize', 'parso.python.token', 'parso.utils', 'parso.grammar', 'parso.python.diff', 'difflib', 'parso.python.parser', 'parso.python.tree', 'parso.python.prefix', 'parso.cache', 'gc', 'socket', '_socket', 'selectors', 'select', 'parso.python.errors', 'parso.normalizer', 'parso.python.pep8', 'jedi._compatibility', 'queue', 'jedi.parser_utils', 'jedi.debug', 'jedi.settings', 'jedi.cache', 'jedi.api.classes', 'jedi.evaluate', 'jedi.evaluate.utils', 'jedi.evaluate.imports', 'jedi.evaluate.sys_path', 'jedi.evaluate.cache', 'jedi.evaluate.base_context', 'jedi.common', 'jedi.common.context', 'jedi.evaluate.helpers', 'jedi.common.utils', 'jedi.evaluate.compiled', 'jedi.evaluate.compiled.context', 'jedi.evaluate.filters', 'jedi.evaluate.flow_analysis', 'jedi.evaluate.recursion', 'jedi.evaluate.lazy_context', 'jedi.evaluate.compiled.access', 'jedi.evaluate.compiled.getattr_static', 'jedi.evaluate.compiled.fake', 'jedi.evaluate.analysis', 'jedi.evaluate.context', 'jedi.evaluate.context.module', 'jedi.evaluate.context.klass', 'jedi.evaluate.context.function', 'jedi.evaluate.docstrings', 'jedi.evaluate.pep0484', 'jedi.evaluate.arguments', 'jedi.evaluate.context.iterable', 'jedi.evaluate.param', 'jedi.evaluate.context.asynchronous', 'jedi.evaluate.parser_cache', 'jedi.evaluate.context.instance', 'jedi.evaluate.syntax_tree', 'jedi.evaluate.finder', 'jedi.api.keywords', 'pydoc_data', 'pydoc_data.topics', 'jedi.api.interpreter', 'jedi.evaluate.compiled.mixed', 'jedi.api.helpers', 'jedi.api.completion', 'jedi.api.environment', 'filecmp', 'jedi.evaluate.compiled.subprocess', 'jedi.evaluate.compiled.subprocess.functions', 'jedi.api.exceptions', 'jedi.api.project', 'jedi.evaluate.usages', 'IPython.terminal.ptutils', 'IPython.terminal.shortcuts', 'IPython.lib.clipboard', 'IPython.terminal.magics', 'IPython.terminal.pt_inputhooks', 'IPython.terminal.prompts', 'IPython.terminal.ipapp', 'IPython.core.magics', 'IPython.core.magics.auto', 'IPython.core.magics.basic', 'IPython.core.magics.code', 'urllib.request', 'base64', 'email', 'http', 'http.client', 'email.parser', 'email.feedparser', 'email.errors', 'email._policybase', 'email.header', 'email.quoprimime', 'email.base64mime', 'email.charset', 'email.encoders', 'quopri', 'email.utils', 'email._parseaddr', 'calendar', 'email.message', 'uu', 'email._encoded_words', 'email.iterators', 'ssl', 'ipaddress', '_ssl', 'urllib.error', 'urllib.response', 'nturl2path', 'IPython.core.magics.config', 'IPython.core.magics.display', 'IPython.core.magics.execution', 'timeit', 'cProfile', '_lsprof', 'profile', 'optparse', 'pstats', 'IPython.utils.module_paths', 'imp', 'IPython.utils.timing', 'IPython.core.magics.extension', 'IPython.core.magics.history', 'IPython.core.magics.logging', 'IPython.core.magics.namespace', 'IPython.core.magics.osm', 'IPython.core.magics.pylab', 'IPython.core.pylabtools', 'IPython.core.magics.script', 'IPython.lib.backgroundjobs', 'IPython.core.shellapp', 'IPython.extensions', 'IPython.extensions.storemagic', 'IPython.utils.frame', 'jupyter_client', 'jupyter_client._version', 'jupyter_client.connect', 'zmq', 'zmq.libzmq', 'zmq.backend', 'zmq.backend.select', 'zmq.backend.cython', 'cython_runtime', 'zmq.backend.cython.constants', '_cython_0_28_5', 'zmq.backend.cython.error', 'zmq.backend.cython.message', 'zmq.error', 'zmq.backend.cython.context', 'zmq.backend.cython.socket', 'zmq.backend.cython.utils', 'zmq.backend.cython._poll', 'zmq.backend.cython._version', 'zmq.backend.cython._device', 'zmq.sugar', 'zmq.sugar.constants', 'zmq.utils', 'zmq.utils.constant_names', 'zmq.sugar.context', 'zmq.sugar.attrsettr', 'zmq.sugar.socket', 'zmq.sugar.poll', 'zmq.utils.jsonapi', 'zmq.utils.strtypes', 'zmq.sugar.frame', 'zmq.sugar.tracker', 'zmq.sugar.version', 'zmq.sugar.stopwatch', 'jupyter_client.localinterfaces', 'jupyter_core', 'jupyter_core.version', 'jupyter_core.paths', 'jupyter_client.launcher', 'traitlets.log', 'jupyter_client.client', 'jupyter_client.channels', 'jupyter_client.channelsabc', 'jupyter_client.clientabc', 'jupyter_client.manager', 'jupyter_client.kernelspec', 'jupyter_client.managerabc', 'jupyter_client.blocking', 'jupyter_client.blocking.client', 'jupyter_client.blocking.channels', 'jupyter_client.multikernelmanager', 'uuid', 'ctypes.util', 'ipykernel.kernelapp', 'tornado', 'tornado.ioloop', 'numbers', 'tornado.concurrent', 'tornado.log', 'logging.handlers', 'tornado.escape', 'tornado.util', 'tornado.speedups', 'colorama', 'colorama.initialise', 'colorama.ansitowin32', 'colorama.ansi', 'colorama.winterm', 'colorama.win32', 'tornado.stack_context', 'concurrent', 'concurrent.futures', 'concurrent.futures._base', 'concurrent.futures.process', 'multiprocessing', 'multiprocessing.context', 'multiprocessing.process', 'multiprocessing.reduction', '__mp_main__', 'multiprocessing.connection', '_multiprocessing', 'multiprocessing.util', 'concurrent.futures.thread', 'asyncio', '_overlapped', 'asyncio.base_events', 'asyncio.compat', 'asyncio.coroutines', 'asyncio.constants', 'asyncio.events', 'asyncio.base_futures', 'asyncio.log', 'asyncio.futures', 'asyncio.base_tasks', '_asyncio', 'asyncio.tasks', 'asyncio.locks', 'asyncio.protocols', 'asyncio.queues', 'asyncio.streams', 'asyncio.subprocess', 'asyncio.transports', 'asyncio.windows_events', 'asyncio.base_subprocess', 'asyncio.proactor_events', 'asyncio.sslproto', 'asyncio.selector_events', 'asyncio.windows_utils', 'tornado.platform', 'tornado.platform.auto', 'tornado.platform.common', 'tornado.platform.interface', 'tornado.platform.windows', 'zmq.eventloop', 'zmq.eventloop.ioloop', 'tornado.platform.asyncio', 'tornado.gen', 'zmq.eventloop.zmqstream', 'ipykernel.iostream', 'jupyter_client.session', 'hmac', 'jupyter_client.jsonutil', 'dateutil', 'dateutil._version', 'dateutil.parser', 'dateutil.parser._parser', 'decimal', '_decimal', 'dateutil.relativedelta', 'dateutil._common', 'dateutil.tz', 'dateutil.tz.tz', 'dateutil.tz._common', 'dateutil.tz._factories', 'dateutil.tz.win', 'dateutil.parser.isoparser', '_strptime', 'jupyter_client.adapter', 'ipykernel.heartbeat', 'ipykernel.ipkernel', 'IPython.utils.tokenutil', 'ipykernel.comm', 'ipykernel.comm.manager', 'ipykernel.comm.comm', 'ipykernel.kernelbase', 'ipykernel.jsonutil', 'ipykernel.zmqshell', 'IPython.core.payloadpage', 'ipykernel.displayhook', 'ipykernel.parentpoller', 'faulthandler', 'ipykernel.datapub', 'ipykernel.serialize', 'ipykernel.pickleutil', 'ipykernel.codeutil', 'IPython.core.completerlib', 'storemagic', 'ipywidgets', 'ipywidgets._version', 'ipywidgets.widgets', 'ipywidgets.widgets.widget', 'ipywidgets.widgets.domwidget', 'ipywidgets.widgets.trait_types', 'ipywidgets.widgets.widget_layout', 'ipywidgets.widgets.widget_style', 'ipywidgets.widgets.valuewidget', 'ipywidgets.widgets.widget_core', 'ipywidgets.widgets.widget_bool', 'ipywidgets.widgets.widget_description', 'ipywidgets.widgets.widget_button', 'ipywidgets.widgets.widget_box', 'ipywidgets.widgets.docutils', 'ipywidgets.widgets.widget_float', 'ipywidgets.widgets.widget_int', 'ipywidgets.widgets.widget_color', 'ipywidgets.widgets.widget_date', 'ipywidgets.widgets.widget_output', 'ipywidgets.widgets.widget_selection', 'ipywidgets.widgets.widget_selectioncontainer', 'ipywidgets.widgets.widget_string', 'ipywidgets.widgets.widget_controller', 'ipywidgets.widgets.interaction', 'ipywidgets.widgets.widget_link', 'ipywidgets.widgets.widget_media', 'autopep8', 'pycodestyle', 'configparser', 'numpy', 'numpy._globals', 'numpy.__config__', 'numpy.version', 'numpy._import_tools', 'numpy.add_newdocs', 'numpy.lib', 'numpy.lib.info', 'numpy.lib.type_check', 'numpy.core', 'numpy.core.info', 'numpy.core.multiarray', 'numpy.core.umath', 'numpy.core._internal', 'numpy.compat', 'numpy.compat._inspect', 'numpy.compat.py3k', 'numpy.core.numerictypes', 'numpy.core.numeric', 'numpy.core.fromnumeric', 'numpy.core._methods', 'numpy.core.arrayprint', 'numpy.core.defchararray', 'numpy.core.records', 'numpy.core.memmap', 'numpy.core.function_base', 'numpy.core.machar', 'numpy.core.getlimits', 'numpy.core.shape_base', 'numpy.core.einsumfunc', 'numpy.testing', 'unittest', 'unittest.result', 'unittest.util', 'unittest.case', 'unittest.suite', 'unittest.loader', 'unittest.main', 'unittest.runner', 'unittest.signals', 'numpy.testing._private', 'numpy.testing._private.utils', 'numpy.lib.utils', 'numpy.testing._private.decorators', 'numpy.testing._private.nosetester', 'numpy.testing._private.pytesttester', 'numpy.lib.ufunclike', 'numpy.lib.index_tricks', 'numpy.lib.function_base', 'numpy.lib.twodim_base', 'numpy.lib.histograms', 'numpy.matrixlib', 'numpy.matrixlib.defmatrix', 'numpy.linalg', 'numpy.linalg.info', 'numpy.linalg.linalg', 'numpy.linalg.lapack_lite', 'numpy.linalg._umath_linalg', 'numpy.lib.stride_tricks', 'numpy.lib.mixins', 'numpy.lib.nanfunctions', 'numpy.lib.shape_base', 'numpy.lib.scimath', 'numpy.lib.polynomial', 'numpy.lib.arraysetops', 'numpy.lib.npyio', 'numpy.lib.format', 'numpy.lib._datasource', 'numpy.lib._iotools', 'numpy.lib.financial', 'numpy.lib.arrayterator', 'numpy.lib.arraypad', 'numpy.lib._version', 'numpy.core._multiarray_tests', 'numpy._distributor_init', 'numpy._mklinit', 'numpy.fft', 'numpy.fft.info', 'numpy.fft.fftpack', 'numpy.fft.fftpack_lite', 'numpy.fft.helper', 'mkl_fft', '_cython_0_28_4', 'mkl_fft._pydfti', 'mkl_fft._numpy_fft', 'numpy.polynomial', 'numpy.polynomial.polynomial', 'numpy.polynomial.polyutils', 'numpy.polynomial._polybase', 'numpy.polynomial.chebyshev', 'numpy.polynomial.legendre', 'numpy.polynomial.hermite', 'numpy.polynomial.hermite_e', 'numpy.polynomial.laguerre', 'numpy.random', 'numpy.random.info', 'mtrand', 'numpy.random.mtrand', 'numpy.ctypeslib', 'numpy.ma', 'numpy.ma.core', 'numpy.ma.extras', 'gym', 'distutils', 'distutils.version', 'gym.error', 'gym.utils', 'gym.utils.colorize', 'gym.utils.ezpickle', 'gym.utils.reraise', 'gym.utils.reraise_impl_py3', 'gym.version', 'gym.core', 'gym.logger', 'gym.utils.closer', 'gym.envs', 'gym.envs.registration', 'gym.spaces', 'gym.spaces.box', 'gym.spaces.discrete', 'gym.spaces.multi_discrete', 'gym.spaces.multi_binary', 'gym.spaces.prng', 'gym.spaces.tuple_space', 'gym.spaces.dict_space', 'pkg_resources', 'zipfile', 'plistlib', 'xml', 'xml.parsers', 'xml.parsers.expat', 'pyexpat.errors', 'pyexpat.model', 'pyexpat', 'xml.parsers.expat.model', 'xml.parsers.expat.errors', 'pkg_resources.extern', 'pkg_resources._vendor', 'pkg_resources.extern.six', 'pkg_resources._vendor.six', 'pkg_resources.extern.six.moves', 'pkg_resources._vendor.six.moves', 'pkg_resources.py31compat', 'pkg_resources.extern.appdirs', 'pkg_resources._vendor.packaging.__about__', 'pkg_resources.extern.packaging', 'pkg_resources.extern.packaging.version', 'pkg_resources.extern.packaging._structures', 'pkg_resources.extern.packaging.specifiers', 'pkg_resources.extern.packaging._compat', 'pkg_resources.extern.packaging.requirements', 'pkg_resources.extern.pyparsing', 'pkg_resources.extern.six.moves.urllib', 'pkg_resources.extern.packaging.markers', 'gym.envs.toy_text', 'gym.envs.toy_text.blackjack', 'gym.utils.seeding', 'gym.envs.toy_text.roulette', 'gym.envs.toy_text.frozen_lake', 'gym.envs.toy_text.discrete', 'gym.envs.toy_text.nchain', 'gym.envs.toy_text.hotter_colder', 'gym.envs.toy_text.guessing_game', 'gym.envs.toy_text.kellycoinflip', 'scipy', 'scipy._distributor_init', 'scipy.__config__', 'scipy.version', 'scipy._lib', 'scipy._lib._testutils', 'scipy._lib._version', 'scipy._lib.six', 'scipy._lib._ccallback', 'scipy._lib._ccallback_c', 'scipy.stats', 'scipy.stats.stats', 'scipy.special', 'scipy.special.sf_error', '_cython_0_28_2', 'scipy.special._ufuncs', 'scipy.special._ufuncs_cxx', 'scipy.special.basic', 'scipy.special.specfun', 'scipy.special.orthogonal', 'scipy.linalg', 'scipy.linalg.linalg_version', 'scipy.linalg.misc', 'scipy.linalg.blas', 'scipy.linalg._fblas', 'scipy.linalg.lapack', 'scipy.linalg._flapack', 'scipy._lib._util', 'scipy.linalg.basic', 'scipy.linalg.flinalg', 'scipy.linalg._flinalg', 'scipy.linalg.decomp', 'scipy.linalg.decomp_svd', 'scipy.linalg._solve_toeplitz', 'scipy.linalg.decomp_lu', 'scipy.linalg._decomp_ldl', 'scipy.linalg.decomp_cholesky', 'scipy.linalg.decomp_qr', 'scipy.linalg._decomp_qz', 'scipy.linalg.decomp_schur', 'scipy.linalg._decomp_polar', 'scipy.linalg.matfuncs', 'scipy.linalg.special_matrices', 'scipy.linalg._expm_frechet', 'scipy.linalg._matfuncs_sqrtm', 'scipy.linalg._solvers', 'scipy.linalg._procrustes', 'scipy.linalg._decomp_update', 'scipy.linalg.cython_blas', 'scipy.linalg.cython_lapack', 'scipy.linalg._sketches', 'numpy.dual', 'scipy.special._comb', 'scipy.special._logsumexp', 'scipy.special.spfun_stats', 'scipy.special._ellip_harm', 'scipy.special._ellip_harm_2', 'scipy.special.lambertw', 'scipy.special._spherical_bessel', 'scipy.stats.distributions', 'scipy.stats._distn_infrastructure', 'scipy.misc', 'scipy.misc.doccer', 'scipy.misc.common', 'scipy.interpolate', 'scipy.interpolate.interpolate', 'scipy.interpolate.fitpack', 'scipy.interpolate._fitpack_impl', 'scipy.interpolate._fitpack', 'scipy.interpolate.dfitpack', 'scipy.interpolate._bsplines', 'scipy.interpolate._bspl', 'scipy.interpolate.polyint', 'scipy.interpolate._ppoly', 'scipy.interpolate.fitpack2', 'scipy.interpolate.interpnd', 'scipy.spatial', 'scipy.spatial.kdtree', 'scipy.sparse', 'scipy.sparse.base', 'scipy._lib._numpy_compat', 'scipy.sparse.sputils', 'scipy.sparse.csr', 'scipy.sparse._sparsetools', 'scipy.sparse.compressed', 'scipy.sparse.data', 'scipy.sparse.dia', 'scipy.sparse.csc', 'scipy.sparse.lil', 'scipy.sparse._csparsetools', 'scipy.sparse.dok', 'scipy.sparse.coo', 'scipy.sparse.bsr', 'scipy.sparse.construct', 'scipy.sparse.extract', 'scipy.sparse._matrix_io', 'scipy.sparse.csgraph', 'scipy.sparse.csgraph._laplacian', 'scipy.sparse.csgraph._shortest_path', 'scipy.sparse.csgraph._validation', 'scipy.sparse.csgraph._tools', 'scipy.sparse.csgraph._traversal', 'scipy.sparse.csgraph._min_spanning_tree', 'scipy.sparse.csgraph._reordering', 'scipy.spatial.ckdtree', 'scipy.spatial.qhull', 'scipy._lib.messagestream', 'scipy.spatial._spherical_voronoi', 'numpy.matlib', 'scipy.spatial._voronoi', 'scipy.spatial.distance', 'scipy.spatial._distance_wrap', 'scipy.spatial._hausdorff', 'scipy.spatial._plotutils', 'scipy._lib.decorator', 'scipy.spatial._procrustes', 'scipy.interpolate.rbf', 'scipy.interpolate._cubic', 'scipy.interpolate.ndgriddata', 'scipy.interpolate._pade', 'scipy.misc.pilutil', 'PIL', 'PIL._version', 'PIL.Image', 'PIL._util', 'PIL._imaging', 'PIL.ImageMode', 'PIL._binary', 'cffi', 'cffi.api', 'cffi.lock', 'cffi.error', 'cffi.model', 'PIL.ImageFilter', 'scipy.stats._distr_params', 'scipy.optimize', 'scipy.optimize.optimize', 'scipy.optimize.linesearch', 'scipy.optimize.minpack2', 'scipy.optimize._minimize', 'scipy.sparse.linalg', 'scipy.sparse.linalg.isolve', 'scipy.sparse.linalg.isolve.iterative', 'scipy.sparse.linalg.isolve._iterative', 'scipy.sparse.linalg.interface', 'scipy.sparse.linalg.isolve.utils', 'scipy._lib._threadsafety', 'scipy.sparse.linalg.isolve.minres', 'scipy.sparse.linalg.isolve.lgmres', 'scipy.sparse.linalg.isolve._gcrotmk', 'scipy.sparse.linalg.isolve.lsqr', 'scipy.sparse.linalg.isolve.lsmr', 'scipy.sparse.linalg.dsolve', 'scipy.sparse.linalg.dsolve.linsolve', 'scipy.sparse.linalg.dsolve._superlu', 'scipy.sparse.linalg.dsolve._add_newdocs', 'scipy.sparse.linalg.eigen', 'scipy.sparse.linalg.eigen.arpack', 'scipy.sparse.linalg.eigen.arpack.arpack', 'scipy.sparse.linalg.eigen.arpack._arpack', 'scipy.sparse.linalg.eigen.lobpcg', 'scipy.sparse.linalg.eigen.lobpcg.lobpcg', 'scipy.sparse.linalg.matfuncs', 'scipy.sparse.linalg._onenormest', 'scipy.sparse.linalg._norm', 'scipy.sparse.linalg._expm_multiply', 'scipy.optimize._trustregion_dogleg', 'scipy.optimize._trustregion', 'scipy.optimize._trustregion_ncg', 'scipy.optimize._trustregion_krylov', 'scipy.optimize._trlib', 'scipy.optimize._trlib._trlib', 'scipy.optimize._trustregion_exact', 'scipy.optimize._trustregion_constr', 'scipy.optimize._trustregion_constr.minimize_trustregion_constr', 'scipy.optimize._differentiable_functions', 'scipy.optimize._numdiff', 'scipy.optimize._group_columns', 'scipy.optimize._hessian_update_strategy', 'scipy.optimize._constraints', 'scipy.optimize._trustregion_constr.equality_constrained_sqp', 'scipy.optimize._trustregion_constr.projections', 'scipy.optimize._trustregion_constr.qp_subproblem', 'scipy.optimize._trustregion_constr.canonical_constraint', 'scipy.optimize._trustregion_constr.tr_interior_point', 'scipy.optimize._trustregion_constr.report', 'scipy.optimize.lbfgsb', 'scipy.optimize._lbfgsb', 'scipy.optimize.tnc', 'scipy.optimize.moduleTNC', 'scipy.optimize.cobyla', 'scipy.optimize._cobyla', 'scipy.optimize.slsqp', 'scipy.optimize._slsqp', 'scipy.optimize._root', 'scipy.optimize.minpack', 'scipy.optimize._minpack', 'scipy.optimize._lsq', 'scipy.optimize._lsq.least_squares', 'scipy.optimize._lsq.trf', 'scipy.optimize._lsq.common', 'scipy.optimize._lsq.dogbox', 'scipy.optimize._lsq.lsq_linear', 'scipy.optimize._lsq.trf_linear', 'scipy.optimize._lsq.givens_elimination', 'scipy.optimize._lsq.bvls', 'scipy.optimize._spectral', 'scipy.optimize.nonlin', 'scipy.optimize.zeros', 'scipy.optimize._zeros', 'scipy.optimize.nnls', 'scipy.optimize._nnls', 'scipy.optimize._basinhopping', 'scipy.optimize._linprog', 'scipy.optimize._linprog_ip', 'scipy.optimize._remove_redundancy', 'scipy.optimize._hungarian', 'scipy.optimize._differentialevolution', 'scipy.integrate', 'scipy.integrate.quadrature', 'scipy.integrate.odepack', 'scipy.integrate._odepack', 'scipy.integrate.quadpack', 'scipy.integrate._quadpack', 'scipy.integrate._ode', 'scipy.integrate.vode', 'scipy.integrate._dop', 'scipy.integrate.lsoda', 'scipy.integrate._bvp', 'scipy.integrate._ivp', 'scipy.integrate._ivp.ivp', 'scipy.integrate._ivp.bdf', 'scipy.integrate._ivp.common', 'scipy.integrate._ivp.base', 'scipy.integrate._ivp.radau', 'scipy.integrate._ivp.rk', 'scipy.integrate._ivp.lsoda', 'scipy.stats._constants', 'scipy.stats._continuous_distns', 'scipy.stats._stats', 'scipy.stats._tukeylambda_stats', 'scipy.stats._discrete_distns', 'scipy.stats.mstats_basic', 'scipy.stats._stats_mstats_common', 'scipy.stats.morestats', 'scipy.stats.statlib', 'scipy.stats.contingency', 'scipy.stats._binned_statistic', 'scipy.stats.kde', 'scipy.stats.mvn', 'scipy.stats.mstats', 'scipy.stats.mstats_extras', 'scipy.stats._multivariate', 'gym.envs.toy_text.cliffwalking', 'gym.envs.classic_control', 'gym.envs.classic_control.cartpole', 'gym.envs.classic_control.mountain_car', 'gym.envs.classic_control.continuous_mountain_car', 'gym.envs.classic_control.pendulum', 'gym.envs.classic_control.acrobot', 'gym.wrappers', 'gym.wrappers.monitor', 'gym.wrappers.monitoring', 'gym.wrappers.monitoring.stats_recorder', 'gym.utils.atomic_write', 'gym.utils.json_utils', 'gym.wrappers.monitoring.video_recorder', 'distutils.spawn', 'distutils.errors', 'distutils.debug', 'distutils.log', 'gym.wrappers.time_limit', 'gym.wrappers.dict', 'pandas', 'pytz', 'pytz.exceptions', 'pytz.lazy', 'pytz.tzinfo', 'pytz.tzfile', 'pandas.compat', 'pandas.compat.chainmap', 'pandas.compat.numpy', 'pandas._libs', 'pandas._libs.tslib', 'pandas._libs.tslibs', 'pandas._libs.tslibs.conversion', 'pandas._libs.tslibs.np_datetime', 'pandas._libs.tslibs.nattype', 'pandas._libs.tslibs.timedeltas', 'pandas._libs.tslibs.timezones', 'pandas._libs.tslibs.parsing', 'pandas._libs.tslibs.ccalendar', 'pandas._libs.tslibs.strptime', 'pandas._libs.tslibs.timestamps', 'pandas._libs.tslibs.fields', 'pandas._libs.hashtable', 'pandas._libs.missing', 'pandas._libs.lib', 'pandas.core', 'pandas.core.config_init', 'pandas.core.config', 'pandas.io', 'pandas.io.formats', 'pandas.io.formats.printing', 'pandas.core.dtypes', 'pandas.core.dtypes.inference', 'pandas.io.formats.console', 'pandas.io.formats.terminal', 'pandas.core.api', 'pandas.core.algorithms', 'pandas.core.dtypes.cast', 'pandas.core.dtypes.common', 'pandas._libs.algos', 'pandas.core.dtypes.dtypes', 'pandas.core.dtypes.generic', 'pandas.core.dtypes.base', 'pandas.errors', 'pandas.core.dtypes.missing', 'pandas.core.common', 'pandas.util', 'pandas.util._decorators', 'pandas._libs.properties', 'pandas.core.util', 'pandas.core.util.hashing', 'pandas._libs.hashing', 'pandas.core.arrays', 'pandas.core.arrays.base', 'pandas.compat.numpy.function', 'pandas.util._validators', 'pandas.core.arrays.categorical', 'pandas.core.accessor', 'pandas.core.base', 'pandas.core.nanops', 'pandas.core.missing', 'pandas.core.groupby', 'pandas.core.groupby.groupby', 'pandas.core.index', 'pandas.core.indexes', 'pandas.core.indexes.api', 'pandas.core.indexes.base', 'pandas._libs.index', 'pandas._libs.tslibs.period', 'pandas._libs.tslibs.frequencies', 'pandas._libs.tslibs.resolution', 'pandas.tseries', 'pandas.tseries.offsets', 'pandas.core.tools', 'pandas.core.tools.datetimes', 'dateutil.easter', 'pandas._libs.tslibs.offsets', 'pandas.tseries.frequencies', 'pandas._libs.join', 'pandas.core.ops', 'pandas._libs.ops', 'pandas.core.indexes.frozen', 'pandas.core.dtypes.concat', 'pandas.core.sorting', 'pandas.core.strings', 'pandas.core.indexes.category', 'pandas.core.indexes.multi', 'pandas.core.indexes.interval', 'pandas._libs.interval', 'pandas.core.indexes.datetimes', 'pandas.core.indexes.numeric', 'pandas.core.indexes.datetimelike', 'pandas.core.tools.timedeltas', 'pandas.core.indexes.timedeltas', 'pandas.core.indexes.range', 'pandas.core.indexes.period', 'pandas.core.frame', 'pandas.core.generic', 'pandas.core.indexing', 'pandas._libs.indexing', 'pandas.core.internals', 'pandas._libs.internals', 'pandas.core.sparse', 'pandas.core.sparse.array', 'pandas._libs.sparse', 'pandas.io.formats.format', 'pandas.io.common', 'csv', '_csv', 'mmap', 'pandas.core.series', 'pandas.core.indexes.accessors', 'pandas.plotting', 'pandas.plotting._misc', 'pandas.plotting._style', 'pandas.plotting._compat', 'pandas.plotting._tools', 'pandas.plotting._core', 'pandas.plotting._converter', 'matplotlib', 'matplotlib.cbook', 'gzip', 'matplotlib.cbook.deprecation', 'matplotlib.cbook._backports', 'matplotlib.compat', 'matplotlib.compat.subprocess', 'matplotlib.rcsetup', 'matplotlib.testing', 'matplotlib.fontconfig_pattern', 'pyparsing', 'matplotlib.colors', 'matplotlib._color_data', 'cycler', 'six.moves.urllib', 'six.moves.urllib.request', 'matplotlib._version']\n"
     ]
    },
    {
     "name": "stdout",
     "output_type": "stream",
     "text": [
      "8.0\n",
      "0     NaN\n",
      "1     1.5\n",
      "2     2.0\n",
      "3     2.5\n",
      "4     3.0\n",
      "5     2.5\n",
      "6     3.0\n",
      "7     4.5\n",
      "8     5.0\n",
      "9     6.5\n",
      "10    7.0\n",
      "11    8.0\n",
      "dtype: float64\n"
     ]
    }
   ],
   "source": [
    "# pandas rolling window\n",
    "import pandas as pd\n",
    "import numpy as np\n",
    "scores = [1, 2, 2, 3, 3, 2, 4, 5, 5, 8, 6, 10]\n",
    "avg_score = np.mean(scores[-3:]) # average on the last 3 scores\n",
    "print(avg_score)\n",
    "rolling_window = 2\n",
    "rolling_mean = pd.Series(scores).rolling(rolling_window).mean()\n",
    "print(rolling_mean)"
   ]
  },
  {
   "cell_type": "code",
   "execution_count": 45,
   "metadata": {},
   "outputs": [
    {
     "name": "stderr",
     "output_type": "stream",
     "text": [
      "DEBUG:matplotlib:CACHEDIR=C:\\Users\\simon.chauvin\\.matplotlib\n",
      "DEBUG:matplotlib.font_manager:Using fontManager instance from C:\\Users\\simon.chauvin\\.matplotlib\\fontList.json\n",
      "DEBUG:matplotlib.backends:backend module://ipykernel.pylab.backend_inline version unknown\n",
      "DEBUG:matplotlib.backends:backend module://ipykernel.pylab.backend_inline version unknown\n",
      "DEBUG:matplotlib.backends:backend module://ipykernel.pylab.backend_inline version unknown\n"
     ]
    }
   ],
   "source": [
    "import numpy as np\n",
    "import matplotlib.pyplot as plt\n",
    "\n",
    "# Set plotting options\n",
    "%matplotlib inline\n",
    "plt.style.use('ggplot')\n",
    "np.set_printoptions(precision=3, linewidth=120)"
   ]
  },
  {
   "cell_type": "code",
   "execution_count": 46,
   "metadata": {},
   "outputs": [
    {
     "name": "stdout",
     "output_type": "stream",
     "text": [
      "{(2, 'a'), (1, 'a'), (4, 'a'), (3, 'a')}\n",
      "[(1, 'a'), (2, 'a'), (3, 'a'), (4, 'a')]\n"
     ]
    }
   ],
   "source": [
    "# \n",
    "elements = [1, 2, 3, 4]\n",
    "key = 'a'\n",
    "res0 = map(lambda e: (e, key), elements)\n",
    "\n",
    "# or zip list with a single element\n",
    "import itertools\n",
    "res1 = zip(elements, itertools.repeat(key))\n",
    "print(set(res0))\n",
    "print(list(res1))"
   ]
  },
  {
   "cell_type": "code",
   "execution_count": 47,
   "metadata": {},
   "outputs": [
    {
     "name": "stdout",
     "output_type": "stream",
     "text": [
      "bins=(10, 10), offsets=(-0.066, -0.33)\n",
      "bins=(10, 10), offsets=(0.0, 0.0)\n"
     ]
    }
   ],
   "source": [
    "# list comprehention with several objects\n",
    "tiling_specs = [((10, 10), (-0.066, -0.33)),  # with tuple\n",
    "                [(10, 10), (0.0, 0.0)]]  # with list\n",
    "for bins, offsets in tiling_specs:\n",
    "    print(\"bins={}, offsets={}\".format(bins, offsets))"
   ]
  },
  {
   "cell_type": "code",
   "execution_count": 48,
   "metadata": {},
   "outputs": [
    {
     "name": "stdout",
     "output_type": "stream",
     "text": [
      "[(-1, 0, 10, 5.0), (1, 2, 10, 2.0)]\n"
     ]
    },
    {
     "data": {
      "text/plain": [
       "[(-1, 15.0), (3, 12.0)]"
      ]
     },
     "execution_count": 48,
     "metadata": {},
     "output_type": "execute_result"
    }
   ],
   "source": [
    "# make a unzip for list comprehension\n",
    "bins=(10, 10)\n",
    "offsets=(5.0, 2.0)\n",
    "low = (-1, 1)\n",
    "high = (0, 2)\n",
    "res = list(zip(*[low, high, bins, offsets]))\n",
    "print(res)\n",
    "# list comprehension\n",
    "[(low + high, offset + binn) for low, high, binn, offset in res]"
   ]
  },
  {
   "cell_type": "code",
   "execution_count": 49,
   "metadata": {},
   "outputs": [
    {
     "data": {
      "text/plain": [
       "[(-1.2,\n",
       "  array([-0.866, -0.666, -0.466, -0.266, -0.066,  0.134,  0.334,  0.534,  0.734])),\n",
       " (-5.1,\n",
       "  array([-4.33, -3.33, -2.33, -1.33, -0.33,  0.67,  1.67,  2.67,  3.67]))]"
      ]
     },
     "execution_count": 49,
     "metadata": {},
     "output_type": "execute_result"
    }
   ],
   "source": [
    "sample = (-1.2, -5.1)\n",
    "grid = [\n",
    "    np.array([-0.866, -0.666, -0.466, -0.266, -0.066,  0.134,  0.334,  0.534,  0.734]),\n",
    "    np.array([-4.33, -3.33, -2.33, -1.33, -0.33,  0.67,  1.67,  2.67,  3.67])\n",
    "]\n",
    "list(zip(sample, grid))"
   ]
  },
  {
   "cell_type": "code",
   "execution_count": 50,
   "metadata": {},
   "outputs": [
    {
     "name": "stdout",
     "output_type": "stream",
     "text": [
      "[1, 0, 2, 0, 3, 4]\n",
      "[1 0 2 0 3 4]\n"
     ]
    }
   ],
   "source": [
    "# flatten tuple\n",
    "my_list = [(1, 0), (2, 0), (3, 4)]\n",
    "res0 = list((np.array(my_list)).flatten())  # numpy flatten\n",
    "print(res0)\n",
    "res1 = np.concatenate(my_list)  # numpy concatenate\n",
    "print(res1)"
   ]
  },
  {
   "cell_type": "code",
   "execution_count": 51,
   "metadata": {},
   "outputs": [
    {
     "name": "stderr",
     "output_type": "stream",
     "text": [
      "DEBUG:matplotlib.font_manager:findfont: Matching :family=sans-serif:style=normal:variant=normal:weight=normal:stretch=normal:size=10.0 to DejaVu Sans ('C:\\\\Users\\\\simon.chauvin\\\\AppData\\\\Local\\\\Continuum\\\\anaconda3\\\\lib\\\\site-packages\\\\matplotlib\\\\mpl-data\\\\fonts\\\\ttf\\\\DejaVuSans.ttf') with score of 0.050000\n"
     ]
    },
    {
     "data": {
      "image/png": "[encoded data removed]",
      "text/plain": [
       "<Figure size 432x288 with 1 Axes>"
      ]
     },
     "metadata": {
      "needs_background": "light"
     },
     "output_type": "display_data"
    }
   ],
   "source": [
    "# numpy - instead of loop, work with vectors\n",
    "import matplotlib.pyplot as plt\n",
    "import numpy as np\n",
    "x = np.linspace(start=-10, stop=10, num=101)\n",
    "plt.plot(x, np.absolute(x))\n",
    "plt.show()"
   ]
  },
  {
   "cell_type": "code",
   "execution_count": 52,
   "metadata": {},
   "outputs": [
    {
     "name": "stdout",
     "output_type": "stream",
     "text": [
      "[1]\n",
      "[array([0., 1., 0.])]\n",
      "[0 2]\n",
      "[array([1., 0., 0.]), array([0., 0., 1.])]\n",
      "[[0.  1.  0. ]\n",
      " [0.5 0.  0.5]]\n"
     ]
    }
   ],
   "source": [
    "# np.argwhere(), flatten() and np.eye() for one-hot vector conversion\n",
    "# OPTION 2 for improvement: construct a stochastic policy that puts equal probability on maximizing actions\n",
    "nA = 3  # go_up / stay / go_down\n",
    "nS = 2  # up / down\n",
    "policy = np.zeros([nS, nA]) / nA\n",
    "Q = [[0.2, 0.8, 0.2], [0.8, 0.2, 0.8]]\n",
    "for s in range(nS):\n",
    "    q = Q[s]  # Q(A = a1, a2; S = s0)\n",
    "    best_a = np.argwhere(q==np.max(q)).flatten() # [[0] [2]] -> [0, 2]\n",
    "    policy[s] = np.sum([np.eye(nA)[i] for i in best_a], axis=0)/len(best_a)\n",
    "    print(best_a)\n",
    "    print([np.eye(nA)[i] for i in best_a])\n",
    "print(policy)"
   ]
  },
  {
   "cell_type": "code",
   "execution_count": 53,
   "metadata": {},
   "outputs": [
    {
     "name": "stdout",
     "output_type": "stream",
     "text": [
      "[[0.2, 0.8, 0.2], [0.8, 0.2, 0.8]]\n",
      "[1. 1. 1.]\n",
      "[1.2 1.8]\n"
     ]
    }
   ],
   "source": [
    "# np.sum() with axis=0\n",
    "Q = [[0.2, 0.8, 0.2], [0.8, 0.2, 0.8]]\n",
    "print(Q)\n",
    "print(np.sum(Q, axis=0))\n",
    "print(np.sum(Q, axis=1))"
   ]
  },
  {
   "cell_type": "code",
   "execution_count": 54,
   "metadata": {},
   "outputs": [
    {
     "name": "stdout",
     "output_type": "stream",
     "text": [
      "True\n",
      "True\n"
     ]
    }
   ],
   "source": [
    "# np.array_equal() vs all()\n",
    "policy = np.array([[0.2, 0.8, 0.2], [0.8, 0.2, 0.8]])\n",
    "new_policy = np.array([[0.2, 0.8, 0.2], [0.8, 0.2, 0.8]])\n",
    "print((new_policy == policy).all())  # all() requires np arrays\n",
    "policy = [[0.2, 0.8, 0.2], [0.8, 0.2, 0.8]]\n",
    "new_policy = [[0.2, 0.8, 0.2], [0.8, 0.2, 0.8]]\n",
    "print(np.array_equal(new_policy, policy))"
   ]
  },
  {
   "cell_type": "code",
   "execution_count": 55,
   "metadata": {},
   "outputs": [
    {
     "name": "stdout",
     "output_type": "stream",
     "text": [
      "2226862954896\n",
      "2226862954896\n",
      "2226862955216\n",
      "[1. 0.]\n",
      "[0. 0.]\n"
     ]
    }
   ],
   "source": [
    "# list are mutable - use copy to save their previous state\n",
    "import copy\n",
    "nS = 2\n",
    "V = np.zeros(nS)\n",
    "# try to save the previous state\n",
    "old_V = V\n",
    "old_V_copy = copy.copy(V)\n",
    "# update is like passing by reference V to the function f(x): x[0]=1, return x\n",
    "V[0] = 1\n",
    "print(id(V))\n",
    "print(id(old_V))\n",
    "print(id(old_V_copy))\n",
    "print(old_V)\n",
    "print(old_V_copy)"
   ]
  },
  {
   "cell_type": "code",
   "execution_count": 56,
   "metadata": {},
   "outputs": [
    {
     "name": "stdout",
     "output_type": "stream",
     "text": [
      "2226492623984\n",
      "a\n"
     ]
    },
    {
     "ename": "TypeError",
     "evalue": "'str' object does not support item assignment",
     "output_type": "error",
     "traceback": [
      "\u001b[1;31m---------------------------------------------------------------------------\u001b[0m",
      "\u001b[1;31mTypeError\u001b[0m                                 Traceback (most recent call last)",
      "\u001b[1;32m<ipython-input-56-694d5ba61d2e>\u001b[0m in \u001b[0;36m<module>\u001b[1;34m()\u001b[0m\n\u001b[0;32m     19\u001b[0m \u001b[0mprint\u001b[0m\u001b[1;33m(\u001b[0m\u001b[0mid\u001b[0m\u001b[1;33m(\u001b[0m\u001b[0ms\u001b[0m\u001b[1;33m)\u001b[0m\u001b[1;33m)\u001b[0m  \u001b[1;31m# 4702124\u001b[0m\u001b[1;33m\u001b[0m\u001b[0m\n\u001b[0;32m     20\u001b[0m \u001b[0mprint\u001b[0m\u001b[1;33m(\u001b[0m\u001b[0ms\u001b[0m\u001b[1;33m[\u001b[0m\u001b[1;36m0\u001b[0m\u001b[1;33m]\u001b[0m\u001b[1;33m)\u001b[0m  \u001b[1;31m# 'a'\u001b[0m\u001b[1;33m\u001b[0m\u001b[0m\n\u001b[1;32m---> 21\u001b[1;33m \u001b[0ms\u001b[0m\u001b[1;33m[\u001b[0m\u001b[1;36m0\u001b[0m\u001b[1;33m]\u001b[0m \u001b[1;33m=\u001b[0m \u001b[1;34m\"o\"\u001b[0m\u001b[1;33m\u001b[0m\u001b[0m\n\u001b[0m\u001b[0;32m     22\u001b[0m \u001b[1;31m# TypeError: 'str' object does not support item assignment\u001b[0m\u001b[1;33m\u001b[0m\u001b[1;33m\u001b[0m\u001b[0m\n",
      "\u001b[1;31mTypeError\u001b[0m: 'str' object does not support item assignment"
     ]
    }
   ],
   "source": [
    "# Python represents all its data as objects. Hence with references - use id()\n",
    "\n",
    "#  - dict and list are mutable\n",
    "#   - state can change while keeping reference constant\n",
    "#   - great to use when you need to change the size of the object, example list, dict etc (like c++ Vector)\n",
    "#   - poping an item from list object does change the state object, but object id will not be changed\n",
    "\n",
    "#  - integers, floats, strings and tuple are objects that (their state) can not be changed\n",
    "#   - It will raise a TypeError if you try to change it.\n",
    "#   - If we assign new content, a new object is CREATED instead of the contents being modified.\n",
    "#    - x = 10 or x+=10 uses an instanciation, no matter if x already exists\n",
    "#   - Immutable objects are fundamentally expensive to “change”, because doing so involves creating a copy.\n",
    "#   - the “value” of an immutable object can’t change, but it’s constituent objects can.\n",
    "#    - my_tuple = ([0, 1])\n",
    "\n",
    "#  - Custom classes are generally mutable (my_car.speed += 1)\n",
    "#   - To simulate immutability in a class, one should override attribute setting and deletion to raise exceptions.\n",
    "s = \"abc\"\n",
    "print(id(s))  # 4702124\n",
    "print(s[0])  # 'a'\n",
    "s[0] = \"o\"\n",
    "# TypeError: 'str' object does not support item assignment"
   ]
  },
  {
   "cell_type": "code",
   "execution_count": 58,
   "metadata": {},
   "outputs": [
    {
     "name": "stdout",
     "output_type": "stream",
     "text": [
      "True\n",
      "True\n",
      "True\n"
     ]
    }
   ],
   "source": [
    "# 'is' - The is operator compares the identity of two objects.\n",
    "x = \"simon\"\n",
    "y = \"simon\"\n",
    "print(x is y)\n",
    "print(x is \"simon\")\n",
    "print(id(x) == id(y))"
   ]
  },
  {
   "cell_type": "code",
   "execution_count": 59,
   "metadata": {},
   "outputs": [
    {
     "name": "stdout",
     "output_type": "stream",
     "text": [
      "False\n",
      "False\n"
     ]
    }
   ],
   "source": [
    "# 'is' - The is operator compares the identity of two objects.\n",
    "x = {}\n",
    "y = {}\n",
    "print(x is y)\n",
    "print(id(x) == id(y))"
   ]
  },
  {
   "cell_type": "code",
   "execution_count": 60,
   "metadata": {},
   "outputs": [
    {
     "name": "stdout",
     "output_type": "stream",
     "text": [
      "2226584296840\n",
      "2226879809664\n",
      "1807576080\n",
      "1807576080\n",
      "1807576080\n"
     ]
    }
   ],
   "source": [
    "# reference can changes / stays when doing update or new instantiation\n",
    "s = \"xyz\"\n",
    "print(id(s))  # 800100\n",
    "s += \"uvw\"  # state changes -> new instanciation\n",
    "print(id(s))  # 4800500\n",
    "l = [10]\n",
    "print(id(i))  # 6348005\n",
    "l[0] += 1  # state changes -> reference stays\n",
    "print(id(i))  # 6348005\n",
    "l = [20]  # new state -> reference stays!!\n",
    "print(id(i))  # 1818848592"
   ]
  },
  {
   "cell_type": "code",
   "execution_count": null,
   "metadata": {},
   "outputs": [],
   "source": []
  },
  {
   "cell_type": "code",
   "execution_count": 61,
   "metadata": {},
   "outputs": [
    {
     "name": "stdout",
     "output_type": "stream",
     "text": [
      "2226862970888\n",
      "2226862970888\n",
      "[0, 1, 2, 2]\n"
     ]
    }
   ],
   "source": [
    "# list() and dict() are mutable\n",
    "# if a mutable object is called by reference in a function, it can change the original variable itself.\n",
    "# call by reference, so the changes are made to the original list itself\n",
    "def f(l):\n",
    "    l += [2, 2]\n",
    "x_mutable = [0, 1]\n",
    "print(id(x_mutable))\n",
    "f(x_mutable)  \n",
    "print(id(x_mutable))\n",
    "print(x_mutable)  # [0, 1, 2, 2]"
   ]
  },
  {
   "cell_type": "code",
   "execution_count": 62,
   "metadata": {},
   "outputs": [
    {
     "name": "stdout",
     "output_type": "stream",
     "text": [
      "2226835232648\n",
      "2226835232648\n",
      "2226835232648\n",
      "2226835232648\n",
      "[0, 1, 2]\n",
      "[0, 1, 2]\n"
     ]
    }
   ],
   "source": [
    "# \"x = y\" make them pointing to the same place in memory\n",
    "x_mutable = [0, 1]\n",
    "y_mutable = x_mutable  #  y will change if x is nodified\n",
    "print(id(y_mutable))\n",
    "print(id(x_mutable))\n",
    "x_mutable += [2]\n",
    "print(id(y_mutable))\n",
    "print(id(x_mutable))\n",
    "print(x_mutable)  # [0, 1, 2]\n",
    "print(y_mutable)  # [0, 1, 2]"
   ]
  },
  {
   "cell_type": "code",
   "execution_count": 63,
   "metadata": {},
   "outputs": [
    {
     "name": "stdout",
     "output_type": "stream",
     "text": [
      "1807576048\n",
      "1807576048\n",
      "2226879797576\n",
      "0\n",
      "{}\n"
     ]
    },
    {
     "ename": "TypeError",
     "evalue": "unsupported operand type(s) for +=: 'dict' and 'int'",
     "output_type": "error",
     "traceback": [
      "\u001b[1;31m---------------------------------------------------------------------------\u001b[0m",
      "\u001b[1;31mTypeError\u001b[0m                                 Traceback (most recent call last)",
      "\u001b[1;32m<ipython-input-63-7c3064f0f8a9>\u001b[0m in \u001b[0;36m<module>\u001b[1;34m()\u001b[0m\n\u001b[0;32m     12\u001b[0m \u001b[0mprint\u001b[0m\u001b[1;33m(\u001b[0m\u001b[0mx\u001b[0m\u001b[1;33m)\u001b[0m  \u001b[1;31m# 0\u001b[0m\u001b[1;33m\u001b[0m\u001b[0m\n\u001b[0;32m     13\u001b[0m \u001b[0mprint\u001b[0m\u001b[1;33m(\u001b[0m\u001b[0my\u001b[0m\u001b[1;33m)\u001b[0m  \u001b[1;31m# 0\u001b[0m\u001b[1;33m\u001b[0m\u001b[0m\n\u001b[1;32m---> 14\u001b[1;33m \u001b[0my\u001b[0m \u001b[1;33m+=\u001b[0m \u001b[1;36m1\u001b[0m\u001b[1;33m\u001b[0m\u001b[0m\n\u001b[0m\u001b[0;32m     15\u001b[0m \u001b[0mprint\u001b[0m\u001b[1;33m(\u001b[0m\u001b[0mid\u001b[0m\u001b[1;33m(\u001b[0m\u001b[0mx\u001b[0m\u001b[1;33m)\u001b[0m\u001b[1;33m)\u001b[0m\u001b[1;33m\u001b[0m\u001b[0m\n\u001b[0;32m     16\u001b[0m \u001b[0mprint\u001b[0m\u001b[1;33m(\u001b[0m\u001b[0mid\u001b[0m\u001b[1;33m(\u001b[0m\u001b[0my\u001b[0m\u001b[1;33m)\u001b[0m\u001b[1;33m)\u001b[0m  \u001b[1;31m# changed\u001b[0m\u001b[1;33m\u001b[0m\u001b[0m\n",
      "\u001b[1;31mTypeError\u001b[0m: unsupported operand type(s) for +=: 'dict' and 'int'"
     ]
    }
   ],
   "source": [
    "# int are not mutable\n",
    "# Immutable objects can be called by reference because its value cannot be changed anyways.\n",
    "# This is called pass by value\n",
    "# When the value is called by the function, only the value of the variable is passed, not the object itself.\n",
    "def f(i):\n",
    "    i += 2\n",
    "x = 0\n",
    "print(id(x))\n",
    "f(x)\n",
    "print(id(x))  # unchanged\n",
    "print(id(y))\n",
    "print(x)  # 0\n",
    "print(y)  # 0\n",
    "y += 1\n",
    "print(id(x))\n",
    "print(id(y))  # changed\n",
    "print(x)  # 0\n",
    "print(y)  # 1"
   ]
  },
  {
   "cell_type": "code",
   "execution_count": 64,
   "metadata": {},
   "outputs": [
    {
     "name": "stdout",
     "output_type": "stream",
     "text": [
      "1807576048\n",
      "1807576048\n",
      "1807576112\n",
      "1807576048\n",
      "2\n",
      "0\n"
     ]
    }
   ],
   "source": [
    "# unmutable\n",
    "x = 0\n",
    "y = x #  y will change if x is nodified\n",
    "print(id(x))\n",
    "print(id(y))\n",
    "x += 2\n",
    "print(id(x))  # changed\n",
    "print(id(y))  # did not change\n",
    "print(x)  # 2\n",
    "print(y)  # 0"
   ]
  },
  {
   "cell_type": "code",
   "execution_count": 65,
   "metadata": {},
   "outputs": [
    {
     "name": "stdout",
     "output_type": "stream",
     "text": [
      "[    'position_on_segment',\n",
      "     'distanceToEndSegment',\n",
      "     'velocity',\n",
      "     'speed_limit',\n",
      "     'steering_angle',\n",
      "     'distance_to_crossing_from_right',\n",
      "     'distance_to_crossing_from_left',\n",
      "     'tti',\n",
      "     'merging_from_right',\n",
      "     'merging_from_left',\n",
      "     'opposing',\n",
      "     'priority_to_left',\n",
      "     'priority_to_right',\n",
      "     'horizon',\n",
      "     'latGap']\n"
     ]
    }
   ],
   "source": [
    "from pprint import pprint\n",
    "keys_features_list = ['position_on_segment', 'distanceToEndSegment', 'velocity', 'speed_limit', 'steering_angle', 'distance_to_crossing_from_right', 'distance_to_crossing_from_left', 'tti', 'merging_from_right', 'merging_from_left', 'opposing', 'priority_to_left', 'priority_to_right', 'horizon', 'latGap']\n",
    "pprint(keys_features_list, indent=5)"
   ]
  },
  {
   "cell_type": "code",
   "execution_count": 66,
   "metadata": {},
   "outputs": [
    {
     "name": "stdout",
     "output_type": "stream",
     "text": [
      "{0: 4, 1: 2, -1: 1}\n"
     ]
    }
   ],
   "source": [
    "from collections import Counter\n",
    "import pprint\n",
    "rewards = [0, 0, 0, 1, -1, 1, 0]\n",
    "print(dict(Counter(rewards)))"
   ]
  },
  {
   "cell_type": "code",
   "execution_count": 68,
   "metadata": {},
   "outputs": [
    {
     "name": "stdout",
     "output_type": "stream",
     "text": [
      "5\n"
     ]
    }
   ],
   "source": [
    "changes_in_state = 0\n",
    "state = [0, 0]\n",
    "next_state = [0, 0]\n",
    "changes_in_state = (changes_in_state + 5) if(state == next_state) else (changes_in_state)\n",
    "print(changes_in_state)"
   ]
  },
  {
   "cell_type": "code",
   "execution_count": 69,
   "metadata": {},
   "outputs": [
    {
     "name": "stderr",
     "output_type": "stream",
     "text": [
      "DEBUG:matplotlib.backends:backend module://ipykernel.pylab.backend_inline version unknown\n",
      "DEBUG:matplotlib.font_manager:findfont: Matching :family=sans-serif:style=normal:variant=normal:weight=normal:stretch=normal:size=12.0 to DejaVu Sans ('C:\\\\Users\\\\simon.chauvin\\\\AppData\\\\Local\\\\Continuum\\\\anaconda3\\\\lib\\\\site-packages\\\\matplotlib\\\\mpl-data\\\\fonts\\\\ttf\\\\DejaVuSans.ttf') with score of 0.050000\n"
     ]
    },
    {
     "data": {
      "image/png": "[encoded data removed]",
      "text/plain": [
       "<Figure size 432x288 with 1 Axes>"
      ]
     },
     "metadata": {
      "needs_background": "light"
     },
     "output_type": "display_data"
    }
   ],
   "source": [
    "# np.linspace() - not np.arange()\n",
    "import matplotlib.pyplot as plt\n",
    "%matplotlib inline\n",
    "eps_decay = 0.995\n",
    "nb_episodes = 1500\n",
    "eps_end = 0.01\n",
    "eps_start = 1.0\n",
    "eps = [max(eps_start * eps_decay ** i, eps_end) for i in range(nb_episodes)]\n",
    "fig = plt.figure()\n",
    "ax = fig.add_subplot(111)\n",
    "plt.plot(np.arange(len(eps)), eps)\n",
    "plt.plot(np.arange(len(eps)), np.linspace(eps_start, eps_end, len(eps)))\n",
    "plt.ylabel('Espilon')\n",
    "plt.xlabel('Episode #')\n",
    "plt.grid()\n",
    "plt.show()"
   ]
  },
  {
   "cell_type": "code",
   "execution_count": 70,
   "metadata": {},
   "outputs": [
    {
     "name": "stdout",
     "output_type": "stream",
     "text": [
      "{(16, 3): array([ 888., 9999.,  888.,  888.,  888.])}\n",
      "{'a': 1, 'b': 2}\n"
     ]
    }
   ],
   "source": [
    "# use copy when reading in defaultdict\n",
    "from collections import defaultdict\n",
    "from copy import copy\n",
    "nA = 5\n",
    "state = (16, 3)\n",
    "q_table = defaultdict(lambda: np.zeros(nA))\n",
    "\n",
    "for i in range(nA):\n",
    "    q_table[state][i] = 888\n",
    "reader = q_table[state]\n",
    "reader_copy = copy(q_table[state])\n",
    "reader[1] = 9999\n",
    "reader_copy[0] = 1111\n",
    "print(dict(q_table))\n",
    "\n",
    "q_table_dict = {\"a\": 1, \"b\": 2}\n",
    "res = q_table_dict[\"a\"]\n",
    "res = 2\n",
    "print(q_table_dict)"
   ]
  },
  {
   "cell_type": "code",
   "execution_count": 9,
   "metadata": {},
   "outputs": [
    {
     "name": "stdout",
     "output_type": "stream",
     "text": [
      "10  vs  8.308\n"
     ]
    }
   ],
   "source": [
    "# from list of step-rewards to Return G of episode, using zip\n",
    "rewards = [1, 2, 5, 2]\n",
    "gamma = 0.9\n",
    "discounts = [gamma**i for i in range(len(rewards)+1)]\n",
    "G = sum([a*b for a,b in zip(discounts, rewards)])\n",
    "print(sum(rewards), \" vs \", G)"
   ]
  },
  {
   "cell_type": "code",
   "execution_count": 10,
   "metadata": {},
   "outputs": [],
   "source": [
    "import gym\n",
    "gym.logger.set_level(40) # suppress warnings (please remove if gives error)"
   ]
  },
  {
   "cell_type": "code",
   "execution_count": 11,
   "metadata": {},
   "outputs": [
    {
     "data": {
      "text/plain": [
       "<torch._C.Generator at 0x26c4c95f2b0>"
      ]
     },
     "execution_count": 11,
     "metadata": {},
     "output_type": "execute_result"
    }
   ],
   "source": [
    "import torch\n",
    "torch.manual_seed(0) # set random seed"
   ]
  },
  {
   "cell_type": "code",
   "execution_count": 6,
   "metadata": {},
   "outputs": [
    {
     "name": "stdout",
     "output_type": "stream",
     "text": [
      "Experience(state=1, action=2)\n",
      "Experience(state=2, action=3)\n"
     ]
    }
   ],
   "source": [
    "# namedtuple\n",
    "from collections import namedtuple\n",
    "experience = namedtuple(\"Experience\", field_names=[\"state\", \"action\"])\n",
    "exp1 = experience(1, 2)\n",
    "exp2 = experience(2, 3)\n",
    "print(exp1)\n",
    "print(exp2)"
   ]
  },
  {
   "cell_type": "code",
   "execution_count": 14,
   "metadata": {},
   "outputs": [
    {
     "name": "stdout",
     "output_type": "stream",
     "text": [
      "[Experience(state=1, action=2)]\n",
      "[Experience(state=2, action=3)]\n"
     ]
    }
   ],
   "source": [
    "# uniform sample from deque (Memory Replay Buffer)\n",
    "from collections import deque\n",
    "import random\n",
    "memory = deque(maxlen=3)\n",
    "memory.append(exp1)\n",
    "memory.append(exp2)\n",
    "\n",
    "experiences = random.sample(memory, k=1)\n",
    "print(experiences)\n",
    "experiences = random.sample(memory, k=1)\n",
    "print(experiences)"
   ]
  },
  {
   "cell_type": "code",
   "execution_count": 84,
   "metadata": {},
   "outputs": [
    {
     "name": "stdout",
     "output_type": "stream",
     "text": [
      "b\n",
      "g\n",
      "r\n",
      "c\n"
     ]
    }
   ],
   "source": [
    "# next in cycle\n",
    "from itertools import cycle\n",
    "cycol = cycle('bgrcmk')\n",
    "for i, e in enumerate(zip([1, 2, 3, 4], [5, 6, 7, 8])):\n",
    "    c = next(cycol)\n",
    "    print(c)"
   ]
  },
  {
   "cell_type": "code",
   "execution_count": 87,
   "metadata": {},
   "outputs": [
    {
     "data": {
      "text/plain": [
       "25654.36"
      ]
     },
     "execution_count": 87,
     "metadata": {},
     "output_type": "execute_result"
    }
   ],
   "source": [
    "26249.7 - 595.34"
   ]
  },
  {
   "cell_type": "code",
   "execution_count": 88,
   "metadata": {},
   "outputs": [
    {
     "data": {
      "text/plain": [
       "-67977.61"
      ]
     },
     "execution_count": 88,
     "metadata": {},
     "output_type": "execute_result"
    }
   ],
   "source": [
    "-67335.7 - 641.91"
   ]
  },
  {
   "cell_type": "code",
   "execution_count": 1,
   "metadata": {},
   "outputs": [],
   "source": [
    "# m = [[[687.5921020507812, 653.1112670898438, 0.0, 0.0, 0.0, 0.0], [685.52685546875, 650.85595703125, 0.0, 0.0, 0.0, 5.086000442504883]], [[687.5921020507812, 653.1112670898438, 0.0, 0.0, 0.0, 0.0], [685.5632934570312, 650.8523559570312, 0.0, 0.0, 0.0, 5.085224628448486]], [[687.5921020507812, 653.1112670898438, 0.0, 0.0, 0.0, 0.0], [685.5632934570312, 650.8523559570312, 0.0, 0.0, 0.0, 5.085224628448486]], [[687.5921020507812, 653.1112670898438, 0.0, 0.0, 0.0, 0.0], [685.473388671875, 650.6638793945312, 0.0, 0.0, 0.0, 5.076412677764893]], [[687.5921020507812, 653.1112670898438, 0.0, 0.0, 0.0, 0.0], [686.0415649414062, 648.2864379882812, 0.0, 0.0, 0.0, 5.052938938140869]], [[688.72802734375, 649.2323608398438, 0.0, 0.0, 0.0, 0.0], [687.9104614257812, 642.9508666992188, 0.0, 0.0, 0.0, 5.053387641906738]], [[690.0433959960938, 645.9076538085938, 0.0, 0.0, 0.0, 0.0], [690.6132202148438, 635.4781494140625, 0.0, 0.0, 0.0, 5.063212871551514]], [[692.7338256835938, 636.155029296875, 0.0, 0.0, 0.0, 0.0], [693.9132690429688, 626.78857421875, 0.0, 0.0, 0.0, 5.080757141113281]], [[694.4078979492188, 630.6137084960938, 0.0, 0.0, 0.0, 0.0], [697.7245483398438, 617.220703125, 0.0, 0.0, 0.0, 5.094580173492432]], [[698.0549926757812, 617.536376953125, 0.0, 0.0, 0.0, 0.0], [701.7225952148438, 607.2736206054688, 0.0, 0.0, 0.0, 5.095102310180664]], [[702.060791015625, 604.9022827148438, 0.0, 0.0, 0.0, 0.0], [705.3814697265625, 598.4099731445312, 0.0, 0.0, 0.0, 5.093272686004639]], [[703.7946166992188, 598.917724609375, 0.0, 0.0, 0.0, 0.0], [708.3792114257812, 590.89306640625, 0.0, 0.0, 0.0, 5.0908122062683105]], [[706.6644287109375, 589.27587890625, 0.0, 0.0, 0.0, 0.0], [711.663818359375, 585.0750122070312, 0.0, 0.0, 0.0, 5.476902961730957]], [[708.3983154296875, 585.3970336914062, 0.0, 0.0, 0.0, 0.0], [717.57177734375, 582.1866455078125, 0.0, 0.0, 0.0, 6.19146728515625]], [[714.4966430664062, 581.6289672851562, 0.0, 0.0, 0.0, 0.0], [725.1980590820312, 583.6840209960938, 0.0, 0.0, 0.0, 6.655439376831055]], [[718.50244140625, 582.4047241210938, 0.0, 0.0, 0.0, 0.0], [734.0427856445312, 587.4644775390625, 0.0, 0.0, 0.0, 6.668034553527832]], [[728.0685424804688, 586.7269287109375, 0.0, 0.0, 0.0, 0.0], [744.277099609375, 591.54931640625, 0.0, 0.0, 0.0, 6.643499374389648]], [[733.3896484375, 589.6083984375, 0.0, 0.0, 0.0, 0.0], [754.8519287109375, 595.66064453125, 0.0, 0.0, 0.0, 6.6405863761901855]], [[744.8092041015625, 594.2630615234375, 0.0, 0.0, 0.0, 0.0], [764.6339111328125, 599.4209594726562, 0.0, 0.0, 0.0, 6.637455940246582]], [[750.1303100585938, 596.81201171875, 0.0, 0.0, 0.0, 0.0], [772.9112548828125, 602.5078735351562, 0.0, 0.0, 0.0, 6.646531581878662]], [[759.0985107421875, 601.0233764648438, 0.0, 0.0, 0.0, 0.0], [778.8601684570312, 604.8531494140625, 0.0, 0.0, 0.0, 6.714532375335693]], [[765.0175170898438, 603.5723876953125, 0.0, 0.0, 0.0, 0.0], [782.7882690429688, 608.212890625, 0.0, 0.0, 0.0, 7.343924045562744]], [[766.8709716796875, 606.121337890625, 0.0, 0.0, 0.0, 0.0], [783.5374145507812, 614.0567016601562, 0.0, 0.0, 0.0, 8.037152290344238]], [[767.4688110351562, 614.2116088867188, 0.0, 0.0, 0.0, 0.0], [780.626220703125, 622.0369262695312, 0.0, 0.0, 0.0, 8.272407531738281]], [[766.2132568359375, 619.19873046875, 0.0, 0.0, 0.0, 0.0], [776.5601806640625, 631.5221557617188, 0.0, 0.0, 0.0, 8.257205963134766]], [[762.2074584960938, 631.9436645507812, 0.0, 0.0, 0.0, 0.0], [772.4556274414062, 641.5938110351562, 0.0, 0.0, 0.0, 8.228858947753906]], [[760.0551147460938, 638.7039794921875, 0.0, 0.0, 0.0, 0.0], [768.999755859375, 650.6698608398438, 0.0, 0.0, 0.0, 8.223034858703613]], [[756.4080200195312, 650.894775390625, 0.0, 0.0, 0.0, 0.0], [765.726318359375, 658.07568359375, 0.0, 0.0, 0.0, 8.417054176330566]], [[754.7937622070312, 655.9927368164062, 0.0, 0.0, 0.0, 0.0], [760.4969482421875, 662.6580200195312, 0.0, 0.0, 0.0, 9.062416076660156]], [[749.5922241210938, 661.977294921875, 0.0, 0.0, 0.0, 0.0], [752.45654296875, 663.3714599609375, 0.0, 0.0, 0.0, 9.594033241271973]], [[745.526611328125, 662.7530517578125, 0.0, 0.0, 0.0, 0.0], [742.649169921875, 660.4241943359375, 0.0, 0.0, 0.0, 9.772817611694336]], [[735.4224853515625, 658.9849853515625, 0.0, 0.0, 0.0, 0.0], [731.3192749023438, 656.1661987304688, 0.0, 0.0, 0.0, 9.784639358520508]], [[723.2257080078125, 653.8870239257812, 0.0, 0.0, 0.0, 0.0], [719.7599487304688, 651.830322265625, 0.0, 0.0, 0.0, 9.78911304473877]], [[717.0077514648438, 651.3380737304688, 0.0, 0.0, 0.0, 0.0], [709.2213134765625, 647.6183471679688, 0.0, 0.0, 0.0, 9.814656257629395]], [[706.0665893554688, 647.126708984375, 0.0, 0.0, 0.0, 0.0], [702.0427856445312, 644.5626220703125, 0.0, 0.0, 0.0, 9.831804275512695]], [[702.2401123046875, 645.02099609375, 0.0, 0.0, 0.0, 0.0], [698.1727905273438, 642.5371704101562, 0.0, 0.0, 0.0, 10.001694679260254]], [[697.57666015625, 642.9153442382812, 0.0, 0.0, 0.0, 0.0], [694.6290893554688, 639.3363037109375, 0.0, 0.0, 0.0, 10.419142723083496]], [[696.0819702148438, 640.8096923828125, 0.0, 0.0, 0.0, 0.0], [692.9874877929688, 633.3156127929688, 0.0, 0.0, 0.0, 11.027355194091797]], [[694.1089477539062, 633.6060180664062, 0.0, 0.0, 0.0, 0.0], [694.9339599609375, 625.0335693359375, 0.0, 0.0, 0.0, 11.340516090393066]], [[694.7666625976562, 628.0647583007812, 0.0, 0.0, 0.0, 0.0], [698.809326171875, 614.9324340820312, 0.0, 0.0, 0.0, 11.365138053894043]], [[698.4136962890625, 614.5440673828125, 0.0, 0.0, 0.0, 0.0], [703.5537719726562, 603.0888061523438, 0.0, 0.0, 0.0, 11.381996154785156]], [[702.6586303710938, 600.580078125, 0.0, 0.0, 0.0, 0.0], [707.4598388671875, 593.3450927734375, 0.0, 0.0, 0.0, 11.375134468078613]], [[704.6316528320312, 594.2630615234375, 0.0, 0.0, 0.0, 0.0], [710.8226318359375, 586.55615234375, 0.0, 0.0, 0.0, 11.640625953674316]], [[708.3385009765625, 585.3970336914062, 0.0, 0.0, 0.0, 0.0], [716.1143798828125, 582.6137084960938, 0.0, 0.0, 0.0, 12.301142692565918]], [[710.9691772460938, 582.4047241210938, 0.0, 0.0, 0.0, 0.0], [723.272216796875, 583.6217041015625, 0.0, 0.0, 0.0, 12.975050926208496]], [[718.1437377929688, 583.2913208007812, 0.0, 0.0, 0.0, 0.0], [729.7125854492188, 585.535400390625, 0.0, 0.0, 0.0, 12.578271865844727]], [[721.6712036132812, 584.6212158203125, 0.0, 0.0, 0.0, 0.0], [735.3386840820312, 583.348388671875, 0.0, 0.0, 0.0, 11.818275451660156]], [[727.5304565429688, 582.8480224609375, 0.0, 0.0, 0.0, 0.0], [738.7168579101562, 578.2738647460938, 0.0, 0.0, 0.0, 11.422633171081543]], [[730.8786010742188, 575.6444091796875, 0.0, 0.0, 0.0, 0.0], [741.8111572265625, 570.4276123046875, 0.0, 0.0, 0.0, 11.353509902954102]], [[732.373291015625, 570.6572265625, 0.0, 0.0, 0.0, 0.0], [744.8054809570312, 562.4180908203125, 0.0, 0.0, 0.0, 11.409741401672363]], [[735.66162109375, 560.9046020507812, 0.0, 0.0, 0.0, 0.0], [748.915283203125, 556.84326171875, 0.0, 0.0, 0.0, 11.949626922607422]], [[738.0531616210938, 557.912353515625, 0.0, 0.0, 0.0, 0.0], [755.6051635742188, 555.1168212890625, 0.0, 0.0, 0.0, 12.637463569641113]], [[745.4668579101562, 556.2499389648438, 0.0, 0.0, 0.0, 0.0], [764.0982666015625, 557.3577880859375, 0.0, 0.0, 0.0, 12.901907920837402]], [[750.1303100585938, 557.1365356445312, 0.0, 0.0, 0.0, 0.0], [773.4442138671875, 561.082275390625, 0.0, 0.0, 0.0, 12.951269149780273]], [[759.8159790039062, 561.347900390625, 0.0, 0.0, 0.0, 0.0], [781.9550170898438, 564.5900268554688, 0.0, 0.0, 0.0, 12.947530746459961]], [[764.2402954101562, 563.0103149414062, 0.0, 0.0, 0.0, 0.0], [788.010498046875, 566.9805297851562, 0.0, 0.0, 0.0, 12.95001220703125]], [[770.0994873046875, 564.6726684570312, 0.0, 0.0, 0.0, 0.0], [791.9009399414062, 568.87744140625, 0.0, 0.0, 0.0, 13.158891677856445]], [[772.1920776367188, 565.5592651367188, 0.0, 0.0, 0.0, 0.0], [795.5752563476562, 572.7771606445312, 0.0, 0.0, 0.0, 13.728984832763672]], [[776.0184936523438, 569.7706298828125, 0.0, 0.0, 0.0, 0.0], [796.1705322265625, 579.9166259765625, 0.0, 0.0, 0.0, 14.353360176086426]], [[775.4804077148438, 579.0799560546875, 0.0, 0.0, 0.0, 0.0], [793.4073486328125, 589.242919921875, 0.0, 0.0, 0.0, 14.464476585388184]], [[773.9857177734375, 585.3970336914062, 0.0, 0.0, 0.0, 0.0], [789.7587280273438, 599.60009765625, 0.0, 0.0, 0.0, 14.491072654724121]], [[769.9799194335938, 599.8043212890625, 0.0, 0.0, 0.0, 0.0], [785.2044677734375, 611.3865356445312, 0.0, 0.0, 0.0, 14.515734672546387]], [[768.0068969726562, 607.78369140625, 0.0, 0.0, 0.0, 0.0], [780.0282592773438, 623.48681640625, 0.0, 0.0, 0.0, 14.547730445861816]], [[763.5228271484375, 624.739990234375, 0.0, 0.0, 0.0, 0.0], [775.5630493164062, 634.6937255859375, 0.0, 0.0, 0.0, 14.508687973022461]], [[761.4302368164062, 631.9436645507812, 0.0, 0.0, 0.0, 0.0], [772.0504760742188, 644.2372436523438, 0.0, 0.0, 0.0, 14.500104904174805]], [[758.0820922851562, 645.02099609375, 0.0, 0.0, 0.0, 0.0], [769.390625, 651.3714599609375, 0.0, 0.0, 0.0, 14.511220932006836]], [[756.7069702148438, 650.1189575195312, 0.0, 0.0, 0.0, 0.0], [767.54248046875, 656.262451171875, 0.0, 0.0, 0.0, 14.51073932647705]], [[754.97314453125, 656.43603515625, 0.0, 0.0, 0.0, 0.0], [766.4505615234375, 659.1693725585938, 0.0, 0.0, 0.0, 14.51358413696289]], [[754.43505859375, 658.5416870117188, 0.0, 0.0, 0.0, 0.0], [764.6746826171875, 662.41259765625, 0.0, 0.0, 0.0, 14.817865371704102]], [[752.701171875, 662.7530517578125, 0.0, 0.0, 0.0, 0.0], [759.7611083984375, 665.2320556640625, 0.0, 0.0, 0.0, 15.54220199584961]], [[747.3202514648438, 665.3020629882812, 0.0, 0.0, 0.0, 0.0], [751.9561767578125, 664.6251831054688, 0.0, 0.0, 0.0, 15.923020362854004]], [[743.0753173828125, 664.8587646484375, 0.0, 0.0, 0.0, 0.0], [742.35693359375, 661.6436157226562, 0.0, 0.0, 0.0, 16.0654239654541]], [[732.373291015625, 660.6473999023438, 0.0, 0.0, 0.0, 0.0], [731.5222778320312, 657.2491455078125, 0.0, 0.0, 0.0, 16.104684829711914]], [[726.4542846679688, 658.098388671875, 0.0, 0.0, 0.0, 0.0], [721.4483032226562, 653.0306396484375, 0.0, 0.0, 0.0, 16.10576820373535]], [[715.6924438476562, 653.1112670898438, 0.0, 0.0, 0.0, 0.0], [712.88916015625, 649.2659301757812, 0.0, 0.0, 0.0, 16.1389102935791]], [[710.7300415039062, 650.894775390625, 0.0, 0.0, 0.0, 0.0], [704.23779296875, 645.0371704101562, 0.0, 0.0, 0.0, 16.15033721923828]], [[701.7020263671875, 646.6834106445312, 0.0, 0.0, 0.0, 0.0], [698.9007568359375, 642.573974609375, 0.0, 0.0, 0.0, 16.049671173095703]], [[698.8920288085938, 644.5776977539062, 0.0, 0.0, 0.0, 0.0], [696.9720458984375, 642.0091552734375, 0.0, 0.0, 0.0, 15.915928840637207]], [[696.6798706054688, 643.358642578125, 0.0, 0.0, 0.0, 0.0], [696.9505615234375, 642.0048217773438, 0.0, 0.0, 0.0, 15.915505409240723]], [[696.6798706054688, 643.358642578125, 0.0, 0.0, 0.0, 0.0], [696.9505615234375, 642.0048217773438, 0.0, 0.0, 0.0, 15.915505409240723]], [[696.6798706054688, 643.358642578125, 0.0, 0.0, 0.0, 0.0], [696.9505615234375, 642.0048217773438, 0.0, 0.0, 0.0, 15.915505409240723]], [[696.6798706054688, 643.358642578125, 0.0, 0.0, 0.0, 0.0], [696.9505615234375, 642.0048217773438, 0.0, 0.0, 0.0, 15.915505409240723]], [[696.6798706054688, 643.358642578125, 0.0, 0.0, 0.0, 0.0], [696.9505615234375, 642.0048217773438, 0.0, 0.0, 0.0, 15.915505409240723]], [[696.6798706054688, 643.358642578125, 0.0, 0.0, 0.0, 0.0], [696.9505615234375, 642.0048217773438, 0.0, 0.0, 0.0, 15.915505409240723]], [[696.6798706054688, 643.358642578125, 0.0, 0.0, 0.0, 0.0], [696.9505615234375, 642.0048217773438, 0.0, 0.0, 0.0, 15.915505409240723]], [[696.6798706054688, 643.358642578125, 0.0, 0.0, 0.0, 0.0], [696.9505615234375, 642.0048217773438, 0.0, 0.0, 0.0, 15.915505409240723]], [[696.6798706054688, 643.358642578125, 0.0, 0.0, 0.0, 0.0], [696.9505615234375, 642.0048217773438, 0.0, 0.0, 0.0, 15.915505409240723]], [[696.6798706054688, 643.358642578125, 0.0, 0.0, 0.0, 0.0], [696.9505615234375, 642.0048217773438, 0.0, 0.0, 0.0, 15.915505409240723]], [[696.6798706054688, 643.358642578125, 0.0, 0.0, 0.0, 0.0], [696.9505615234375, 642.0048217773438, 0.0, 0.0, 0.0, 15.915505409240723]], [[696.6798706054688, 643.358642578125, 0.0, 0.0, 0.0, 0.0], [696.9505615234375, 642.0048217773438, 0.0, 0.0, 0.0, 15.915505409240723]], [[696.6798706054688, 643.358642578125, 0.0, 0.0, 0.0, 0.0], [696.9505615234375, 642.0048217773438, 0.0, 0.0, 0.0, 15.915505409240723]], [[696.6798706054688, 643.358642578125, 0.0, 0.0, 0.0, 0.0], [696.9505615234375, 642.0048217773438, 0.0, 0.0, 0.0, 15.915505409240723]], [[696.6798706054688, 643.358642578125, 0.0, 0.0, 0.0, 0.0], [696.9505615234375, 642.0048217773438, 0.0, 0.0, 0.0, 15.915505409240723]], [[696.6798706054688, 643.358642578125, 0.0, 0.0, 0.0, 0.0], [696.9505615234375, 642.0048217773438, 0.0, 0.0, 0.0, 15.915505409240723]], [[696.6798706054688, 643.358642578125, 0.0, 0.0, 0.0, 0.0], [696.9505615234375, 642.0048217773438, 0.0, 0.0, 0.0, 15.915505409240723]], [[696.6798706054688, 643.358642578125, 0.0, 0.0, 0.0, 0.0], [696.9505615234375, 642.0048217773438, 0.0, 0.0, 0.0, 15.915505409240723]], [[696.6798706054688, 643.358642578125, 0.0, 0.0, 0.0, 0.0], [696.9505615234375, 642.0048217773438, 0.0, 0.0, 0.0, 15.915505409240723]], [[696.6798706054688, 643.358642578125, 0.0, 0.0, 0.0, 0.0], [696.9505615234375, 642.0048217773438, 0.0, 0.0, 0.0, 15.915505409240723]], [[696.6798706054688, 643.358642578125, 0.0, 0.0, 0.0, 0.0], [696.9505615234375, 642.0048217773438, 0.0, 0.0, 0.0, 15.915505409240723]]]\n",
    "m = [[[682.7770385742188, 652.5198974609375, 0.0, 0.0, 0.0, 0.0], [685.28271484375, 650.5066528320312, 0.0, 0.0, 0.0, 5.06666374206543]], [[684.3226318359375, 648.677978515625, 0.0, 0.0, 0.0, 0.0], [687.705322265625, 643.2725219726562, 0.0, 0.0, 0.0, 5.058409214019775]], [[689.7523803710938, 635.7327270507812, 0.0, 0.0, 0.0, 0.0], [694.4071655273438, 625.5897827148438, 0.0, 0.0, 0.0, 5.085672378540039]], [[697.0074462890625, 617.2860717773438, 0.0, 0.0, 0.0, 0.0], [701.4974975585938, 607.7782592773438, 0.0, 0.0, 0.0, 5.092982292175293]], [[704.783447265625, 598.8569946289062, 0.0, 0.0, 0.0, 0.0], [707.8094482421875, 592.3140258789062, 0.0, 0.0, 0.0, 5.090878009796143]], [[710.9725341796875, 585.4923706054688, 0.0, 0.0, 0.0, 0.0], [714.7948608398438, 582.8173828125, 0.0, 0.0, 0.0, 5.909398078918457]], [[718.6911010742188, 581.970703125, 0.0, 0.0, 0.0, 0.0], [728.9589233398438, 585.2772827148438, 0.0, 0.0, 0.0, 6.681394577026367]], [[735.4110107421875, 587.6547241210938, 0.0, 0.0, 0.0, 0.0], [746.9898681640625, 592.58740234375, 0.0, 0.0, 0.0, 6.6467742919921875]], [[755.9923095703125, 595.9172973632812, 0.0, 0.0, 0.0, 0.0], [765.433349609375, 599.68701171875, 0.0, 0.0, 0.0, 6.641263484954834]], [[773.5487670898438, 603.2987060546875, 0.0, 0.0, 0.0, 0.0], [778.6869506835938, 604.6468505859375, 0.0, 0.0, 0.0, 6.707235813140869]], [[783.050048828125, 608.7384643554688, 0.0, 0.0, 0.0, 0.0], [783.7232666015625, 612.4374389648438, 0.0, 0.0, 0.0, 7.931666851043701]], [[781.7874145507812, 621.8247680664062, 0.0, 0.0, 0.0, 0.0], [778.1480712890625, 627.5651245117188, 0.0, 0.0, 0.0, 8.262033462524414]], [[776.3687133789062, 634.4365844726562, 0.0, 0.0, 0.0, 0.0], [770.9578857421875, 645.54638671875, 0.0, 0.0, 0.0, 8.223282814025879]], [[768.5068359375, 653.1964111328125, 0.0, 0.0, 0.0, 0.0], [764.6500244140625, 659.3306274414062, 0.0, 0.0, 0.0, 8.56832218170166]], [[759.64697265625, 664.0227661132812, 0.0, 0.0, 0.0, 0.0], [751.4713134765625, 662.7959594726562, 0.0, 0.0, 0.0, 9.614267349243164]], [[742.1116333007812, 660.425048828125, 0.0, 0.0, 0.0, 0.0], [732.0106811523438, 656.493408203125, 0.0, 0.0, 0.0, 9.780020713806152]], [[719.4506225585938, 651.9808349609375, 0.0, 0.0, 0.0, 0.0], [712.1148681640625, 648.782958984375, 0.0, 0.0, 0.0, 9.812344551086426]], [[701.283935546875, 645.0239868164062, 0.0, 0.0, 0.0, 0.0], [699.555419921875, 643.3683471679688, 0.0, 0.0, 0.0, 9.911046981811523]], [[695.55078125, 642.7160034179688, 0.0, 0.0, 0.0, 0.0], [693.9060668945312, 637.3419799804688, 0.0, 0.0, 0.0, 10.650437355041504]], [[691.5504760742188, 633.2344970703125, 0.0, 0.0, 0.0, 0.0], [695.7761840820312, 623.02978515625, 0.0, 0.0, 0.0, 11.34736442565918]], [[697.5554809570312, 614.3004760742188, 0.0, 0.0, 0.0, 0.0], [703.670166015625, 602.80517578125, 0.0, 0.0, 0.0, 11.377032279968262]], [[705.9832763671875, 594.2245483398438, 0.0, 0.0, 0.0, 0.0], [710.2775268554688, 587.1441650390625, 0.0, 0.0, 0.0, 11.56440544128418]], [[714.2741088867188, 582.6000366210938, 0.0, 0.0, 0.0, 0.0], [720.9444580078125, 582.5900268554688, 0.0, 0.0, 0.0, 12.884420394897461]], [[727.5197143554688, 585.2736206054688, 0.0, 0.0, 0.0, 0.0], [732.9979858398438, 585.0556030273438, 0.0, 0.0, 0.0, 12.165903091430664]], [[737.292724609375, 580.486328125, 0.0, 0.0, 0.0, 0.0], [739.806396484375, 575.7890014648438, 0.0, 0.0, 0.0, 11.356661796569824]], [[741.3146362304688, 571.7213745117188, 0.0, 0.0, 0.0, 0.0], [745.349609375, 560.9959106445312, 0.0, 0.0, 0.0, 11.474957466125488]], [[748.8170166015625, 559.1801147460938, 0.0, 0.0, 0.0, 0.0], [755.718505859375, 555.0545654296875, 0.0, 0.0, 0.0, 12.648324966430664]], [[763.8759155273438, 558.9110107421875, 0.0, 0.0, 0.0, 0.0], [771.9542236328125, 560.4664306640625, 0.0, 0.0, 0.0, 12.949607849121094]], [[781.2393188476562, 565.3958129882812, 0.0, 0.0, 0.0, 0.0], [786.3605346679688, 566.2960205078125, 0.0, 0.0, 0.0, 12.93742561340332]], [[791.0504760742188, 568.2870483398438, 0.0, 0.0, 0.0, 0.0], [793.8064575195312, 570.4295654296875, 0.0, 0.0, 0.0, 13.390522003173828]], [[795.6167602539062, 576.45263671875, 0.0, 0.0, 0.0, 0.0], [795.18603515625, 583.0570068359375, 0.0, 0.0, 0.0, 14.437289237976074]], [[792.6094360351562, 588.2559204101562, 0.0, 0.0, 0.0, 0.0], [788.96875, 601.8731079101562, 0.0, 0.0, 0.0, 14.491728782653809]], [[784.4075317382812, 610.453369140625, 0.0, 0.0, 0.0, 0.0], [780.0742797851562, 623.6748046875, 0.0, 0.0, 0.0, 14.532917022705078]], [[775.4013061523438, 634.40380859375, 0.0, 0.0, 0.0, 0.0], [772.6473999023438, 642.843017578125, 0.0, 0.0, 0.0, 14.506211280822754]], [[768.9052124023438, 652.4310913085938, 0.0, 0.0, 0.0, 0.0], [768.20751953125, 654.7860717773438, 0.0, 0.0, 0.0, 14.526028633117676]], [[765.7914428710938, 660.7816162109375, 0.0, 0.0, 0.0, 0.0], [765.9601440429688, 660.4785766601562, 0.0, 0.0, 0.0, 14.65907096862793]], [[760.7510986328125, 666.6192016601562, 0.0, 0.0, 0.0, 0.0], [757.0794677734375, 665.112548828125, 0.0, 0.0, 0.0, 15.76122760772705]], [[751.4376831054688, 666.6376953125, 0.0, 0.0, 0.0, 0.0], [739.9963989257812, 660.5831298828125, 0.0, 0.0, 0.0, 16.076045989990234]], [[730.9791259765625, 659.1581420898438, 0.0, 0.0, 0.0, 0.0], [720.9146728515625, 652.8355712890625, 0.0, 0.0, 0.0, 16.098825454711914]], [[711.65185546875, 651.2718505859375, 0.0, 0.0, 0.0, 0.0], [705.031494140625, 645.6427001953125, 0.0, 0.0, 0.0, 16.159744262695312]], [[697.131591796875, 644.4384155273438, 0.0, 0.0, 0.0, 0.0], [697.021240234375, 642.1915283203125, 0.0, 0.0, 0.0, 15.946114540100098]], [[694.4194946289062, 643.1227416992188, 0.0, 0.0, 0.0, 0.0], [696.751220703125, 642.1263427734375, 0.0, 0.0, 0.0, 15.929123878479004]], [[694.4194946289062, 643.1227416992188, 0.0, 0.0, 0.0, 0.0], [696.751220703125, 642.1263427734375, 0.0, 0.0, 0.0, 15.929123878479004]], [[694.4194946289062, 643.1227416992188, 0.0, 0.0, 0.0, 0.0], [696.751220703125, 642.1263427734375, 0.0, 0.0, 0.0, 15.929123878479004]], [[694.4194946289062, 643.1227416992188, 0.0, 0.0, 0.0, 0.0], [696.751220703125, 642.1263427734375, 0.0, 0.0, 0.0, 15.929123878479004]], [[694.4194946289062, 643.1227416992188, 0.0, 0.0, 0.0, 0.0], [696.751220703125, 642.1263427734375, 0.0, 0.0, 0.0, 15.929123878479004]]]"
   ]
  },
  {
   "cell_type": "code",
   "execution_count": 2,
   "metadata": {},
   "outputs": [
    {
     "data": {
      "text/plain": [
       "[[-2.50567626953125, 2.01324462890625],\n",
       " [-3.3826904296875, 5.40545654296875],\n",
       " [-4.65478515625, 10.1429443359375],\n",
       " [-4.49005126953125, 9.5078125],\n",
       " [-3.0260009765625, 6.54296875],\n",
       " [-3.82232666015625, 2.67498779296875],\n",
       " [-10.267822265625, -3.30657958984375],\n",
       " [-11.578857421875, -4.93267822265625],\n",
       " [-9.4410400390625, -3.76971435546875],\n",
       " [-5.13818359375, -1.34814453125],\n",
       " [-0.6732177734375, -3.698974609375],\n",
       " [3.63934326171875, -5.7403564453125],\n",
       " [5.41082763671875, -11.10980224609375],\n",
       " [3.8568115234375, -6.13421630859375],\n",
       " [8.1756591796875, 1.226806640625],\n",
       " [10.1009521484375, 3.931640625],\n",
       " [7.33575439453125, 3.1978759765625],\n",
       " [1.728515625, 1.6556396484375],\n",
       " [1.64471435546875, 5.3740234375],\n",
       " [-4.2257080078125, 10.2047119140625],\n",
       " [-6.11468505859375, 11.49530029296875],\n",
       " [-4.29425048828125, 7.08038330078125],\n",
       " [-6.67034912109375, 0.010009765625],\n",
       " [-5.478271484375, 0.218017578125],\n",
       " [-2.513671875, 4.69732666015625],\n",
       " [-4.03497314453125, 10.7254638671875],\n",
       " [-6.9014892578125, 4.12554931640625],\n",
       " [-8.07830810546875, -1.555419921875],\n",
       " [-5.1212158203125, -0.90020751953125],\n",
       " [-2.7559814453125, -2.14251708984375],\n",
       " [0.43072509765625, -6.6043701171875],\n",
       " [3.64068603515625, -13.6171875],\n",
       " [4.333251953125, -13.221435546875],\n",
       " [2.75390625, -8.439208984375],\n",
       " [0.69769287109375, -2.35498046875],\n",
       " [-0.168701171875, 0.30303955078125],\n",
       " [3.671630859375, 1.50665283203125],\n",
       " [11.4412841796875, 6.0545654296875],\n",
       " [10.064453125, 6.32257080078125],\n",
       " [6.620361328125, 5.629150390625],\n",
       " [0.1103515625, 2.24688720703125],\n",
       " [-2.33172607421875, 0.99639892578125],\n",
       " [-2.33172607421875, 0.99639892578125],\n",
       " [-2.33172607421875, 0.99639892578125],\n",
       " [-2.33172607421875, 0.99639892578125],\n",
       " [-2.33172607421875, 0.99639892578125]]"
      ]
     },
     "execution_count": 2,
     "metadata": {},
     "output_type": "execute_result"
    }
   ],
   "source": [
    "d = [[elem[0][0]-elem[1][0], elem[0][1]-elem[1][1]] for elem in m]\n",
    "d"
   ]
  },
  {
   "cell_type": "code",
   "execution_count": 3,
   "metadata": {},
   "outputs": [
    {
     "name": "stdout",
     "output_type": "stream",
     "text": [
      "46\n"
     ]
    },
    {
     "ename": "NameError",
     "evalue": "name 'plt' is not defined",
     "output_type": "error",
     "traceback": [
      "\u001b[1;31m---------------------------------------------------------------------------\u001b[0m",
      "\u001b[1;31mNameError\u001b[0m                                 Traceback (most recent call last)",
      "\u001b[1;32m<ipython-input-3-61abcfd266bb>\u001b[0m in \u001b[0;36m<module>\u001b[1;34m()\u001b[0m\n\u001b[0;32m      1\u001b[0m \u001b[0mx\u001b[0m\u001b[1;33m,\u001b[0m \u001b[0my\u001b[0m \u001b[1;33m=\u001b[0m \u001b[0mlist\u001b[0m\u001b[1;33m(\u001b[0m\u001b[0mzip\u001b[0m\u001b[1;33m(\u001b[0m\u001b[1;33m*\u001b[0m\u001b[0md\u001b[0m\u001b[1;33m)\u001b[0m\u001b[1;33m)\u001b[0m\u001b[1;33m\u001b[0m\u001b[0m\n\u001b[0;32m      2\u001b[0m \u001b[0mprint\u001b[0m\u001b[1;33m(\u001b[0m\u001b[0mlen\u001b[0m\u001b[1;33m(\u001b[0m\u001b[0mx\u001b[0m\u001b[1;33m)\u001b[0m\u001b[1;33m)\u001b[0m\u001b[1;33m\u001b[0m\u001b[0m\n\u001b[1;32m----> 3\u001b[1;33m \u001b[0mplt\u001b[0m\u001b[1;33m.\u001b[0m\u001b[0mscatter\u001b[0m\u001b[1;33m(\u001b[0m\u001b[0mx\u001b[0m\u001b[1;33m,\u001b[0m \u001b[0my\u001b[0m\u001b[1;33m)\u001b[0m\u001b[1;33m\u001b[0m\u001b[0m\n\u001b[0m\u001b[0;32m      4\u001b[0m \u001b[0mprint\u001b[0m\u001b[1;33m(\u001b[0m\u001b[1;34m\"diff_x_offset = {:0.2f}, diff_y_offset = {:0.2f}\"\u001b[0m\u001b[1;33m.\u001b[0m\u001b[0mformat\u001b[0m\u001b[1;33m(\u001b[0m\u001b[0mmax\u001b[0m\u001b[1;33m(\u001b[0m\u001b[0mx\u001b[0m\u001b[1;33m)\u001b[0m \u001b[1;33m-\u001b[0m \u001b[0mmin\u001b[0m\u001b[1;33m(\u001b[0m\u001b[0mx\u001b[0m\u001b[1;33m)\u001b[0m\u001b[1;33m,\u001b[0m \u001b[0mmax\u001b[0m\u001b[1;33m(\u001b[0m\u001b[0my\u001b[0m\u001b[1;33m)\u001b[0m \u001b[1;33m-\u001b[0m \u001b[0mmin\u001b[0m\u001b[1;33m(\u001b[0m\u001b[0my\u001b[0m\u001b[1;33m)\u001b[0m\u001b[1;33m)\u001b[0m\u001b[1;33m)\u001b[0m\u001b[1;33m\u001b[0m\u001b[0m\n",
      "\u001b[1;31mNameError\u001b[0m: name 'plt' is not defined"
     ]
    }
   ],
   "source": [
    "x, y = list(zip(*d))\n",
    "print(len(x))\n",
    "plt.scatter(x, y)\n",
    "print(\"diff_x_offset = {:0.2f}, diff_y_offset = {:0.2f}\".format(max(x) - min(x), max(y) - min(y)))"
   ]
  },
  {
   "cell_type": "code",
   "execution_count": 109,
   "metadata": {},
   "outputs": [
    {
     "data": {
      "text/plain": [
       "59787.98210761288"
      ]
     },
     "execution_count": 109,
     "metadata": {},
     "output_type": "execute_result"
    }
   ],
   "source": [
    "693702.02 / 11.602700"
   ]
  },
  {
   "cell_type": "code",
   "execution_count": 133,
   "metadata": {},
   "outputs": [
    {
     "data": {
      "text/plain": [
       "-27.907674661721103"
      ]
     },
     "execution_count": 133,
     "metadata": {},
     "output_type": "execute_result"
    }
   ],
   "source": [
    "# 5332668.781590816 - 5332664.99\n",
    "# 110825.29129264159 * 48.116706 - 5332551.75\n",
    "59787.48492556383 * 11.60406 - 693805.47\n",
    "# 693707.6537400943 - 693679.75"
   ]
  },
  {
   "cell_type": "code",
   "execution_count": 136,
   "metadata": {},
   "outputs": [
    {
     "data": {
      "text/plain": [
       "172764.07248195633"
      ]
     },
     "execution_count": 136,
     "metadata": {},
     "output_type": "execute_result"
    }
   ],
   "source": [
    "# 5332551.75 = MetersPerLat * 48.116706 + offsetNorthing\n",
    "# 5332664.99 = MetersPerLat * 48.117762 + offsetNorthing\n",
    "# (5332551.75 - 5332664.99) / (48.116706 - 48.117762)\n",
    "# MetersPerLat = 107234.84848522348\n",
    "5332551.75 - 107234.84848522348 * 48.116706\n",
    "# 5332664.99 - 107234.84848522348 * 48.117762\n",
    "# offsetNorthing = 172764.07248195633"
   ]
  },
  {
   "cell_type": "code",
   "execution_count": 140,
   "metadata": {},
   "outputs": [
    {
     "data": {
      "text/plain": [
       "-197919.72755410383"
      ]
     },
     "execution_count": 140,
     "metadata": {},
     "output_type": "execute_result"
    }
   ],
   "source": [
    "# 693679.75 = MetersPerLong * 11.602424 + offsetEasting\n",
    "# 693805.47 = MetersPerLong * 11.60406 + offsetEasting\n",
    "# (693679.75 - 693805.47) / (11.602424 - 11.60406)\n",
    "# MetersPerLong = 76845.96577009287\n",
    "# 693679.75 - 76845.96577009287 * 11.602424\n",
    "# 693805.47 - 76845.96577009287 * 11.60406\n",
    "# offsetEasting = -197919.72755410383"
   ]
  },
  {
   "cell_type": "code",
   "execution_count": 148,
   "metadata": {},
   "outputs": [
    {
     "data": {
      "text/plain": [
       "-2.640871211886406"
      ]
     },
     "execution_count": 148,
     "metadata": {},
     "output_type": "execute_result"
    }
   ],
   "source": [
    "# 5332580.917878788 - 5332578.94\n",
    "5332662.309128788 - 5332664.95\n",
    "# 693763.4352567237 - 693760.88"
   ]
  },
  {
   "cell_type": "code",
   "execution_count": 152,
   "metadata": {},
   "outputs": [
    {
     "data": {
      "text/plain": [
       "693712.7169193155"
      ]
     },
     "execution_count": 152,
     "metadata": {},
     "output_type": "execute_result"
    }
   ],
   "source": [
    "# 76845.96577009287 * 11.603513 - 197919.72755410383\n",
    "# 48.116978 * 107234.84848522348 + 172764.0724819563\n",
    "11.602853 * 76845.96577009287 -197919.72755410383"
   ]
  },
  {
   "cell_type": "code",
   "execution_count": 153,
   "metadata": {},
   "outputs": [
    {
     "data": {
      "text/plain": [
       "1.90308068448212"
      ]
     },
     "execution_count": 153,
     "metadata": {},
     "output_type": "execute_result"
    }
   ],
   "source": [
    "693714.62 - 693712.7169193155"
   ]
  },
  {
   "cell_type": "code",
   "execution_count": 20,
   "metadata": {},
   "outputs": [
    {
     "ename": "TypeError",
     "evalue": "where(): argument 'input' (position 2) must be Tensor, not int",
     "output_type": "error",
     "traceback": [
      "\u001b[1;31m---------------------------------------------------------------------------\u001b[0m",
      "\u001b[1;31mTypeError\u001b[0m                                 Traceback (most recent call last)",
      "\u001b[1;32m<ipython-input-20-3f5903ffd75b>\u001b[0m in \u001b[0;36m<module>\u001b[1;34m()\u001b[0m\n\u001b[0;32m      3\u001b[0m \u001b[0mv\u001b[0m \u001b[1;33m=\u001b[0m \u001b[0mv\u001b[0m\u001b[1;33m.\u001b[0m\u001b[0mview\u001b[0m\u001b[1;33m(\u001b[0m\u001b[1;36m3\u001b[0m\u001b[1;33m,\u001b[0m \u001b[1;36m3\u001b[0m\u001b[1;33m)\u001b[0m\u001b[1;33m\u001b[0m\u001b[0m\n\u001b[0;32m      4\u001b[0m \u001b[0mt\u001b[0m \u001b[1;33m=\u001b[0m \u001b[0mtorch\u001b[0m\u001b[1;33m.\u001b[0m\u001b[0mtranspose\u001b[0m\u001b[1;33m(\u001b[0m\u001b[0mv\u001b[0m\u001b[1;33m,\u001b[0m \u001b[1;36m0\u001b[0m\u001b[1;33m,\u001b[0m \u001b[1;36m1\u001b[0m\u001b[1;33m)\u001b[0m\u001b[1;33m\u001b[0m\u001b[0m\n\u001b[1;32m----> 5\u001b[1;33m \u001b[0mtorch\u001b[0m\u001b[1;33m.\u001b[0m\u001b[0mwhere\u001b[0m\u001b[1;33m(\u001b[0m\u001b[0mv\u001b[0m\u001b[1;33m,\u001b[0m \u001b[1;36m5\u001b[0m\u001b[1;33m)\u001b[0m\u001b[1;33m\u001b[0m\u001b[0m\n\u001b[0m",
      "\u001b[1;31mTypeError\u001b[0m: where(): argument 'input' (position 2) must be Tensor, not int"
     ]
    }
   ],
   "source": [
    "import torch\n",
    "v = torch.arange(9)\n",
    "v = v.view(3, 3)\n",
    "t = torch.transpose(v, 0, 1)\n",
    "torch.where(v, 5)"
   ]
  },
  {
   "cell_type": "code",
   "execution_count": 28,
   "metadata": {},
   "outputs": [
    {
     "data": {
      "text/plain": [
       "0.1363079845905304"
      ]
     },
     "execution_count": 28,
     "metadata": {},
     "output_type": "execute_result"
    }
   ],
   "source": [
    "x = torch.randn(3, 2)\n",
    "y = torch.ones(3, 2)\n",
    "x\n",
    "# tensor([[-0.4620,  0.3139],\n",
    "#         [ 0.3898, -0.7197],\n",
    "#         [ 0.0478, -0.1657]])\n",
    "torch.where(x > 0, x, y)\n",
    "# tensor([[ 1.0000,  0.3139],\n",
    "#         [ 0.3898,  1.0000],\n",
    "#         [ 0.0478,  1.0000]])\n",
    "float(torch.max(x).data)"
   ]
  },
  {
   "cell_type": "code",
   "execution_count": 39,
   "metadata": {},
   "outputs": [
    {
     "data": {
      "text/plain": [
       "1.0"
      ]
     },
     "execution_count": 39,
     "metadata": {},
     "output_type": "execute_result"
    }
   ],
   "source": [
    "import numpy as np\n",
    "a = np.zeros((20, 5))"
   ]
  },
  {
   "cell_type": "code",
   "execution_count": 56,
   "metadata": {},
   "outputs": [
    {
     "data": {
      "text/plain": [
       "11.0"
      ]
     },
     "execution_count": 56,
     "metadata": {},
     "output_type": "execute_result"
    }
   ],
   "source": [
    "a[tuple([0, 0])] += 1\n",
    "a[0, 0]"
   ]
  },
  {
   "cell_type": "code",
   "execution_count": 57,
   "metadata": {},
   "outputs": [
    {
     "name": "stdout",
     "output_type": "stream",
     "text": [
      "[[11.  3.  3.  3.  3.]\n",
      " [ 0.  0.  0.  0.  0.]\n",
      " [ 0.  0.  0.  0.  0.]\n",
      " [ 0.  0.  0.  0.  0.]\n",
      " [ 0.  0.  0.  0.  0.]\n",
      " [ 0.  0.  0.  0.  0.]\n",
      " [ 0.  0.  0.  0.  0.]\n",
      " [ 0.  0.  0.  0.  0.]\n",
      " [ 0.  0.  0.  0.  0.]\n",
      " [ 0.  0.  0.  0.  0.]\n",
      " [ 0.  0.  0.  0.  0.]\n",
      " [ 0.  0.  0.  0.  0.]\n",
      " [ 0.  0.  0.  0.  0.]\n",
      " [ 0.  0.  0.  0.  0.]\n",
      " [ 0.  0.  0.  0.  0.]\n",
      " [ 0.  0.  0.  0.  0.]\n",
      " [ 0.  0.  0.  0.  0.]\n",
      " [ 0.  0.  0.  0.  0.]\n",
      " [ 0.  0.  0.  0.  0.]\n",
      " [ 0.  0.  0.  0.  0.]]\n"
     ]
    }
   ],
   "source": [
    "print(a)"
   ]
  },
  {
   "cell_type": "code",
   "execution_count": 48,
   "metadata": {},
   "outputs": [
    {
     "data": {
      "text/plain": [
       "<Figure size 640x480 with 1 Axes>"
      ]
     },
     "metadata": {},
     "output_type": "display_data"
    },
    {
     "data": {
      "text/plain": [
       "<Figure size 640x480 with 1 Axes>"
      ]
     },
     "metadata": {},
     "output_type": "display_data"
    }
   ],
   "source": [
    "t = np.array([[0, 1, 2], [1, 2, 3], [3, 2, 1]])\n",
    "import matplotlib.pyplot as plt\n",
    "plt.imshow(t)\n",
    "plt.show()\n",
    "plt.imshow(t, interpolation='nearest')\n",
    "plt.show()"
   ]
  },
  {
   "cell_type": "code",
   "execution_count": 49,
   "metadata": {},
   "outputs": [],
   "source": [
    "plt.show()"
   ]
  },
  {
   "cell_type": "code",
   "execution_count": 58,
   "metadata": {},
   "outputs": [
    {
     "data": {
      "image/png": "[encoded data removed]",
      "text/plain": [
       "<Figure size 432x230.4 with 3 Axes>"
      ]
     },
     "metadata": {
      "needs_background": "light"
     },
     "output_type": "display_data"
    }
   ],
   "source": [
    "import numpy as np\n",
    "import matplotlib.pyplot as plt\n",
    "\n",
    "H = np.array([[1, 2, 3, 4],\n",
    "              [5, 6, 7, 8],\n",
    "              [9, 10, 11, 12],\n",
    "              [13, 14, 15, 16]])  # added some commas and array creation code\n",
    "\n",
    "fig = plt.figure(figsize=(6, 3.2))\n",
    "\n",
    "ax = fig.add_subplot(111)\n",
    "ax.set_title('colorMap')\n",
    "plt.imshow(H)\n",
    "ax.set_aspect('equal')\n",
    "\n",
    "cax = fig.add_axes([0.12, 0.1, 0.78, 0.8])\n",
    "cax.get_xaxis().set_visible(False)\n",
    "cax.get_yaxis().set_visible(False)\n",
    "cax.patch.set_alpha(0)\n",
    "cax.set_frame_on(False)\n",
    "plt.colorbar(orientation='vertical')\n",
    "plt.show()"
   ]
  },
  {
   "cell_type": "code",
   "execution_count": 63,
   "metadata": {},
   "outputs": [],
   "source": [
    "# define the colormap\n",
    "cmap = plt.cm.jet\n",
    "# extract all colors from the .jet map\n",
    "cmaplist = [cmap(i) for i in range(cmap.N)]\n",
    "# force the first color entry to be grey\n",
    "cmaplist[0] = (.5,.5,.5,1.0)\n",
    "# create the new map\n",
    "cmap = cmap.from_list('Custom cmap', cmaplist, cmap.N)"
   ]
  },
  {
   "cell_type": "code",
   "execution_count": 65,
   "metadata": {},
   "outputs": [
    {
     "data": {
      "image/png": "[encoded data removed]",
      "text/plain": [
       "<Figure size 432x288 with 2 Axes>"
      ]
     },
     "metadata": {
      "needs_background": "light"
     },
     "output_type": "display_data"
    }
   ],
   "source": [
    "t = np.array([[0, 1, 2], [1, 2, 3], [3, 2, 1]])\n",
    "import matplotlib.pyplot as plt\n",
    "# plt.imshow(t)\n",
    "# plt.show()\n",
    "plt.imshow(t, cmap=cmap, interpolation='nearest')\n",
    "cb = mpl.colorbar.ColorbarBase(ax2, cmap=cmap, norm=norm, spacing='proportional', ticks=bounds, boundaries=bounds, format='%1i')\n",
    "\n",
    "plt.colorbar(cmap=cmap, orientation='vertical')\n",
    "plt.show()"
   ]
  },
  {
   "cell_type": "code",
   "execution_count": 78,
   "metadata": {},
   "outputs": [
    {
     "name": "stdout",
     "output_type": "stream",
     "text": [
      "np.max(t) = 3\n"
     ]
    },
    {
     "data": {
      "text/plain": [
       "Text(0,0.5,'occurence')"
      ]
     },
     "execution_count": 78,
     "metadata": {},
     "output_type": "execute_result"
    },
    {
     "data": {
      "image/png": "[encoded data removed]",
      "text/plain": [
       "<Figure size 432x432 with 2 Axes>"
      ]
     },
     "metadata": {
      "needs_background": "light"
     },
     "output_type": "display_data"
    }
   ],
   "source": [
    "# setup the plot\n",
    "fig, ax = plt.subplots(1, 1, figsize=(6, 6))\n",
    "\n",
    "# define the data\n",
    "t = np.array([[0, 1, 2], [1, 0, 3], [3, 2, 1]])\n",
    "\n",
    "# define the colormap\n",
    "cmap = plt.cm.jet\n",
    "# extract all colors from the .jet map\n",
    "cmaplist = [cmap(i) for i in range(cmap.N)]\n",
    "# force the first color entry to be grey\n",
    "cmaplist[0] = (.5, .5, .5, 1.0)\n",
    "# create the new map\n",
    "cmap = cmap.from_list('Custom cmap', cmaplist, cmap.N)\n",
    "\n",
    "# define the bins and normalize\n",
    "print(\"np.max(t) = {}\".format(np.max(t)))\n",
    "bounds = np.linspace(0, np.max(t), 21)\n",
    "import matplotlib as mpl\n",
    "norm = mpl.colors.BoundaryNorm(bounds, cmap.N)\n",
    "\n",
    "# make the scatter\n",
    "# scat = ax.scatter(x,y,c=tag,s=np.random.randint(100,500,20),cmap=cmap, norm=norm)\n",
    "plt.imshow(t, cmap=cmap, interpolation='nearest')\n",
    "\n",
    "# create a second axes for the colorbar\n",
    "ax2 = fig.add_axes([0.95, 0.1, 0.03, 0.8])\n",
    "cb = mpl.colorbar.ColorbarBase(\n",
    "    ax2, cmap=cmap, norm=norm, spacing='proportional', ticks=bounds, boundaries=bounds, format='%1i')\n",
    "\n",
    "ax.set_title('')\n",
    "ax2.set_ylabel('occurence', size=12)"
   ]
  },
  {
   "cell_type": "code",
   "execution_count": 83,
   "metadata": {},
   "outputs": [
    {
     "name": "stdout",
     "output_type": "stream",
     "text": [
      "b\n",
      "g\n",
      "r\n",
      "c\n"
     ]
    }
   ],
   "source": []
  },
  {
   "cell_type": "code",
   "execution_count": null,
   "metadata": {},
   "outputs": [],
   "source": []
  }
 ],
 "metadata": {
  "kernelspec": {
   "display_name": "drlnd",
   "language": "python",
   "name": "drlnd"
  },
  "language_info": {
   "codemirror_mode": {
    "name": "ipython",
    "version": 3
   },
   "file_extension": ".py",
   "mimetype": "text/x-python",
   "name": "python",
   "nbconvert_exporter": "python",
   "pygments_lexer": "ipython3",
   "version": "3.6.6"
  }
 },
 "nbformat": 4,
 "nbformat_minor": 2
}
