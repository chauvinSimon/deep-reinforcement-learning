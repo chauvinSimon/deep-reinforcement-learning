{
 "cells": [
  {
   "cell_type": "markdown",
   "metadata": {},
   "source": [
    "Debug tools"
   ]
  },
  {
   "cell_type": "code",
   "execution_count": null,
   "metadata": {},
   "outputs": [],
   "source": [
    "# monitor progress - flush espilon\n",
    "print(\"\\rEpisode {}/{} || Best average reward {} - agent.epsilon = {}\".format(i_episode, num_episodes, best_avg_reward, agent.epsilon), end=\"\")\n",
    "sys.stdout.flush()"
   ]
  },
  {
   "cell_type": "code",
   "execution_count": null,
   "metadata": {},
   "outputs": [],
   "source": [
    "# For TD - avg_scores (window) with deque\n",
    "from collections import deque\n",
    "    # monitor performance\n",
    "    tmp_scores = deque(maxlen=plot_every)     # deque for keeping track of scores\n",
    "    avg_scores = deque(maxlen=num_episodes)   # average scores over every plot_every episodes\n",
    "    score = 0\n",
    "    \n",
    "    # in the loop\n",
    "    score += reward                                   # add reward to agent's score\n",
    "    # when terminated\n",
    "    tmp_scores.append(score)    # append score\n",
    "    if (i_episode % plot_every == 0):\n",
    "        avg_scores.append(np.mean(tmp_scores))\n",
    "\n",
    "# plot performance\n",
    "plt.plot(np.linspace(0,num_episodes,len(avg_scores),endpoint=False), np.asarray(avg_scores))\n",
    "plt.xlabel('Episode Number')\n",
    "plt.ylabel('Average Reward (Over Next %d Episodes)' % plot_every)\n",
    "plt.show()\n",
    "# print best 100-episode performance\n",
    "print(('Best Average Reward over %d Episodes: ' % plot_every), np.max(avg_scores))"
   ]
  },
  {
   "cell_type": "code",
   "execution_count": null,
   "metadata": {},
   "outputs": [],
   "source": [
    "# Use Value Function\n",
    "# first convert Q to V\n",
    "V_sarsa = ([np.max(Q_sarsa[key]) if key in Q_sarsa else 0 for key in np.arange(48)])\n",
    "print(V_sarsa)\n",
    "# For a specific state (e.g. the one just before the end), we know the value (= Reward)\n",
    "expected_V_last_but_one = +10\n",
    "print(V_sarsa[last_but_one] vs expected_V_last_but_one)"
   ]
  }
 ],
 "metadata": {
  "kernelspec": {
   "display_name": "drlnd",
   "language": "python",
   "name": "drlnd"
  },
  "language_info": {
   "codemirror_mode": {
    "name": "ipython",
    "version": 3
   },
   "file_extension": ".py",
   "mimetype": "text/x-python",
   "name": "python",
   "nbconvert_exporter": "python",
   "pygments_lexer": "ipython3",
   "version": "3.6.6"
  }
 },
 "nbformat": 4,
 "nbformat_minor": 2
}
